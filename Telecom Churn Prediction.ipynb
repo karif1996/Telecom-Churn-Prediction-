{
 "cells": [
  {
   "cell_type": "code",
   "execution_count": 539,
   "metadata": {
    "_cell_guid": "b1076dfc-b9ad-4769-8c92-a6c4dae69d19",
    "_uuid": "8f2839f25d086af736a60e9eeb907d3b93b6e0e5",
    "execution": {
     "iopub.execute_input": "2022-05-02T17:55:48.746212Z",
     "iopub.status.busy": "2022-05-02T17:55:48.745485Z",
     "iopub.status.idle": "2022-05-02T17:55:49.46171Z",
     "shell.execute_reply": "2022-05-02T17:55:49.460922Z",
     "shell.execute_reply.started": "2022-05-02T17:55:48.746089Z"
    }
   },
   "outputs": [],
   "source": [
    "# This Python 3 environment comes with many helpful analytics libraries installed\n",
    "# It is defined by the kaggle/python Docker image: https://github.com/kaggle/docker-python\n",
    "# For example, here's several helpful packages to load\n",
    "\n",
    "import numpy as np # linear algebra\n",
    "import pandas as pd # data processing, CSV file I/O (e.g. pd.read_csv)\n",
    "import re\n",
    "import os\n",
    "\n",
    "### For installing missingno library, type this command in terminal\n",
    "#pip install missingno\n",
    "\n",
    "import missingno as msno\n",
    "\n",
    "#Plotting\n",
    "import matplotlib.pyplot as plt\n",
    "from mpl_toolkits.mplot3d import Axes3D\n",
    "import seaborn as sns\n",
    "\n",
    "#Others\n",
    "import warnings\n",
    "warnings.filterwarnings('ignore')\n",
    "\n",
    "%matplotlib inline\n",
    "\n",
    "\n",
    "# Input data files are available in the read-only \"../input/\" directory\n",
    "# For example, running this (by clicking run or pressing Shift+Enter) will list all files under the input directory\n",
    "\n",
    "#Sklearn\n",
    "from sklearn.impute import SimpleImputer\n",
    "from sklearn.preprocessing import StandardScaler\n",
    "from sklearn.model_selection import train_test_split\n",
    "from sklearn.ensemble import RandomForestClassifier\n",
    "from sklearn.decomposition import PCA\n",
    "from sklearn.manifold import TSNE\n",
    "from sklearn.linear_model import LogisticRegression\n",
    "from sklearn.pipeline import Pipeline\n",
    "from sklearn.model_selection import GridSearchCV\n",
    "from sklearn.metrics import confusion_matrix, precision_score, recall_score\n",
    "# You can write up to 20GB to the current directory (/kaggle/working/) that gets preserved as output when you create a version using \"Save & Run All\" \n",
    "# You can also write temporary files to /kaggle/temp/, but they won't be saved outside of the current session"
   ]
  },
  {
   "cell_type": "code",
   "execution_count": 540,
   "metadata": {
    "execution": {
     "iopub.execute_input": "2022-05-02T17:55:49.727777Z",
     "iopub.status.busy": "2022-05-02T17:55:49.727395Z",
     "iopub.status.idle": "2022-05-02T17:55:52.172172Z",
     "shell.execute_reply": "2022-05-02T17:55:52.171262Z",
     "shell.execute_reply.started": "2022-05-02T17:55:49.727728Z"
    }
   },
   "outputs": [
    {
     "name": "stdout",
     "output_type": "stream",
     "text": [
      "(69999, 172)\n",
      "(30000, 171)\n",
      "(30000, 2)\n",
      "(36, 2)\n"
     ]
    }
   ],
   "source": [
    "data = pd.read_csv(\"train.csv\")\n",
    "unseen = pd.read_csv(\"test.csv\")\n",
    "sample = pd.read_csv(\"sample.csv\")\n",
    "data_dict = pd.read_csv(\"data_dictionary.csv\")\n",
    "\n",
    "print(data.shape)\n",
    "print(unseen.shape)\n",
    "print(sample.shape)\n",
    "print(data_dict.shape)"
   ]
  },
  {
   "cell_type": "code",
   "execution_count": 541,
   "metadata": {
    "execution": {
     "iopub.execute_input": "2022-05-02T17:55:52.175002Z",
     "iopub.status.busy": "2022-05-02T17:55:52.174448Z",
     "iopub.status.idle": "2022-05-02T17:55:53.244915Z",
     "shell.execute_reply": "2022-05-02T17:55:53.243397Z",
     "shell.execute_reply.started": "2022-05-02T17:55:52.174949Z"
    }
   },
   "outputs": [
    {
     "name": "stdout",
     "output_type": "stream",
     "text": [
      "   id  circle_id  loc_og_t2o_mou  std_og_t2o_mou  loc_ic_t2o_mou  \\\n",
      "0   0        109             0.0             0.0             0.0   \n",
      "1   1        109             0.0             0.0             0.0   \n",
      "2   2        109             0.0             0.0             0.0   \n",
      "3   3        109             0.0             0.0             0.0   \n",
      "4   4        109             0.0             0.0             0.0   \n",
      "\n",
      "  last_date_of_month_6 last_date_of_month_7 last_date_of_month_8   arpu_6  \\\n",
      "0            6/30/2014            7/31/2014            8/31/2014   31.277   \n",
      "1            6/30/2014            7/31/2014            8/31/2014    0.000   \n",
      "2            6/30/2014            7/31/2014            8/31/2014   60.806   \n",
      "3            6/30/2014            7/31/2014            8/31/2014  156.362   \n",
      "4            6/30/2014            7/31/2014            8/31/2014  240.708   \n",
      "\n",
      "    arpu_7  ...  sachet_3g_7  sachet_3g_8  fb_user_6  fb_user_7  fb_user_8  \\\n",
      "0   87.009  ...            0            0        NaN        NaN        NaN   \n",
      "1  122.787  ...            0            0        NaN        1.0        NaN   \n",
      "2  103.176  ...            0            0        NaN        NaN        NaN   \n",
      "3  205.260  ...            0            0        NaN        NaN        NaN   \n",
      "4  128.191  ...            1            0        1.0        1.0        1.0   \n",
      "\n",
      "    aon  aug_vbc_3g  jul_vbc_3g  jun_vbc_3g  churn_probability  \n",
      "0  1958         0.0         0.0         0.0                  0  \n",
      "1   710         0.0         0.0         0.0                  0  \n",
      "2   882         0.0         0.0         0.0                  0  \n",
      "3   982         0.0         0.0         0.0                  0  \n",
      "4   647         0.0         0.0         0.0                  0  \n",
      "\n",
      "[5 rows x 172 columns]\n",
      "                  id  circle_id  loc_og_t2o_mou  std_og_t2o_mou  \\\n",
      "count   69999.000000    69999.0         69297.0         69297.0   \n",
      "unique           NaN        NaN             NaN             NaN   \n",
      "top              NaN        NaN             NaN             NaN   \n",
      "freq             NaN        NaN             NaN             NaN   \n",
      "mean    34999.000000      109.0             0.0             0.0   \n",
      "std     20207.115084        0.0             0.0             0.0   \n",
      "min         0.000000      109.0             0.0             0.0   \n",
      "25%     17499.500000      109.0             0.0             0.0   \n",
      "50%     34999.000000      109.0             0.0             0.0   \n",
      "75%     52498.500000      109.0             0.0             0.0   \n",
      "max     69998.000000      109.0             0.0             0.0   \n",
      "\n",
      "        loc_ic_t2o_mou last_date_of_month_6 last_date_of_month_7  \\\n",
      "count          69297.0                69999                69600   \n",
      "unique             NaN                    1                    1   \n",
      "top                NaN            6/30/2014            7/31/2014   \n",
      "freq               NaN                69999                69600   \n",
      "mean               0.0                  NaN                  NaN   \n",
      "std                0.0                  NaN                  NaN   \n",
      "min                0.0                  NaN                  NaN   \n",
      "25%                0.0                  NaN                  NaN   \n",
      "50%                0.0                  NaN                  NaN   \n",
      "75%                0.0                  NaN                  NaN   \n",
      "max                0.0                  NaN                  NaN   \n",
      "\n",
      "       last_date_of_month_8        arpu_6        arpu_7  ...   sachet_3g_7  \\\n",
      "count                 69266  69999.000000  69999.000000  ...  69999.000000   \n",
      "unique                    1           NaN           NaN  ...           NaN   \n",
      "top               8/31/2014           NaN           NaN  ...           NaN   \n",
      "freq                  69266           NaN           NaN  ...           NaN   \n",
      "mean                    NaN    283.134365    278.185912  ...      0.081444   \n",
      "std                     NaN    334.213918    344.366927  ...      0.634547   \n",
      "min                     NaN  -2258.709000  -1289.715000  ...      0.000000   \n",
      "25%                     NaN     93.581000     86.714000  ...      0.000000   \n",
      "50%                     NaN    197.484000    191.588000  ...      0.000000   \n",
      "75%                     NaN    370.791000    365.369500  ...      0.000000   \n",
      "max                     NaN  27731.088000  35145.834000  ...     33.000000   \n",
      "\n",
      "         sachet_3g_8     fb_user_6     fb_user_7     fb_user_8           aon  \\\n",
      "count   69999.000000  17568.000000  17865.000000  18417.000000  69999.000000   \n",
      "unique           NaN           NaN           NaN           NaN           NaN   \n",
      "top              NaN           NaN           NaN           NaN           NaN   \n",
      "freq             NaN           NaN           NaN           NaN           NaN   \n",
      "mean        0.085487      0.916325      0.909544      0.890319   1220.639709   \n",
      "std         0.680035      0.276907      0.286842      0.312501    952.426321   \n",
      "min         0.000000      0.000000      0.000000      0.000000    180.000000   \n",
      "25%         0.000000      1.000000      1.000000      1.000000    468.000000   \n",
      "50%         0.000000      1.000000      1.000000      1.000000    868.000000   \n",
      "75%         0.000000      1.000000      1.000000      1.000000   1813.000000   \n",
      "max        41.000000      1.000000      1.000000      1.000000   4337.000000   \n",
      "\n",
      "          aug_vbc_3g    jul_vbc_3g   jun_vbc_3g  churn_probability  \n",
      "count   69999.000000  69999.000000  69999.00000       69999.000000  \n",
      "unique           NaN           NaN          NaN                NaN  \n",
      "top              NaN           NaN          NaN                NaN  \n",
      "freq             NaN           NaN          NaN                NaN  \n",
      "mean       68.108597     65.935830     60.07674           0.101887  \n",
      "std       269.328659    267.899034    257.22681           0.302502  \n",
      "min         0.000000      0.000000      0.00000           0.000000  \n",
      "25%         0.000000      0.000000      0.00000           0.000000  \n",
      "50%         0.000000      0.000000      0.00000           0.000000  \n",
      "75%         0.000000      0.000000      0.00000           0.000000  \n",
      "max     12916.220000   9165.600000  11166.21000           1.000000  \n",
      "\n",
      "[11 rows x 172 columns]\n",
      "<class 'pandas.core.frame.DataFrame'>\n",
      "RangeIndex: 69999 entries, 0 to 69998\n",
      "Data columns (total 172 columns):\n",
      " #    Column                    Dtype  \n",
      "---   ------                    -----  \n",
      " 0    id                        int64  \n",
      " 1    circle_id                 int64  \n",
      " 2    loc_og_t2o_mou            float64\n",
      " 3    std_og_t2o_mou            float64\n",
      " 4    loc_ic_t2o_mou            float64\n",
      " 5    last_date_of_month_6      object \n",
      " 6    last_date_of_month_7      object \n",
      " 7    last_date_of_month_8      object \n",
      " 8    arpu_6                    float64\n",
      " 9    arpu_7                    float64\n",
      " 10   arpu_8                    float64\n",
      " 11   onnet_mou_6               float64\n",
      " 12   onnet_mou_7               float64\n",
      " 13   onnet_mou_8               float64\n",
      " 14   offnet_mou_6              float64\n",
      " 15   offnet_mou_7              float64\n",
      " 16   offnet_mou_8              float64\n",
      " 17   roam_ic_mou_6             float64\n",
      " 18   roam_ic_mou_7             float64\n",
      " 19   roam_ic_mou_8             float64\n",
      " 20   roam_og_mou_6             float64\n",
      " 21   roam_og_mou_7             float64\n",
      " 22   roam_og_mou_8             float64\n",
      " 23   loc_og_t2t_mou_6          float64\n",
      " 24   loc_og_t2t_mou_7          float64\n",
      " 25   loc_og_t2t_mou_8          float64\n",
      " 26   loc_og_t2m_mou_6          float64\n",
      " 27   loc_og_t2m_mou_7          float64\n",
      " 28   loc_og_t2m_mou_8          float64\n",
      " 29   loc_og_t2f_mou_6          float64\n",
      " 30   loc_og_t2f_mou_7          float64\n",
      " 31   loc_og_t2f_mou_8          float64\n",
      " 32   loc_og_t2c_mou_6          float64\n",
      " 33   loc_og_t2c_mou_7          float64\n",
      " 34   loc_og_t2c_mou_8          float64\n",
      " 35   loc_og_mou_6              float64\n",
      " 36   loc_og_mou_7              float64\n",
      " 37   loc_og_mou_8              float64\n",
      " 38   std_og_t2t_mou_6          float64\n",
      " 39   std_og_t2t_mou_7          float64\n",
      " 40   std_og_t2t_mou_8          float64\n",
      " 41   std_og_t2m_mou_6          float64\n",
      " 42   std_og_t2m_mou_7          float64\n",
      " 43   std_og_t2m_mou_8          float64\n",
      " 44   std_og_t2f_mou_6          float64\n",
      " 45   std_og_t2f_mou_7          float64\n",
      " 46   std_og_t2f_mou_8          float64\n",
      " 47   std_og_t2c_mou_6          float64\n",
      " 48   std_og_t2c_mou_7          float64\n",
      " 49   std_og_t2c_mou_8          float64\n",
      " 50   std_og_mou_6              float64\n",
      " 51   std_og_mou_7              float64\n",
      " 52   std_og_mou_8              float64\n",
      " 53   isd_og_mou_6              float64\n",
      " 54   isd_og_mou_7              float64\n",
      " 55   isd_og_mou_8              float64\n",
      " 56   spl_og_mou_6              float64\n",
      " 57   spl_og_mou_7              float64\n",
      " 58   spl_og_mou_8              float64\n",
      " 59   og_others_6               float64\n",
      " 60   og_others_7               float64\n",
      " 61   og_others_8               float64\n",
      " 62   total_og_mou_6            float64\n",
      " 63   total_og_mou_7            float64\n",
      " 64   total_og_mou_8            float64\n",
      " 65   loc_ic_t2t_mou_6          float64\n",
      " 66   loc_ic_t2t_mou_7          float64\n",
      " 67   loc_ic_t2t_mou_8          float64\n",
      " 68   loc_ic_t2m_mou_6          float64\n",
      " 69   loc_ic_t2m_mou_7          float64\n",
      " 70   loc_ic_t2m_mou_8          float64\n",
      " 71   loc_ic_t2f_mou_6          float64\n",
      " 72   loc_ic_t2f_mou_7          float64\n",
      " 73   loc_ic_t2f_mou_8          float64\n",
      " 74   loc_ic_mou_6              float64\n",
      " 75   loc_ic_mou_7              float64\n",
      " 76   loc_ic_mou_8              float64\n",
      " 77   std_ic_t2t_mou_6          float64\n",
      " 78   std_ic_t2t_mou_7          float64\n",
      " 79   std_ic_t2t_mou_8          float64\n",
      " 80   std_ic_t2m_mou_6          float64\n",
      " 81   std_ic_t2m_mou_7          float64\n",
      " 82   std_ic_t2m_mou_8          float64\n",
      " 83   std_ic_t2f_mou_6          float64\n",
      " 84   std_ic_t2f_mou_7          float64\n",
      " 85   std_ic_t2f_mou_8          float64\n",
      " 86   std_ic_t2o_mou_6          float64\n",
      " 87   std_ic_t2o_mou_7          float64\n",
      " 88   std_ic_t2o_mou_8          float64\n",
      " 89   std_ic_mou_6              float64\n",
      " 90   std_ic_mou_7              float64\n",
      " 91   std_ic_mou_8              float64\n",
      " 92   total_ic_mou_6            float64\n",
      " 93   total_ic_mou_7            float64\n",
      " 94   total_ic_mou_8            float64\n",
      " 95   spl_ic_mou_6              float64\n",
      " 96   spl_ic_mou_7              float64\n",
      " 97   spl_ic_mou_8              float64\n",
      " 98   isd_ic_mou_6              float64\n",
      " 99   isd_ic_mou_7              float64\n",
      " 100  isd_ic_mou_8              float64\n",
      " 101  ic_others_6               float64\n",
      " 102  ic_others_7               float64\n",
      " 103  ic_others_8               float64\n",
      " 104  total_rech_num_6          int64  \n",
      " 105  total_rech_num_7          int64  \n",
      " 106  total_rech_num_8          int64  \n",
      " 107  total_rech_amt_6          int64  \n",
      " 108  total_rech_amt_7          int64  \n",
      " 109  total_rech_amt_8          int64  \n",
      " 110  max_rech_amt_6            int64  \n",
      " 111  max_rech_amt_7            int64  \n",
      " 112  max_rech_amt_8            int64  \n",
      " 113  date_of_last_rech_6       object \n",
      " 114  date_of_last_rech_7       object \n",
      " 115  date_of_last_rech_8       object \n",
      " 116  last_day_rch_amt_6        int64  \n",
      " 117  last_day_rch_amt_7        int64  \n",
      " 118  last_day_rch_amt_8        int64  \n",
      " 119  date_of_last_rech_data_6  object \n",
      " 120  date_of_last_rech_data_7  object \n",
      " 121  date_of_last_rech_data_8  object \n",
      " 122  total_rech_data_6         float64\n",
      " 123  total_rech_data_7         float64\n",
      " 124  total_rech_data_8         float64\n",
      " 125  max_rech_data_6           float64\n",
      " 126  max_rech_data_7           float64\n",
      " 127  max_rech_data_8           float64\n",
      " 128  count_rech_2g_6           float64\n",
      " 129  count_rech_2g_7           float64\n",
      " 130  count_rech_2g_8           float64\n",
      " 131  count_rech_3g_6           float64\n",
      " 132  count_rech_3g_7           float64\n",
      " 133  count_rech_3g_8           float64\n",
      " 134  av_rech_amt_data_6        float64\n",
      " 135  av_rech_amt_data_7        float64\n",
      " 136  av_rech_amt_data_8        float64\n",
      " 137  vol_2g_mb_6               float64\n",
      " 138  vol_2g_mb_7               float64\n",
      " 139  vol_2g_mb_8               float64\n",
      " 140  vol_3g_mb_6               float64\n",
      " 141  vol_3g_mb_7               float64\n",
      " 142  vol_3g_mb_8               float64\n",
      " 143  arpu_3g_6                 float64\n",
      " 144  arpu_3g_7                 float64\n",
      " 145  arpu_3g_8                 float64\n",
      " 146  arpu_2g_6                 float64\n",
      " 147  arpu_2g_7                 float64\n",
      " 148  arpu_2g_8                 float64\n",
      " 149  night_pck_user_6          float64\n",
      " 150  night_pck_user_7          float64\n",
      " 151  night_pck_user_8          float64\n",
      " 152  monthly_2g_6              int64  \n",
      " 153  monthly_2g_7              int64  \n",
      " 154  monthly_2g_8              int64  \n",
      " 155  sachet_2g_6               int64  \n",
      " 156  sachet_2g_7               int64  \n",
      " 157  sachet_2g_8               int64  \n",
      " 158  monthly_3g_6              int64  \n",
      " 159  monthly_3g_7              int64  \n",
      " 160  monthly_3g_8              int64  \n",
      " 161  sachet_3g_6               int64  \n",
      " 162  sachet_3g_7               int64  \n",
      " 163  sachet_3g_8               int64  \n",
      " 164  fb_user_6                 float64\n",
      " 165  fb_user_7                 float64\n",
      " 166  fb_user_8                 float64\n",
      " 167  aon                       int64  \n",
      " 168  aug_vbc_3g                float64\n",
      " 169  jul_vbc_3g                float64\n",
      " 170  jun_vbc_3g                float64\n",
      " 171  churn_probability         int64  \n",
      "dtypes: float64(135), int64(28), object(9)\n",
      "memory usage: 91.9+ MB\n",
      "None\n"
     ]
    }
   ],
   "source": [
    "print(data.head())\n",
    "print(data.describe(include=\"all\"))\n",
    "print(data.info(verbose=1))"
   ]
  },
  {
   "cell_type": "code",
   "execution_count": 542,
   "metadata": {
    "execution": {
     "iopub.execute_input": "2022-05-02T17:55:53.247081Z",
     "iopub.status.busy": "2022-05-02T17:55:53.246711Z",
     "iopub.status.idle": "2022-05-02T17:55:53.31279Z",
     "shell.execute_reply": "2022-05-02T17:55:53.311706Z",
     "shell.execute_reply.started": "2022-05-02T17:55:53.247033Z"
    }
   },
   "outputs": [],
   "source": [
    "# create backup of data\n",
    "original = data.copy()"
   ]
  },
  {
   "cell_type": "code",
   "execution_count": 543,
   "metadata": {
    "execution": {
     "iopub.execute_input": "2022-05-02T17:55:53.315595Z",
     "iopub.status.busy": "2022-05-02T17:55:53.31529Z",
     "iopub.status.idle": "2022-05-02T17:55:53.334555Z",
     "shell.execute_reply": "2022-05-02T17:55:53.333367Z",
     "shell.execute_reply.started": "2022-05-02T17:55:53.315563Z"
    }
   },
   "outputs": [
    {
     "data": {
      "text/plain": [
       "array([ 0., nan])"
      ]
     },
     "execution_count": 543,
     "metadata": {},
     "output_type": "execute_result"
    }
   ],
   "source": [
    "data['circle_id'].unique()\n",
    "data['loc_og_t2o_mou'].unique()\n",
    "data['std_og_t2o_mou'].unique()\n",
    "data['loc_ic_t2o_mou'].unique()\n",
    "data['std_og_t2c_mou_6'].unique()\n",
    "data['std_og_t2c_mou_7'].unique()\n",
    "data['std_og_t2c_mou_8'].unique()\n",
    "data['std_ic_t2o_mou_6'].unique()\n",
    "data['std_ic_t2o_mou_7'].unique()\n",
    "data['std_ic_t2o_mou_8'].unique()"
   ]
  },
  {
   "cell_type": "code",
   "execution_count": 544,
   "metadata": {
    "execution": {
     "iopub.execute_input": "2022-05-02T17:55:53.336133Z",
     "iopub.status.busy": "2022-05-02T17:55:53.335883Z",
     "iopub.status.idle": "2022-05-02T17:55:53.34172Z",
     "shell.execute_reply": "2022-05-02T17:55:53.340679Z",
     "shell.execute_reply.started": "2022-05-02T17:55:53.336103Z"
    }
   },
   "outputs": [],
   "source": [
    "unwantedcols=['circle_id','loc_og_t2o_mou','std_og_t2o_mou','loc_ic_t2o_mou','std_og_t2c_mou_6','std_og_t2c_mou_7','std_og_t2c_mou_8','std_ic_t2o_mou_6','std_ic_t2o_mou_7','std_ic_t2o_mou_8','last_date_of_month_6', 'last_date_of_month_7', 'last_date_of_month_8']"
   ]
  },
  {
   "cell_type": "code",
   "execution_count": 545,
   "metadata": {
    "execution": {
     "iopub.execute_input": "2022-05-02T17:55:53.343864Z",
     "iopub.status.busy": "2022-05-02T17:55:53.343204Z",
     "iopub.status.idle": "2022-05-02T17:55:53.425234Z",
     "shell.execute_reply": "2022-05-02T17:55:53.424026Z",
     "shell.execute_reply.started": "2022-05-02T17:55:53.343822Z"
    }
   },
   "outputs": [
    {
     "name": "stdout",
     "output_type": "stream",
     "text": [
      "(69999, 159)\n",
      "(30000, 158)\n"
     ]
    }
   ],
   "source": [
    "data.drop(labels=unwantedcols,axis=1,inplace=True)\n",
    "unseen.drop(labels=unwantedcols,axis=1,inplace=True)\n",
    "print(data.shape)\n",
    "print(unseen.shape)\n"
   ]
  },
  {
   "cell_type": "code",
   "execution_count": 546,
   "metadata": {
    "execution": {
     "iopub.execute_input": "2022-05-02T17:55:53.427075Z",
     "iopub.status.busy": "2022-05-02T17:55:53.426755Z",
     "iopub.status.idle": "2022-05-02T17:55:53.43717Z",
     "shell.execute_reply": "2022-05-02T17:55:53.436229Z",
     "shell.execute_reply.started": "2022-05-02T17:55:53.427031Z"
    }
   },
   "outputs": [
    {
     "name": "stdout",
     "output_type": "stream",
     "text": [
      "#ID cols: 1\n",
      "#Date cols:6\n",
      "#Numeric cols:147\n",
      "#Category cols:6\n",
      "False\n"
     ]
    }
   ],
   "source": [
    "# create column name list by types of columns\n",
    "id_cols = [ 'circle_id']\n",
    "\n",
    "date_cols = [        \n",
    "             'date_of_last_rech_6',\n",
    "             'date_of_last_rech_7',\n",
    "             'date_of_last_rech_8',\n",
    "             'date_of_last_rech_data_6',\n",
    "             'date_of_last_rech_data_7',\n",
    "             'date_of_last_rech_data_8',\n",
    "            \n",
    "            ]\n",
    "\n",
    "cat_cols =  ['night_pck_user_6',\n",
    "             'night_pck_user_7',\n",
    "             'night_pck_user_8',\n",
    "             'fb_user_6',\n",
    "             'fb_user_7',\n",
    "             'fb_user_8',\n",
    "             ]\n",
    "\n",
    "num_cols = [column for column in data.columns if column not in id_cols + date_cols + cat_cols]\n",
    "\n",
    "# print the number of columns in each list\n",
    "print(\"#ID cols: %d\\n#Date cols:%d\\n#Numeric cols:%d\\n#Category cols:%d\" % (len(id_cols), len(date_cols), len(num_cols), len(cat_cols)))\n",
    "\n",
    "# check if we have missed any column or not\n",
    "print(len(id_cols) + len(date_cols) + len(num_cols) + len(cat_cols) == data.shape[1])\n",
    "#"
   ]
  },
  {
   "cell_type": "markdown",
   "metadata": {},
   "source": [
    "#  Handling missing values"
   ]
  },
  {
   "cell_type": "markdown",
   "metadata": {},
   "source": [
    "# impute missing values"
   ]
  },
  {
   "cell_type": "markdown",
   "metadata": {},
   "source": [
    "i) Imputing with zeroes"
   ]
  },
  {
   "cell_type": "code",
   "execution_count": 547,
   "metadata": {
    "execution": {
     "iopub.execute_input": "2022-05-02T17:55:53.439734Z",
     "iopub.status.busy": "2022-05-02T17:55:53.43872Z",
     "iopub.status.idle": "2022-05-02T17:55:53.579124Z",
     "shell.execute_reply": "2022-05-02T17:55:53.578124Z",
     "shell.execute_reply.started": "2022-05-02T17:55:53.439689Z"
    }
   },
   "outputs": [
    {
     "data": {
      "text/html": [
       "<div>\n",
       "<style scoped>\n",
       "    .dataframe tbody tr th:only-of-type {\n",
       "        vertical-align: middle;\n",
       "    }\n",
       "\n",
       "    .dataframe tbody tr th {\n",
       "        vertical-align: top;\n",
       "    }\n",
       "\n",
       "    .dataframe thead th {\n",
       "        text-align: right;\n",
       "    }\n",
       "</style>\n",
       "<table border=\"1\" class=\"dataframe\">\n",
       "  <thead>\n",
       "    <tr style=\"text-align: right;\">\n",
       "      <th></th>\n",
       "      <th>total_rech_data_6</th>\n",
       "      <th>total_rech_data_7</th>\n",
       "      <th>total_rech_data_8</th>\n",
       "      <th>count_rech_2g_6</th>\n",
       "      <th>count_rech_2g_7</th>\n",
       "      <th>count_rech_2g_8</th>\n",
       "      <th>count_rech_3g_6</th>\n",
       "      <th>count_rech_3g_7</th>\n",
       "      <th>count_rech_3g_8</th>\n",
       "      <th>max_rech_data_6</th>\n",
       "      <th>max_rech_data_7</th>\n",
       "      <th>max_rech_data_8</th>\n",
       "      <th>av_rech_amt_data_6</th>\n",
       "      <th>av_rech_amt_data_7</th>\n",
       "      <th>av_rech_amt_data_8</th>\n",
       "    </tr>\n",
       "  </thead>\n",
       "  <tbody>\n",
       "    <tr>\n",
       "      <th>count</th>\n",
       "      <td>17568.000000</td>\n",
       "      <td>17865.000000</td>\n",
       "      <td>18417.000000</td>\n",
       "      <td>17568.000000</td>\n",
       "      <td>17865.000000</td>\n",
       "      <td>18417.000000</td>\n",
       "      <td>17568.000000</td>\n",
       "      <td>17865.000000</td>\n",
       "      <td>18417.000000</td>\n",
       "      <td>17568.000000</td>\n",
       "      <td>17865.000000</td>\n",
       "      <td>18417.000000</td>\n",
       "      <td>17568.000000</td>\n",
       "      <td>17865.000000</td>\n",
       "      <td>18417.000000</td>\n",
       "    </tr>\n",
       "    <tr>\n",
       "      <th>mean</th>\n",
       "      <td>2.467612</td>\n",
       "      <td>2.679989</td>\n",
       "      <td>2.652441</td>\n",
       "      <td>1.865323</td>\n",
       "      <td>2.056311</td>\n",
       "      <td>2.016018</td>\n",
       "      <td>0.602288</td>\n",
       "      <td>0.623678</td>\n",
       "      <td>0.636423</td>\n",
       "      <td>126.500000</td>\n",
       "      <td>126.402071</td>\n",
       "      <td>125.374925</td>\n",
       "      <td>192.831096</td>\n",
       "      <td>201.455940</td>\n",
       "      <td>196.815792</td>\n",
       "    </tr>\n",
       "    <tr>\n",
       "      <th>std</th>\n",
       "      <td>2.794610</td>\n",
       "      <td>3.073472</td>\n",
       "      <td>3.101265</td>\n",
       "      <td>2.566377</td>\n",
       "      <td>2.799916</td>\n",
       "      <td>2.728246</td>\n",
       "      <td>1.279297</td>\n",
       "      <td>1.401230</td>\n",
       "      <td>1.457058</td>\n",
       "      <td>109.352573</td>\n",
       "      <td>109.459266</td>\n",
       "      <td>109.648799</td>\n",
       "      <td>190.623115</td>\n",
       "      <td>198.346141</td>\n",
       "      <td>192.280532</td>\n",
       "    </tr>\n",
       "    <tr>\n",
       "      <th>min</th>\n",
       "      <td>1.000000</td>\n",
       "      <td>1.000000</td>\n",
       "      <td>1.000000</td>\n",
       "      <td>0.000000</td>\n",
       "      <td>0.000000</td>\n",
       "      <td>0.000000</td>\n",
       "      <td>0.000000</td>\n",
       "      <td>0.000000</td>\n",
       "      <td>0.000000</td>\n",
       "      <td>1.000000</td>\n",
       "      <td>1.000000</td>\n",
       "      <td>1.000000</td>\n",
       "      <td>1.000000</td>\n",
       "      <td>1.000000</td>\n",
       "      <td>1.000000</td>\n",
       "    </tr>\n",
       "    <tr>\n",
       "      <th>25%</th>\n",
       "      <td>1.000000</td>\n",
       "      <td>1.000000</td>\n",
       "      <td>1.000000</td>\n",
       "      <td>1.000000</td>\n",
       "      <td>1.000000</td>\n",
       "      <td>1.000000</td>\n",
       "      <td>0.000000</td>\n",
       "      <td>0.000000</td>\n",
       "      <td>0.000000</td>\n",
       "      <td>25.000000</td>\n",
       "      <td>25.000000</td>\n",
       "      <td>25.000000</td>\n",
       "      <td>82.000000</td>\n",
       "      <td>92.000000</td>\n",
       "      <td>84.000000</td>\n",
       "    </tr>\n",
       "    <tr>\n",
       "      <th>50%</th>\n",
       "      <td>1.000000</td>\n",
       "      <td>2.000000</td>\n",
       "      <td>1.000000</td>\n",
       "      <td>1.000000</td>\n",
       "      <td>1.000000</td>\n",
       "      <td>1.000000</td>\n",
       "      <td>0.000000</td>\n",
       "      <td>0.000000</td>\n",
       "      <td>0.000000</td>\n",
       "      <td>145.000000</td>\n",
       "      <td>145.000000</td>\n",
       "      <td>145.000000</td>\n",
       "      <td>154.000000</td>\n",
       "      <td>154.000000</td>\n",
       "      <td>154.000000</td>\n",
       "    </tr>\n",
       "    <tr>\n",
       "      <th>75%</th>\n",
       "      <td>3.000000</td>\n",
       "      <td>3.000000</td>\n",
       "      <td>3.000000</td>\n",
       "      <td>2.000000</td>\n",
       "      <td>2.000000</td>\n",
       "      <td>2.000000</td>\n",
       "      <td>1.000000</td>\n",
       "      <td>1.000000</td>\n",
       "      <td>1.000000</td>\n",
       "      <td>177.000000</td>\n",
       "      <td>177.000000</td>\n",
       "      <td>179.000000</td>\n",
       "      <td>252.000000</td>\n",
       "      <td>252.000000</td>\n",
       "      <td>252.000000</td>\n",
       "    </tr>\n",
       "    <tr>\n",
       "      <th>max</th>\n",
       "      <td>61.000000</td>\n",
       "      <td>54.000000</td>\n",
       "      <td>60.000000</td>\n",
       "      <td>42.000000</td>\n",
       "      <td>48.000000</td>\n",
       "      <td>44.000000</td>\n",
       "      <td>29.000000</td>\n",
       "      <td>34.000000</td>\n",
       "      <td>45.000000</td>\n",
       "      <td>1555.000000</td>\n",
       "      <td>1555.000000</td>\n",
       "      <td>1555.000000</td>\n",
       "      <td>5920.000000</td>\n",
       "      <td>4365.000000</td>\n",
       "      <td>4076.000000</td>\n",
       "    </tr>\n",
       "  </tbody>\n",
       "</table>\n",
       "</div>"
      ],
      "text/plain": [
       "       total_rech_data_6  total_rech_data_7  total_rech_data_8  \\\n",
       "count       17568.000000       17865.000000       18417.000000   \n",
       "mean            2.467612           2.679989           2.652441   \n",
       "std             2.794610           3.073472           3.101265   \n",
       "min             1.000000           1.000000           1.000000   \n",
       "25%             1.000000           1.000000           1.000000   \n",
       "50%             1.000000           2.000000           1.000000   \n",
       "75%             3.000000           3.000000           3.000000   \n",
       "max            61.000000          54.000000          60.000000   \n",
       "\n",
       "       count_rech_2g_6  count_rech_2g_7  count_rech_2g_8  count_rech_3g_6  \\\n",
       "count     17568.000000     17865.000000     18417.000000     17568.000000   \n",
       "mean          1.865323         2.056311         2.016018         0.602288   \n",
       "std           2.566377         2.799916         2.728246         1.279297   \n",
       "min           0.000000         0.000000         0.000000         0.000000   \n",
       "25%           1.000000         1.000000         1.000000         0.000000   \n",
       "50%           1.000000         1.000000         1.000000         0.000000   \n",
       "75%           2.000000         2.000000         2.000000         1.000000   \n",
       "max          42.000000        48.000000        44.000000        29.000000   \n",
       "\n",
       "       count_rech_3g_7  count_rech_3g_8  max_rech_data_6  max_rech_data_7  \\\n",
       "count     17865.000000     18417.000000     17568.000000     17865.000000   \n",
       "mean          0.623678         0.636423       126.500000       126.402071   \n",
       "std           1.401230         1.457058       109.352573       109.459266   \n",
       "min           0.000000         0.000000         1.000000         1.000000   \n",
       "25%           0.000000         0.000000        25.000000        25.000000   \n",
       "50%           0.000000         0.000000       145.000000       145.000000   \n",
       "75%           1.000000         1.000000       177.000000       177.000000   \n",
       "max          34.000000        45.000000      1555.000000      1555.000000   \n",
       "\n",
       "       max_rech_data_8  av_rech_amt_data_6  av_rech_amt_data_7  \\\n",
       "count     18417.000000        17568.000000        17865.000000   \n",
       "mean        125.374925          192.831096          201.455940   \n",
       "std         109.648799          190.623115          198.346141   \n",
       "min           1.000000            1.000000            1.000000   \n",
       "25%          25.000000           82.000000           92.000000   \n",
       "50%         145.000000          154.000000          154.000000   \n",
       "75%         179.000000          252.000000          252.000000   \n",
       "max        1555.000000         5920.000000         4365.000000   \n",
       "\n",
       "       av_rech_amt_data_8  \n",
       "count        18417.000000  \n",
       "mean           196.815792  \n",
       "std            192.280532  \n",
       "min              1.000000  \n",
       "25%             84.000000  \n",
       "50%            154.000000  \n",
       "75%            252.000000  \n",
       "max           4076.000000  "
      ]
     },
     "execution_count": 547,
     "metadata": {},
     "output_type": "execute_result"
    }
   ],
   "source": [
    "# some recharge columns have minimum value of 1 while some don't\n",
    "recharge_cols = ['total_rech_data_6', 'total_rech_data_7', 'total_rech_data_8', \n",
    "                 'count_rech_2g_6', 'count_rech_2g_7', 'count_rech_2g_8', \n",
    "                 'count_rech_3g_6', 'count_rech_3g_7', 'count_rech_3g_8', \n",
    "                 'max_rech_data_6', 'max_rech_data_7', 'max_rech_data_8', \n",
    "                 'av_rech_amt_data_6', 'av_rech_amt_data_7', 'av_rech_amt_data_8', \n",
    "                 ]\n",
    "data[recharge_cols].describe(include='all')"
   ]
  },
  {
   "cell_type": "code",
   "execution_count": 548,
   "metadata": {
    "execution": {
     "iopub.execute_input": "2022-05-02T17:55:53.581482Z",
     "iopub.status.busy": "2022-05-02T17:55:53.581221Z",
     "iopub.status.idle": "2022-05-02T17:55:53.63487Z",
     "shell.execute_reply": "2022-05-02T17:55:53.633974Z",
     "shell.execute_reply.started": "2022-05-02T17:55:53.581446Z"
    }
   },
   "outputs": [
    {
     "data": {
      "text/html": [
       "<div>\n",
       "<style scoped>\n",
       "    .dataframe tbody tr th:only-of-type {\n",
       "        vertical-align: middle;\n",
       "    }\n",
       "\n",
       "    .dataframe tbody tr th {\n",
       "        vertical-align: top;\n",
       "    }\n",
       "\n",
       "    .dataframe thead th {\n",
       "        text-align: right;\n",
       "    }\n",
       "</style>\n",
       "<table border=\"1\" class=\"dataframe\">\n",
       "  <thead>\n",
       "    <tr style=\"text-align: right;\">\n",
       "      <th></th>\n",
       "      <th>total_rech_data_6</th>\n",
       "      <th>date_of_last_rech_data_6</th>\n",
       "    </tr>\n",
       "  </thead>\n",
       "  <tbody>\n",
       "    <tr>\n",
       "      <th>0</th>\n",
       "      <td>NaN</td>\n",
       "      <td>NaN</td>\n",
       "    </tr>\n",
       "    <tr>\n",
       "      <th>1</th>\n",
       "      <td>NaN</td>\n",
       "      <td>NaN</td>\n",
       "    </tr>\n",
       "    <tr>\n",
       "      <th>2</th>\n",
       "      <td>NaN</td>\n",
       "      <td>NaN</td>\n",
       "    </tr>\n",
       "    <tr>\n",
       "      <th>3</th>\n",
       "      <td>NaN</td>\n",
       "      <td>NaN</td>\n",
       "    </tr>\n",
       "    <tr>\n",
       "      <th>5</th>\n",
       "      <td>NaN</td>\n",
       "      <td>NaN</td>\n",
       "    </tr>\n",
       "    <tr>\n",
       "      <th>6</th>\n",
       "      <td>NaN</td>\n",
       "      <td>NaN</td>\n",
       "    </tr>\n",
       "    <tr>\n",
       "      <th>8</th>\n",
       "      <td>NaN</td>\n",
       "      <td>NaN</td>\n",
       "    </tr>\n",
       "    <tr>\n",
       "      <th>9</th>\n",
       "      <td>NaN</td>\n",
       "      <td>NaN</td>\n",
       "    </tr>\n",
       "    <tr>\n",
       "      <th>11</th>\n",
       "      <td>NaN</td>\n",
       "      <td>NaN</td>\n",
       "    </tr>\n",
       "    <tr>\n",
       "      <th>12</th>\n",
       "      <td>NaN</td>\n",
       "      <td>NaN</td>\n",
       "    </tr>\n",
       "    <tr>\n",
       "      <th>13</th>\n",
       "      <td>NaN</td>\n",
       "      <td>NaN</td>\n",
       "    </tr>\n",
       "    <tr>\n",
       "      <th>14</th>\n",
       "      <td>NaN</td>\n",
       "      <td>NaN</td>\n",
       "    </tr>\n",
       "    <tr>\n",
       "      <th>17</th>\n",
       "      <td>NaN</td>\n",
       "      <td>NaN</td>\n",
       "    </tr>\n",
       "    <tr>\n",
       "      <th>18</th>\n",
       "      <td>NaN</td>\n",
       "      <td>NaN</td>\n",
       "    </tr>\n",
       "    <tr>\n",
       "      <th>19</th>\n",
       "      <td>NaN</td>\n",
       "      <td>NaN</td>\n",
       "    </tr>\n",
       "    <tr>\n",
       "      <th>20</th>\n",
       "      <td>NaN</td>\n",
       "      <td>NaN</td>\n",
       "    </tr>\n",
       "    <tr>\n",
       "      <th>21</th>\n",
       "      <td>NaN</td>\n",
       "      <td>NaN</td>\n",
       "    </tr>\n",
       "    <tr>\n",
       "      <th>22</th>\n",
       "      <td>NaN</td>\n",
       "      <td>NaN</td>\n",
       "    </tr>\n",
       "    <tr>\n",
       "      <th>23</th>\n",
       "      <td>NaN</td>\n",
       "      <td>NaN</td>\n",
       "    </tr>\n",
       "    <tr>\n",
       "      <th>25</th>\n",
       "      <td>NaN</td>\n",
       "      <td>NaN</td>\n",
       "    </tr>\n",
       "  </tbody>\n",
       "</table>\n",
       "</div>"
      ],
      "text/plain": [
       "    total_rech_data_6 date_of_last_rech_data_6\n",
       "0                 NaN                      NaN\n",
       "1                 NaN                      NaN\n",
       "2                 NaN                      NaN\n",
       "3                 NaN                      NaN\n",
       "5                 NaN                      NaN\n",
       "6                 NaN                      NaN\n",
       "8                 NaN                      NaN\n",
       "9                 NaN                      NaN\n",
       "11                NaN                      NaN\n",
       "12                NaN                      NaN\n",
       "13                NaN                      NaN\n",
       "14                NaN                      NaN\n",
       "17                NaN                      NaN\n",
       "18                NaN                      NaN\n",
       "19                NaN                      NaN\n",
       "20                NaN                      NaN\n",
       "21                NaN                      NaN\n",
       "22                NaN                      NaN\n",
       "23                NaN                      NaN\n",
       "25                NaN                      NaN"
      ]
     },
     "execution_count": 548,
     "metadata": {},
     "output_type": "execute_result"
    }
   ],
   "source": [
    "# It is also observed that the recharge date and the recharge value are missing together which means the customer didn't recharge\n",
    "data.loc[data.total_rech_data_6.isnull() & data.date_of_last_rech_data_6.isnull(), [\"total_rech_data_6\", \"date_of_last_rech_data_6\"]].head(20)"
   ]
  },
  {
   "cell_type": "markdown",
   "metadata": {},
   "source": [
    "In the recharge variables where minumum value is 1, we can impute missing values with zeroes since it means customer didn't recharge their numbere that month."
   ]
  },
  {
   "cell_type": "code",
   "execution_count": 549,
   "metadata": {
    "execution": {
     "iopub.execute_input": "2022-05-02T17:55:54.100274Z",
     "iopub.status.busy": "2022-05-02T17:55:54.099951Z",
     "iopub.status.idle": "2022-05-02T17:55:54.107102Z",
     "shell.execute_reply": "2022-05-02T17:55:54.106354Z",
     "shell.execute_reply.started": "2022-05-02T17:55:54.100243Z"
    }
   },
   "outputs": [
    {
     "name": "stdout",
     "output_type": "stream",
     "text": [
      "Index(['total_rech_amt_6', 'total_rech_amt_7', 'total_rech_amt_8',\n",
      "       'max_rech_amt_6', 'max_rech_amt_7', 'max_rech_amt_8',\n",
      "       'date_of_last_rech_data_6', 'date_of_last_rech_data_7',\n",
      "       'date_of_last_rech_data_8', 'total_rech_data_6', 'total_rech_data_7',\n",
      "       'total_rech_data_8', 'max_rech_data_6', 'max_rech_data_7',\n",
      "       'max_rech_data_8', 'av_rech_amt_data_6', 'av_rech_amt_data_7',\n",
      "       'av_rech_amt_data_8'],\n",
      "      dtype='object')\n"
     ]
    }
   ],
   "source": [
    "#impute missing values# Let us first extract list of columns containing recharge amount\n",
    "amt_recharge_columns =  data.columns[data.columns.str.contains('rech_amt|rech_data')]\n",
    "print(amt_recharge_columns)"
   ]
  },
  {
   "cell_type": "code",
   "execution_count": 550,
   "metadata": {
    "execution": {
     "iopub.execute_input": "2022-05-02T17:55:54.409329Z",
     "iopub.status.busy": "2022-05-02T17:55:54.408865Z",
     "iopub.status.idle": "2022-05-02T17:55:54.4146Z",
     "shell.execute_reply": "2022-05-02T17:55:54.413607Z",
     "shell.execute_reply.started": "2022-05-02T17:55:54.409264Z"
    }
   },
   "outputs": [],
   "source": [
    "#In the recharge variables where minumum value is 1, we can impute missing values with zeroes since it means customer didn't recharge their numbere that month.\n",
    "\n",
    "# create a list of recharge columns where we will impute missing values with zeroes\n",
    "zero_impute = ['total_rech_amt_6', 'total_rech_amt_7', 'total_rech_amt_8',\n",
    "       'max_rech_amt_6', 'max_rech_amt_7', 'max_rech_amt_8',\n",
    "       'date_of_last_rech_data_6', 'date_of_last_rech_data_7',\n",
    "       'date_of_last_rech_data_8', 'total_rech_data_6', 'total_rech_data_7',\n",
    "       'total_rech_data_8', 'max_rech_data_6', 'max_rech_data_7',\n",
    "       'max_rech_data_8', 'av_rech_amt_data_6', 'av_rech_amt_data_7',\n",
    "       'av_rech_amt_data_8'\n",
    "       ]"
   ]
  },
  {
   "cell_type": "code",
   "execution_count": 551,
   "metadata": {
    "execution": {
     "iopub.execute_input": "2022-05-02T17:55:54.970609Z",
     "iopub.status.busy": "2022-05-02T17:55:54.970036Z",
     "iopub.status.idle": "2022-05-02T17:55:55.022878Z",
     "shell.execute_reply": "2022-05-02T17:55:55.021389Z",
     "shell.execute_reply.started": "2022-05-02T17:55:54.970575Z"
    }
   },
   "outputs": [],
   "source": [
    "# impute missing values with 0\n",
    "data[zero_impute] = data[zero_impute].apply(lambda x: x.fillna(0))"
   ]
  },
  {
   "cell_type": "code",
   "execution_count": 552,
   "metadata": {
    "execution": {
     "iopub.execute_input": "2022-05-02T17:55:55.494641Z",
     "iopub.status.busy": "2022-05-02T17:55:55.494347Z",
     "iopub.status.idle": "2022-05-02T17:55:55.515921Z",
     "shell.execute_reply": "2022-05-02T17:55:55.514889Z",
     "shell.execute_reply.started": "2022-05-02T17:55:55.494611Z"
    }
   },
   "outputs": [],
   "source": [
    "data['total_rech_amt_6'] = data['total_rech_amt_6'].replace(np.NaN,0.0)\n",
    "data['total_rech_amt_7'] = data['total_rech_amt_7'].replace(np.NaN,0.0)\n",
    "data['total_rech_amt_8'] = data['total_rech_amt_8'].replace(np.NaN,0.0)\n",
    "data['max_rech_amt_6'] = data['max_rech_amt_6'].replace(np.NaN,0.0)\n",
    "data['max_rech_amt_7'] = data['max_rech_amt_7'].replace(np.NaN,0.0)\n",
    "data['max_rech_amt_8'] = data['max_rech_amt_8'].replace(np.NaN,0.0)\n",
    "\n",
    "data['total_rech_data_6'] = data['total_rech_data_6'].replace(np.NaN,0.0)\n",
    "data['total_rech_data_7'] = data['total_rech_data_7'].replace(np.NaN,0.0)\n",
    "data['total_rech_data_8'] = data['total_rech_data_8'].replace(np.NaN,0.0)\n",
    "\n",
    "data['max_rech_data_6'] = data['max_rech_data_6'].replace(np.NaN,0.0)\n",
    "data['max_rech_data_7'] = data['max_rech_data_7'].replace(np.NaN,0.0)\n",
    "data['max_rech_data_8'] = data['max_rech_data_8'].replace(np.NaN,0.0)\n",
    "\n",
    "data['av_rech_amt_data_6'] = data['av_rech_amt_data_6'].replace(np.NaN,0.0)\n",
    "data['av_rech_amt_data_7'] = data['av_rech_amt_data_7'].replace(np.NaN,0.0)\n",
    "data['av_rech_amt_data_8'] = data['av_rech_amt_data_8'].replace(np.NaN,0.0)"
   ]
  },
  {
   "cell_type": "code",
   "execution_count": 553,
   "metadata": {},
   "outputs": [
    {
     "name": "stdout",
     "output_type": "stream",
     "text": [
      "Missing value ratio:\n",
      "\n",
      "total_rech_amt_6            0.0\n",
      "total_rech_amt_7            0.0\n",
      "total_rech_amt_8            0.0\n",
      "max_rech_amt_6              0.0\n",
      "max_rech_amt_7              0.0\n",
      "max_rech_amt_8              0.0\n",
      "date_of_last_rech_data_6    0.0\n",
      "date_of_last_rech_data_7    0.0\n",
      "date_of_last_rech_data_8    0.0\n",
      "total_rech_data_6           0.0\n",
      "total_rech_data_7           0.0\n",
      "total_rech_data_8           0.0\n",
      "max_rech_data_6             0.0\n",
      "max_rech_data_7             0.0\n",
      "max_rech_data_8             0.0\n",
      "av_rech_amt_data_6          0.0\n",
      "av_rech_amt_data_7          0.0\n",
      "av_rech_amt_data_8          0.0\n",
      "dtype: float64\n",
      "\n",
      "\n",
      "Summary statistics\n",
      "\n",
      "        total_rech_amt_6  total_rech_amt_7  total_rech_amt_8  max_rech_amt_6  \\\n",
      "count       69999.000000      69999.000000      69999.000000    69999.000000   \n",
      "unique               NaN               NaN               NaN             NaN   \n",
      "top                  NaN               NaN               NaN             NaN   \n",
      "freq                 NaN               NaN               NaN             NaN   \n",
      "mean          328.139788        322.376363        323.846355      104.569265   \n",
      "std           404.211068        411.070120        426.181405      121.407701   \n",
      "min             0.000000          0.000000          0.000000        0.000000   \n",
      "25%           110.000000        100.000000         90.000000       30.000000   \n",
      "50%           229.000000        220.000000        225.000000      110.000000   \n",
      "75%           438.000000        430.000000        436.000000      120.000000   \n",
      "max         35190.000000      40335.000000      45320.000000     4010.000000   \n",
      "\n",
      "        max_rech_amt_7  max_rech_amt_8  date_of_last_rech_data_6  \\\n",
      "count     69999.000000    69999.000000                   69999.0   \n",
      "unique             NaN             NaN                      31.0   \n",
      "top                NaN             NaN                       0.0   \n",
      "freq               NaN             NaN                   52431.0   \n",
      "mean        104.137573      107.540351                       NaN   \n",
      "std         120.782543      124.396750                       NaN   \n",
      "min           0.000000        0.000000                       NaN   \n",
      "25%          30.000000       30.000000                       NaN   \n",
      "50%         110.000000       98.000000                       NaN   \n",
      "75%         128.000000      144.000000                       NaN   \n",
      "max        3299.000000     4449.000000                       NaN   \n",
      "\n",
      "        date_of_last_rech_data_7  date_of_last_rech_data_8  total_rech_data_6  \\\n",
      "count                    69999.0                   69999.0       69999.000000   \n",
      "unique                      32.0                      32.0                NaN   \n",
      "top                          0.0                       0.0                NaN   \n",
      "freq                     52134.0                   51582.0                NaN   \n",
      "mean                         NaN                       NaN           0.619309   \n",
      "std                          NaN                       NaN           1.762010   \n",
      "min                          NaN                       NaN           0.000000   \n",
      "25%                          NaN                       NaN           0.000000   \n",
      "50%                          NaN                       NaN           0.000000   \n",
      "75%                          NaN                       NaN           1.000000   \n",
      "max                          NaN                       NaN          61.000000   \n",
      "\n",
      "        total_rech_data_7  total_rech_data_8  max_rech_data_6  \\\n",
      "count        69999.000000       69999.000000     69999.000000   \n",
      "unique                NaN                NaN              NaN   \n",
      "top                   NaN                NaN              NaN   \n",
      "freq                  NaN                NaN              NaN   \n",
      "mean             0.683981           0.697867        31.748339   \n",
      "std              1.943193           1.973434        77.519536   \n",
      "min              0.000000           0.000000         0.000000   \n",
      "25%              0.000000           0.000000         0.000000   \n",
      "50%              0.000000           0.000000         0.000000   \n",
      "75%              1.000000           1.000000         8.000000   \n",
      "max             54.000000          60.000000      1555.000000   \n",
      "\n",
      "        max_rech_data_7  max_rech_data_8  av_rech_amt_data_6  \\\n",
      "count      69999.000000     69999.000000        69999.000000   \n",
      "unique              NaN              NaN                 NaN   \n",
      "top                 NaN              NaN                 NaN   \n",
      "freq                NaN              NaN                 NaN   \n",
      "mean          32.260075        32.986614           48.395787   \n",
      "std           78.069163        78.808337          126.923180   \n",
      "min            0.000000         0.000000            0.000000   \n",
      "25%            0.000000         0.000000            0.000000   \n",
      "50%            0.000000         0.000000            0.000000   \n",
      "75%           14.000000        17.000000            8.000000   \n",
      "max         1555.000000      1555.000000         5920.000000   \n",
      "\n",
      "        av_rech_amt_data_7  av_rech_amt_data_8  \n",
      "count         69999.000000        69999.000000  \n",
      "unique                 NaN                 NaN  \n",
      "top                    NaN                 NaN  \n",
      "freq                   NaN                 NaN  \n",
      "mean             51.415168           51.782975  \n",
      "std             133.246541          131.291162  \n",
      "min               0.000000            0.000000  \n",
      "25%               0.000000            0.000000  \n",
      "50%               0.000000            0.000000  \n",
      "75%              17.000000           23.000000  \n",
      "max            4365.000000         4076.000000  \n"
     ]
    }
   ],
   "source": [
    "# now, let's make sure values are imputed correctly\n",
    "print(\"Missing value ratio:\\n\")\n",
    "print(data[zero_impute].isnull().sum()*100/data.shape[1])\n",
    "\n",
    "# summary\n",
    "print(\"\\n\\nSummary statistics\\n\")\n",
    "print(data[zero_impute].describe(include='all'))"
   ]
  },
  {
   "cell_type": "code",
   "execution_count": 554,
   "metadata": {
    "execution": {
     "iopub.execute_input": "2022-05-02T17:55:56.416484Z",
     "iopub.status.busy": "2022-05-02T17:55:56.415817Z",
     "iopub.status.idle": "2022-05-02T17:55:56.436798Z",
     "shell.execute_reply": "2022-05-02T17:55:56.436203Z",
     "shell.execute_reply.started": "2022-05-02T17:55:56.416449Z"
    }
   },
   "outputs": [
    {
     "data": {
      "text/html": [
       "<div>\n",
       "<style scoped>\n",
       "    .dataframe tbody tr th:only-of-type {\n",
       "        vertical-align: middle;\n",
       "    }\n",
       "\n",
       "    .dataframe tbody tr th {\n",
       "        vertical-align: top;\n",
       "    }\n",
       "\n",
       "    .dataframe thead th {\n",
       "        text-align: right;\n",
       "    }\n",
       "</style>\n",
       "<table border=\"1\" class=\"dataframe\">\n",
       "  <thead>\n",
       "    <tr style=\"text-align: right;\">\n",
       "      <th></th>\n",
       "      <th>id</th>\n",
       "      <th>arpu_6</th>\n",
       "      <th>arpu_7</th>\n",
       "      <th>arpu_8</th>\n",
       "      <th>onnet_mou_6</th>\n",
       "      <th>onnet_mou_7</th>\n",
       "      <th>onnet_mou_8</th>\n",
       "      <th>offnet_mou_6</th>\n",
       "      <th>offnet_mou_7</th>\n",
       "      <th>offnet_mou_8</th>\n",
       "      <th>...</th>\n",
       "      <th>sachet_3g_7</th>\n",
       "      <th>sachet_3g_8</th>\n",
       "      <th>fb_user_6</th>\n",
       "      <th>fb_user_7</th>\n",
       "      <th>fb_user_8</th>\n",
       "      <th>aon</th>\n",
       "      <th>aug_vbc_3g</th>\n",
       "      <th>jul_vbc_3g</th>\n",
       "      <th>jun_vbc_3g</th>\n",
       "      <th>churn_probability</th>\n",
       "    </tr>\n",
       "  </thead>\n",
       "  <tbody>\n",
       "    <tr>\n",
       "      <th>count</th>\n",
       "      <td>69999.000000</td>\n",
       "      <td>69999.000000</td>\n",
       "      <td>69999.000000</td>\n",
       "      <td>69999.000000</td>\n",
       "      <td>67231.000000</td>\n",
       "      <td>67312.000000</td>\n",
       "      <td>66296.000000</td>\n",
       "      <td>67231.000000</td>\n",
       "      <td>67312.000000</td>\n",
       "      <td>66296.000000</td>\n",
       "      <td>...</td>\n",
       "      <td>69999.000000</td>\n",
       "      <td>69999.000000</td>\n",
       "      <td>17568.000000</td>\n",
       "      <td>17865.000000</td>\n",
       "      <td>18417.000000</td>\n",
       "      <td>69999.000000</td>\n",
       "      <td>69999.000000</td>\n",
       "      <td>69999.000000</td>\n",
       "      <td>69999.00000</td>\n",
       "      <td>69999.000000</td>\n",
       "    </tr>\n",
       "    <tr>\n",
       "      <th>mean</th>\n",
       "      <td>34999.000000</td>\n",
       "      <td>283.134365</td>\n",
       "      <td>278.185912</td>\n",
       "      <td>278.858826</td>\n",
       "      <td>133.153275</td>\n",
       "      <td>133.894438</td>\n",
       "      <td>132.978257</td>\n",
       "      <td>198.874771</td>\n",
       "      <td>197.153383</td>\n",
       "      <td>196.543577</td>\n",
       "      <td>...</td>\n",
       "      <td>0.081444</td>\n",
       "      <td>0.085487</td>\n",
       "      <td>0.916325</td>\n",
       "      <td>0.909544</td>\n",
       "      <td>0.890319</td>\n",
       "      <td>1220.639709</td>\n",
       "      <td>68.108597</td>\n",
       "      <td>65.935830</td>\n",
       "      <td>60.07674</td>\n",
       "      <td>0.101887</td>\n",
       "    </tr>\n",
       "    <tr>\n",
       "      <th>std</th>\n",
       "      <td>20207.115084</td>\n",
       "      <td>334.213918</td>\n",
       "      <td>344.366927</td>\n",
       "      <td>351.924315</td>\n",
       "      <td>299.963093</td>\n",
       "      <td>311.277193</td>\n",
       "      <td>311.896596</td>\n",
       "      <td>316.818355</td>\n",
       "      <td>322.482226</td>\n",
       "      <td>324.089234</td>\n",
       "      <td>...</td>\n",
       "      <td>0.634547</td>\n",
       "      <td>0.680035</td>\n",
       "      <td>0.276907</td>\n",
       "      <td>0.286842</td>\n",
       "      <td>0.312501</td>\n",
       "      <td>952.426321</td>\n",
       "      <td>269.328659</td>\n",
       "      <td>267.899034</td>\n",
       "      <td>257.22681</td>\n",
       "      <td>0.302502</td>\n",
       "    </tr>\n",
       "    <tr>\n",
       "      <th>min</th>\n",
       "      <td>0.000000</td>\n",
       "      <td>-2258.709000</td>\n",
       "      <td>-1289.715000</td>\n",
       "      <td>-945.808000</td>\n",
       "      <td>0.000000</td>\n",
       "      <td>0.000000</td>\n",
       "      <td>0.000000</td>\n",
       "      <td>0.000000</td>\n",
       "      <td>0.000000</td>\n",
       "      <td>0.000000</td>\n",
       "      <td>...</td>\n",
       "      <td>0.000000</td>\n",
       "      <td>0.000000</td>\n",
       "      <td>0.000000</td>\n",
       "      <td>0.000000</td>\n",
       "      <td>0.000000</td>\n",
       "      <td>180.000000</td>\n",
       "      <td>0.000000</td>\n",
       "      <td>0.000000</td>\n",
       "      <td>0.00000</td>\n",
       "      <td>0.000000</td>\n",
       "    </tr>\n",
       "    <tr>\n",
       "      <th>25%</th>\n",
       "      <td>17499.500000</td>\n",
       "      <td>93.581000</td>\n",
       "      <td>86.714000</td>\n",
       "      <td>84.095000</td>\n",
       "      <td>7.410000</td>\n",
       "      <td>6.675000</td>\n",
       "      <td>6.410000</td>\n",
       "      <td>34.860000</td>\n",
       "      <td>32.240000</td>\n",
       "      <td>31.575000</td>\n",
       "      <td>...</td>\n",
       "      <td>0.000000</td>\n",
       "      <td>0.000000</td>\n",
       "      <td>1.000000</td>\n",
       "      <td>1.000000</td>\n",
       "      <td>1.000000</td>\n",
       "      <td>468.000000</td>\n",
       "      <td>0.000000</td>\n",
       "      <td>0.000000</td>\n",
       "      <td>0.00000</td>\n",
       "      <td>0.000000</td>\n",
       "    </tr>\n",
       "    <tr>\n",
       "      <th>50%</th>\n",
       "      <td>34999.000000</td>\n",
       "      <td>197.484000</td>\n",
       "      <td>191.588000</td>\n",
       "      <td>192.234000</td>\n",
       "      <td>34.110000</td>\n",
       "      <td>32.280000</td>\n",
       "      <td>32.100000</td>\n",
       "      <td>96.480000</td>\n",
       "      <td>91.885000</td>\n",
       "      <td>91.800000</td>\n",
       "      <td>...</td>\n",
       "      <td>0.000000</td>\n",
       "      <td>0.000000</td>\n",
       "      <td>1.000000</td>\n",
       "      <td>1.000000</td>\n",
       "      <td>1.000000</td>\n",
       "      <td>868.000000</td>\n",
       "      <td>0.000000</td>\n",
       "      <td>0.000000</td>\n",
       "      <td>0.00000</td>\n",
       "      <td>0.000000</td>\n",
       "    </tr>\n",
       "    <tr>\n",
       "      <th>75%</th>\n",
       "      <td>52498.500000</td>\n",
       "      <td>370.791000</td>\n",
       "      <td>365.369500</td>\n",
       "      <td>369.909000</td>\n",
       "      <td>119.390000</td>\n",
       "      <td>115.837500</td>\n",
       "      <td>115.060000</td>\n",
       "      <td>232.990000</td>\n",
       "      <td>227.630000</td>\n",
       "      <td>229.345000</td>\n",
       "      <td>...</td>\n",
       "      <td>0.000000</td>\n",
       "      <td>0.000000</td>\n",
       "      <td>1.000000</td>\n",
       "      <td>1.000000</td>\n",
       "      <td>1.000000</td>\n",
       "      <td>1813.000000</td>\n",
       "      <td>0.000000</td>\n",
       "      <td>0.000000</td>\n",
       "      <td>0.00000</td>\n",
       "      <td>0.000000</td>\n",
       "    </tr>\n",
       "    <tr>\n",
       "      <th>max</th>\n",
       "      <td>69998.000000</td>\n",
       "      <td>27731.088000</td>\n",
       "      <td>35145.834000</td>\n",
       "      <td>33543.624000</td>\n",
       "      <td>7376.710000</td>\n",
       "      <td>8157.780000</td>\n",
       "      <td>10752.560000</td>\n",
       "      <td>8362.360000</td>\n",
       "      <td>7043.980000</td>\n",
       "      <td>14007.340000</td>\n",
       "      <td>...</td>\n",
       "      <td>33.000000</td>\n",
       "      <td>41.000000</td>\n",
       "      <td>1.000000</td>\n",
       "      <td>1.000000</td>\n",
       "      <td>1.000000</td>\n",
       "      <td>4337.000000</td>\n",
       "      <td>12916.220000</td>\n",
       "      <td>9165.600000</td>\n",
       "      <td>11166.21000</td>\n",
       "      <td>1.000000</td>\n",
       "    </tr>\n",
       "  </tbody>\n",
       "</table>\n",
       "<p>8 rows × 153 columns</p>\n",
       "</div>"
      ],
      "text/plain": [
       "                 id        arpu_6        arpu_7        arpu_8   onnet_mou_6  \\\n",
       "count  69999.000000  69999.000000  69999.000000  69999.000000  67231.000000   \n",
       "mean   34999.000000    283.134365    278.185912    278.858826    133.153275   \n",
       "std    20207.115084    334.213918    344.366927    351.924315    299.963093   \n",
       "min        0.000000  -2258.709000  -1289.715000   -945.808000      0.000000   \n",
       "25%    17499.500000     93.581000     86.714000     84.095000      7.410000   \n",
       "50%    34999.000000    197.484000    191.588000    192.234000     34.110000   \n",
       "75%    52498.500000    370.791000    365.369500    369.909000    119.390000   \n",
       "max    69998.000000  27731.088000  35145.834000  33543.624000   7376.710000   \n",
       "\n",
       "        onnet_mou_7   onnet_mou_8  offnet_mou_6  offnet_mou_7  offnet_mou_8  \\\n",
       "count  67312.000000  66296.000000  67231.000000  67312.000000  66296.000000   \n",
       "mean     133.894438    132.978257    198.874771    197.153383    196.543577   \n",
       "std      311.277193    311.896596    316.818355    322.482226    324.089234   \n",
       "min        0.000000      0.000000      0.000000      0.000000      0.000000   \n",
       "25%        6.675000      6.410000     34.860000     32.240000     31.575000   \n",
       "50%       32.280000     32.100000     96.480000     91.885000     91.800000   \n",
       "75%      115.837500    115.060000    232.990000    227.630000    229.345000   \n",
       "max     8157.780000  10752.560000   8362.360000   7043.980000  14007.340000   \n",
       "\n",
       "       ...   sachet_3g_7   sachet_3g_8     fb_user_6     fb_user_7  \\\n",
       "count  ...  69999.000000  69999.000000  17568.000000  17865.000000   \n",
       "mean   ...      0.081444      0.085487      0.916325      0.909544   \n",
       "std    ...      0.634547      0.680035      0.276907      0.286842   \n",
       "min    ...      0.000000      0.000000      0.000000      0.000000   \n",
       "25%    ...      0.000000      0.000000      1.000000      1.000000   \n",
       "50%    ...      0.000000      0.000000      1.000000      1.000000   \n",
       "75%    ...      0.000000      0.000000      1.000000      1.000000   \n",
       "max    ...     33.000000     41.000000      1.000000      1.000000   \n",
       "\n",
       "          fb_user_8           aon    aug_vbc_3g    jul_vbc_3g   jun_vbc_3g  \\\n",
       "count  18417.000000  69999.000000  69999.000000  69999.000000  69999.00000   \n",
       "mean       0.890319   1220.639709     68.108597     65.935830     60.07674   \n",
       "std        0.312501    952.426321    269.328659    267.899034    257.22681   \n",
       "min        0.000000    180.000000      0.000000      0.000000      0.00000   \n",
       "25%        1.000000    468.000000      0.000000      0.000000      0.00000   \n",
       "50%        1.000000    868.000000      0.000000      0.000000      0.00000   \n",
       "75%        1.000000   1813.000000      0.000000      0.000000      0.00000   \n",
       "max        1.000000   4337.000000  12916.220000   9165.600000  11166.21000   \n",
       "\n",
       "       churn_probability  \n",
       "count       69999.000000  \n",
       "mean            0.101887  \n",
       "std             0.302502  \n",
       "min             0.000000  \n",
       "25%             0.000000  \n",
       "50%             0.000000  \n",
       "75%             0.000000  \n",
       "max             1.000000  \n",
       "\n",
       "[8 rows x 153 columns]"
      ]
     },
     "execution_count": 554,
     "metadata": {},
     "output_type": "execute_result"
    }
   ],
   "source": [
    "data.describe()"
   ]
  },
  {
   "cell_type": "code",
   "execution_count": 555,
   "metadata": {
    "execution": {
     "iopub.execute_input": "2022-05-02T17:55:56.706958Z",
     "iopub.status.busy": "2022-05-02T17:55:56.706354Z",
     "iopub.status.idle": "2022-05-02T17:55:56.756936Z",
     "shell.execute_reply": "2022-05-02T17:55:56.755722Z",
     "shell.execute_reply.started": "2022-05-02T17:55:56.706925Z"
    }
   },
   "outputs": [
    {
     "name": "stdout",
     "output_type": "stream",
     "text": [
      "Shape before dropping:  (69999, 159)\n",
      "Shape after dropping data:  (69999, 153)\n",
      "Shape after dropping unseen:  (30000, 152)\n"
     ]
    }
   ],
   "source": [
    "# drop id and date columns\n",
    "print(\"Shape before dropping: \", data.shape)\n",
    "data = data.drop( date_cols, axis=1)\n",
    "print(\"Shape after dropping data: \", data.shape)\n",
    "unseen = unseen.drop( date_cols, axis=1)\n",
    "print(\"Shape after dropping unseen: \", unseen.shape)"
   ]
  },
  {
   "cell_type": "markdown",
   "metadata": {},
   "source": [
    "ii) Replace NaN values in categorical variables\n",
    "We will replace missing values in the categorical values with '-1' where '-1' will be a new category."
   ]
  },
  {
   "cell_type": "code",
   "execution_count": 556,
   "metadata": {
    "execution": {
     "iopub.execute_input": "2022-05-02T17:55:57.345959Z",
     "iopub.status.busy": "2022-05-02T17:55:57.345642Z",
     "iopub.status.idle": "2022-05-02T17:55:57.362825Z",
     "shell.execute_reply": "2022-05-02T17:55:57.362029Z",
     "shell.execute_reply.started": "2022-05-02T17:55:57.345928Z"
    }
   },
   "outputs": [],
   "source": [
    "# replace missing values with '-1' in categorical columns\n",
    "data[cat_cols] = data[cat_cols].apply(lambda x: x.fillna(-1))"
   ]
  },
  {
   "cell_type": "code",
   "execution_count": 557,
   "metadata": {
    "execution": {
     "iopub.execute_input": "2022-05-02T17:55:57.666271Z",
     "iopub.status.busy": "2022-05-02T17:55:57.665802Z",
     "iopub.status.idle": "2022-05-02T17:55:57.676953Z",
     "shell.execute_reply": "2022-05-02T17:55:57.676347Z",
     "shell.execute_reply.started": "2022-05-02T17:55:57.666235Z"
    }
   },
   "outputs": [
    {
     "name": "stdout",
     "output_type": "stream",
     "text": [
      "Missing value ratio:\n",
      "\n",
      "night_pck_user_6    0.0\n",
      "night_pck_user_7    0.0\n",
      "night_pck_user_8    0.0\n",
      "fb_user_6           0.0\n",
      "fb_user_7           0.0\n",
      "fb_user_8           0.0\n",
      "dtype: float64\n"
     ]
    }
   ],
   "source": [
    "# missing value ratio\n",
    "print(\"Missing value ratio:\\n\")\n",
    "print(data[cat_cols].isnull().sum()*100/data.shape[0])"
   ]
  },
  {
   "cell_type": "markdown",
   "metadata": {},
   "source": [
    "i) Drop variables with more than a given threshold of missing values"
   ]
  },
  {
   "cell_type": "code",
   "execution_count": 558,
   "metadata": {
    "execution": {
     "iopub.execute_input": "2022-05-02T17:55:58.163914Z",
     "iopub.status.busy": "2022-05-02T17:55:58.163483Z",
     "iopub.status.idle": "2022-05-02T17:56:01.964105Z",
     "shell.execute_reply": "2022-05-02T17:56:01.96347Z",
     "shell.execute_reply.started": "2022-05-02T17:55:58.163881Z"
    }
   },
   "outputs": [
    {
     "data": {
      "text/plain": [
       "<AxesSubplot:>"
      ]
     },
     "execution_count": 558,
     "metadata": {},
     "output_type": "execute_result"
    },
    {
     "data": {
      "image/png": "[encoded data removed]",
      "text/plain": [
       "<Figure size 1800x720 with 2 Axes>"
      ]
     },
     "metadata": {
      "needs_background": "light"
     },
     "output_type": "display_data"
    }
   ],
   "source": [
    "#msno.bar(data)\n",
    "msno.matrix(data)\n"
   ]
  },
  {
   "cell_type": "code",
   "execution_count": 559,
   "metadata": {
    "execution": {
     "iopub.execute_input": "2022-05-02T17:56:01.965853Z",
     "iopub.status.busy": "2022-05-02T17:56:01.965519Z",
     "iopub.status.idle": "2022-05-02T17:56:01.997475Z",
     "shell.execute_reply": "2022-05-02T17:56:01.9964Z",
     "shell.execute_reply.started": "2022-05-02T17:56:01.965824Z"
    }
   },
   "outputs": [
    {
     "data": {
      "text/plain": [
       "id                   0.000000\n",
       "arpu_6               0.000000\n",
       "arpu_7               0.000000\n",
       "arpu_8               0.000000\n",
       "onnet_mou_6          3.954342\n",
       "                       ...   \n",
       "aon                  0.000000\n",
       "aug_vbc_3g           0.000000\n",
       "jul_vbc_3g           0.000000\n",
       "jun_vbc_3g           0.000000\n",
       "churn_probability    0.000000\n",
       "Length: 153, dtype: float64"
      ]
     },
     "execution_count": 559,
     "metadata": {},
     "output_type": "execute_result"
    }
   ],
   "source": [
    "\n",
    "missing_data_percent = 100*data.isnull().sum()/len(data)\n",
    "missing_data_percent\n"
   ]
  },
  {
   "cell_type": "code",
   "execution_count": 560,
   "metadata": {
    "execution": {
     "iopub.execute_input": "2022-05-02T17:56:02.00138Z",
     "iopub.status.busy": "2022-05-02T17:56:02.001105Z",
     "iopub.status.idle": "2022-05-02T17:56:02.00839Z",
     "shell.execute_reply": "2022-05-02T17:56:02.007494Z",
     "shell.execute_reply.started": "2022-05-02T17:56:02.001348Z"
    }
   },
   "outputs": [
    {
     "data": {
      "text/plain": [
       "Index(['id', 'arpu_6', 'arpu_7', 'arpu_8', 'onnet_mou_6', 'onnet_mou_7',\n",
       "       'onnet_mou_8', 'offnet_mou_6', 'offnet_mou_7', 'offnet_mou_8',\n",
       "       ...\n",
       "       'sachet_3g_7', 'sachet_3g_8', 'fb_user_6', 'fb_user_7', 'fb_user_8',\n",
       "       'aon', 'aug_vbc_3g', 'jul_vbc_3g', 'jun_vbc_3g', 'churn_probability'],\n",
       "      dtype='object', length=141)"
      ]
     },
     "execution_count": 560,
     "metadata": {},
     "output_type": "execute_result"
    }
   ],
   "source": [
    "new_vars = missing_data_percent[missing_data_percent.le(40)].index\n",
    "new_vars"
   ]
  },
  {
   "cell_type": "code",
   "execution_count": 561,
   "metadata": {
    "execution": {
     "iopub.execute_input": "2022-05-02T17:56:02.011327Z",
     "iopub.status.busy": "2022-05-02T17:56:02.010816Z",
     "iopub.status.idle": "2022-05-02T17:56:02.058689Z",
     "shell.execute_reply": "2022-05-02T17:56:02.058046Z",
     "shell.execute_reply.started": "2022-05-02T17:56:02.011265Z"
    }
   },
   "outputs": [
    {
     "name": "stdout",
     "output_type": "stream",
     "text": [
      "<class 'pandas.core.frame.DataFrame'>\n",
      "RangeIndex: 69999 entries, 0 to 69998\n",
      "Data columns (total 141 columns):\n",
      " #    Column              Dtype  \n",
      "---   ------              -----  \n",
      " 0    id                  int64  \n",
      " 1    arpu_6              float64\n",
      " 2    arpu_7              float64\n",
      " 3    arpu_8              float64\n",
      " 4    onnet_mou_6         float64\n",
      " 5    onnet_mou_7         float64\n",
      " 6    onnet_mou_8         float64\n",
      " 7    offnet_mou_6        float64\n",
      " 8    offnet_mou_7        float64\n",
      " 9    offnet_mou_8        float64\n",
      " 10   roam_ic_mou_6       float64\n",
      " 11   roam_ic_mou_7       float64\n",
      " 12   roam_ic_mou_8       float64\n",
      " 13   roam_og_mou_6       float64\n",
      " 14   roam_og_mou_7       float64\n",
      " 15   roam_og_mou_8       float64\n",
      " 16   loc_og_t2t_mou_6    float64\n",
      " 17   loc_og_t2t_mou_7    float64\n",
      " 18   loc_og_t2t_mou_8    float64\n",
      " 19   loc_og_t2m_mou_6    float64\n",
      " 20   loc_og_t2m_mou_7    float64\n",
      " 21   loc_og_t2m_mou_8    float64\n",
      " 22   loc_og_t2f_mou_6    float64\n",
      " 23   loc_og_t2f_mou_7    float64\n",
      " 24   loc_og_t2f_mou_8    float64\n",
      " 25   loc_og_t2c_mou_6    float64\n",
      " 26   loc_og_t2c_mou_7    float64\n",
      " 27   loc_og_t2c_mou_8    float64\n",
      " 28   loc_og_mou_6        float64\n",
      " 29   loc_og_mou_7        float64\n",
      " 30   loc_og_mou_8        float64\n",
      " 31   std_og_t2t_mou_6    float64\n",
      " 32   std_og_t2t_mou_7    float64\n",
      " 33   std_og_t2t_mou_8    float64\n",
      " 34   std_og_t2m_mou_6    float64\n",
      " 35   std_og_t2m_mou_7    float64\n",
      " 36   std_og_t2m_mou_8    float64\n",
      " 37   std_og_t2f_mou_6    float64\n",
      " 38   std_og_t2f_mou_7    float64\n",
      " 39   std_og_t2f_mou_8    float64\n",
      " 40   std_og_mou_6        float64\n",
      " 41   std_og_mou_7        float64\n",
      " 42   std_og_mou_8        float64\n",
      " 43   isd_og_mou_6        float64\n",
      " 44   isd_og_mou_7        float64\n",
      " 45   isd_og_mou_8        float64\n",
      " 46   spl_og_mou_6        float64\n",
      " 47   spl_og_mou_7        float64\n",
      " 48   spl_og_mou_8        float64\n",
      " 49   og_others_6         float64\n",
      " 50   og_others_7         float64\n",
      " 51   og_others_8         float64\n",
      " 52   total_og_mou_6      float64\n",
      " 53   total_og_mou_7      float64\n",
      " 54   total_og_mou_8      float64\n",
      " 55   loc_ic_t2t_mou_6    float64\n",
      " 56   loc_ic_t2t_mou_7    float64\n",
      " 57   loc_ic_t2t_mou_8    float64\n",
      " 58   loc_ic_t2m_mou_6    float64\n",
      " 59   loc_ic_t2m_mou_7    float64\n",
      " 60   loc_ic_t2m_mou_8    float64\n",
      " 61   loc_ic_t2f_mou_6    float64\n",
      " 62   loc_ic_t2f_mou_7    float64\n",
      " 63   loc_ic_t2f_mou_8    float64\n",
      " 64   loc_ic_mou_6        float64\n",
      " 65   loc_ic_mou_7        float64\n",
      " 66   loc_ic_mou_8        float64\n",
      " 67   std_ic_t2t_mou_6    float64\n",
      " 68   std_ic_t2t_mou_7    float64\n",
      " 69   std_ic_t2t_mou_8    float64\n",
      " 70   std_ic_t2m_mou_6    float64\n",
      " 71   std_ic_t2m_mou_7    float64\n",
      " 72   std_ic_t2m_mou_8    float64\n",
      " 73   std_ic_t2f_mou_6    float64\n",
      " 74   std_ic_t2f_mou_7    float64\n",
      " 75   std_ic_t2f_mou_8    float64\n",
      " 76   std_ic_mou_6        float64\n",
      " 77   std_ic_mou_7        float64\n",
      " 78   std_ic_mou_8        float64\n",
      " 79   total_ic_mou_6      float64\n",
      " 80   total_ic_mou_7      float64\n",
      " 81   total_ic_mou_8      float64\n",
      " 82   spl_ic_mou_6        float64\n",
      " 83   spl_ic_mou_7        float64\n",
      " 84   spl_ic_mou_8        float64\n",
      " 85   isd_ic_mou_6        float64\n",
      " 86   isd_ic_mou_7        float64\n",
      " 87   isd_ic_mou_8        float64\n",
      " 88   ic_others_6         float64\n",
      " 89   ic_others_7         float64\n",
      " 90   ic_others_8         float64\n",
      " 91   total_rech_num_6    int64  \n",
      " 92   total_rech_num_7    int64  \n",
      " 93   total_rech_num_8    int64  \n",
      " 94   total_rech_amt_6    int64  \n",
      " 95   total_rech_amt_7    int64  \n",
      " 96   total_rech_amt_8    int64  \n",
      " 97   max_rech_amt_6      int64  \n",
      " 98   max_rech_amt_7      int64  \n",
      " 99   max_rech_amt_8      int64  \n",
      " 100  last_day_rch_amt_6  int64  \n",
      " 101  last_day_rch_amt_7  int64  \n",
      " 102  last_day_rch_amt_8  int64  \n",
      " 103  total_rech_data_6   float64\n",
      " 104  total_rech_data_7   float64\n",
      " 105  total_rech_data_8   float64\n",
      " 106  max_rech_data_6     float64\n",
      " 107  max_rech_data_7     float64\n",
      " 108  max_rech_data_8     float64\n",
      " 109  av_rech_amt_data_6  float64\n",
      " 110  av_rech_amt_data_7  float64\n",
      " 111  av_rech_amt_data_8  float64\n",
      " 112  vol_2g_mb_6         float64\n",
      " 113  vol_2g_mb_7         float64\n",
      " 114  vol_2g_mb_8         float64\n",
      " 115  vol_3g_mb_6         float64\n",
      " 116  vol_3g_mb_7         float64\n",
      " 117  vol_3g_mb_8         float64\n",
      " 118  night_pck_user_6    float64\n",
      " 119  night_pck_user_7    float64\n",
      " 120  night_pck_user_8    float64\n",
      " 121  monthly_2g_6        int64  \n",
      " 122  monthly_2g_7        int64  \n",
      " 123  monthly_2g_8        int64  \n",
      " 124  sachet_2g_6         int64  \n",
      " 125  sachet_2g_7         int64  \n",
      " 126  sachet_2g_8         int64  \n",
      " 127  monthly_3g_6        int64  \n",
      " 128  monthly_3g_7        int64  \n",
      " 129  monthly_3g_8        int64  \n",
      " 130  sachet_3g_6         int64  \n",
      " 131  sachet_3g_7         int64  \n",
      " 132  sachet_3g_8         int64  \n",
      " 133  fb_user_6           float64\n",
      " 134  fb_user_7           float64\n",
      " 135  fb_user_8           float64\n",
      " 136  aon                 int64  \n",
      " 137  aug_vbc_3g          float64\n",
      " 138  jul_vbc_3g          float64\n",
      " 139  jun_vbc_3g          float64\n",
      " 140  churn_probability   int64  \n",
      "dtypes: float64(114), int64(27)\n",
      "memory usage: 75.3 MB\n"
     ]
    }
   ],
   "source": [
    "data = data[new_vars]\n",
    "data.shape\n",
    "data.info(verbose=1)"
   ]
  },
  {
   "cell_type": "code",
   "execution_count": 562,
   "metadata": {
    "execution": {
     "iopub.execute_input": "2022-05-02T17:56:02.060092Z",
     "iopub.status.busy": "2022-05-02T17:56:02.059856Z",
     "iopub.status.idle": "2022-05-02T17:56:02.079528Z",
     "shell.execute_reply": "2022-05-02T17:56:02.078645Z",
     "shell.execute_reply.started": "2022-05-02T17:56:02.060062Z"
    }
   },
   "outputs": [
    {
     "data": {
      "text/plain": [
       "(30000, 140)"
      ]
     },
     "execution_count": 562,
     "metadata": {},
     "output_type": "execute_result"
    }
   ],
   "source": [
    "new_vars1=new_vars.delete(-1)\n",
    "unseen = unseen[new_vars1]\n",
    "unseen.shape"
   ]
  },
  {
   "cell_type": "markdown",
   "metadata": {},
   "source": [
    "Impute using simple imputer- fill with zero"
   ]
  },
  {
   "cell_type": "code",
   "execution_count": 563,
   "metadata": {
    "execution": {
     "iopub.execute_input": "2022-05-02T17:56:02.081907Z",
     "iopub.status.busy": "2022-05-02T17:56:02.08137Z",
     "iopub.status.idle": "2022-05-02T17:56:02.238369Z",
     "shell.execute_reply": "2022-05-02T17:56:02.237481Z",
     "shell.execute_reply.started": "2022-05-02T17:56:02.081874Z"
    }
   },
   "outputs": [],
   "source": [
    "missing_data_percent = data.isnull().any()\n",
    "impute_cols = missing_data_percent[missing_data_percent.gt(0)].index\n",
    "impute_cols\n",
    "imp = SimpleImputer(strategy='constant', fill_value=0)\n",
    "data[impute_cols] = imp.fit_transform(data[impute_cols])"
   ]
  },
  {
   "cell_type": "code",
   "execution_count": 564,
   "metadata": {
    "execution": {
     "iopub.execute_input": "2022-05-02T17:56:02.239882Z",
     "iopub.status.busy": "2022-05-02T17:56:02.239643Z",
     "iopub.status.idle": "2022-05-02T17:56:02.245626Z",
     "shell.execute_reply": "2022-05-02T17:56:02.244842Z",
     "shell.execute_reply.started": "2022-05-02T17:56:02.239853Z"
    }
   },
   "outputs": [
    {
     "data": {
      "text/plain": [
       "(69999, 141)"
      ]
     },
     "execution_count": 564,
     "metadata": {},
     "output_type": "execute_result"
    }
   ],
   "source": [
    "data.shape"
   ]
  },
  {
   "cell_type": "markdown",
   "metadata": {},
   "source": [
    "filter high-value customers\n",
    "calculate total data recharge amount"
   ]
  },
  {
   "cell_type": "code",
   "execution_count": 565,
   "metadata": {
    "execution": {
     "iopub.execute_input": "2022-05-02T17:56:02.247005Z",
     "iopub.status.busy": "2022-05-02T17:56:02.246776Z",
     "iopub.status.idle": "2022-05-02T17:56:02.261548Z",
     "shell.execute_reply": "2022-05-02T17:56:02.260683Z",
     "shell.execute_reply.started": "2022-05-02T17:56:02.246979Z"
    }
   },
   "outputs": [],
   "source": [
    "# let's adding new column total recharge amount for data: total_rech_amt_data for calculating High Value customer process\n",
    "data['total_rech_amt_data_6'] = data.av_rech_amt_data_6 * data.total_rech_data_6\n",
    "data['total_rech_amt_data_7'] = data.av_rech_amt_data_7 * data.total_rech_data_7\n",
    "data['total_rech_amt_data_8'] = data.av_rech_amt_data_8 * data.total_rech_data_8"
   ]
  },
  {
   "cell_type": "code",
   "execution_count": 566,
   "metadata": {
    "execution": {
     "iopub.execute_input": "2022-05-02T17:56:02.262914Z",
     "iopub.status.busy": "2022-05-02T17:56:02.262699Z",
     "iopub.status.idle": "2022-05-02T17:56:02.27287Z",
     "shell.execute_reply": "2022-05-02T17:56:02.272309Z",
     "shell.execute_reply.started": "2022-05-02T17:56:02.262889Z"
    }
   },
   "outputs": [],
   "source": [
    "data['total_avg_rech_amnt_6_7_GPhase'] = (data.total_rech_amt_6 + data.total_rech_amt_data_6 )/2"
   ]
  },
  {
   "cell_type": "code",
   "execution_count": 567,
   "metadata": {
    "execution": {
     "iopub.execute_input": "2022-05-02T17:56:02.275801Z",
     "iopub.status.busy": "2022-05-02T17:56:02.275333Z",
     "iopub.status.idle": "2022-05-02T17:56:02.284344Z",
     "shell.execute_reply": "2022-05-02T17:56:02.283479Z",
     "shell.execute_reply.started": "2022-05-02T17:56:02.275757Z"
    }
   },
   "outputs": [],
   "source": [
    "#unseen['total_avg_rech_amnt_6_7_GPhase'] = (unseen.total_rech_amt_6 + unseen.total_rech_amt_data_6 )/2"
   ]
  },
  {
   "cell_type": "code",
   "execution_count": 568,
   "metadata": {
    "execution": {
     "iopub.execute_input": "2022-05-02T17:56:02.286084Z",
     "iopub.status.busy": "2022-05-02T17:56:02.285846Z",
     "iopub.status.idle": "2022-05-02T17:56:02.368016Z",
     "shell.execute_reply": "2022-05-02T17:56:02.367167Z",
     "shell.execute_reply.started": "2022-05-02T17:56:02.286053Z"
    }
   },
   "outputs": [
    {
     "name": "stdout",
     "output_type": "stream",
     "text": [
      "70 percentile of 6th and 7th months avg recharge amount: 238.0\n",
      "Dataframe Shape after Filtering High Value Customers: (20994, 145)\n"
     ]
    }
   ],
   "source": [
    "# create a filter for values greater than 70th percentile of total average recharge amount for good phase \n",
    "high_value_filter = data.total_avg_rech_amnt_6_7_GPhase.quantile(0.7)\n",
    "\n",
    "print('70 percentile of 6th and 7th months avg recharge amount: '+str(high_value_filter))\n",
    "\n",
    "data = data[data.total_avg_rech_amnt_6_7_GPhase > high_value_filter]\n",
    "print('Dataframe Shape after Filtering High Value Customers: ' + str(data.shape))"
   ]
  },
  {
   "cell_type": "code",
   "execution_count": 569,
   "metadata": {
    "execution": {
     "iopub.execute_input": "2022-05-02T17:56:02.52265Z",
     "iopub.status.busy": "2022-05-02T17:56:02.522358Z",
     "iopub.status.idle": "2022-05-02T17:56:02.527068Z",
     "shell.execute_reply": "2022-05-02T17:56:02.526164Z",
     "shell.execute_reply.started": "2022-05-02T17:56:02.522618Z"
    }
   },
   "outputs": [],
   "source": [
    "#3. Tag churners and remove attributes of the churn phase\n",
    "high_val_cust_8 = ['total_ic_mou_8', 'total_og_mou_8', 'vol_2g_mb_8','vol_3g_mb_8']\n"
   ]
  },
  {
   "cell_type": "code",
   "execution_count": 570,
   "metadata": {
    "execution": {
     "iopub.execute_input": "2022-05-02T17:56:03.136026Z",
     "iopub.status.busy": "2022-05-02T17:56:03.13571Z",
     "iopub.status.idle": "2022-05-02T17:56:03.1506Z",
     "shell.execute_reply": "2022-05-02T17:56:03.149436Z",
     "shell.execute_reply.started": "2022-05-02T17:56:03.13599Z"
    }
   },
   "outputs": [
    {
     "data": {
      "text/html": [
       "<div>\n",
       "<style scoped>\n",
       "    .dataframe tbody tr th:only-of-type {\n",
       "        vertical-align: middle;\n",
       "    }\n",
       "\n",
       "    .dataframe tbody tr th {\n",
       "        vertical-align: top;\n",
       "    }\n",
       "\n",
       "    .dataframe thead th {\n",
       "        text-align: right;\n",
       "    }\n",
       "</style>\n",
       "<table border=\"1\" class=\"dataframe\">\n",
       "  <thead>\n",
       "    <tr style=\"text-align: right;\">\n",
       "      <th></th>\n",
       "      <th>Null_Percentage</th>\n",
       "    </tr>\n",
       "  </thead>\n",
       "  <tbody>\n",
       "    <tr>\n",
       "      <th>total_ic_mou_8</th>\n",
       "      <td>0.0</td>\n",
       "    </tr>\n",
       "    <tr>\n",
       "      <th>total_og_mou_8</th>\n",
       "      <td>0.0</td>\n",
       "    </tr>\n",
       "    <tr>\n",
       "      <th>vol_2g_mb_8</th>\n",
       "      <td>0.0</td>\n",
       "    </tr>\n",
       "    <tr>\n",
       "      <th>vol_3g_mb_8</th>\n",
       "      <td>0.0</td>\n",
       "    </tr>\n",
       "  </tbody>\n",
       "</table>\n",
       "</div>"
      ],
      "text/plain": [
       "                Null_Percentage\n",
       "total_ic_mou_8              0.0\n",
       "total_og_mou_8              0.0\n",
       "vol_2g_mb_8                 0.0\n",
       "vol_3g_mb_8                 0.0"
      ]
     },
     "metadata": {},
     "output_type": "display_data"
    }
   ],
   "source": [
    "# Checking the NA/Null values are present or Not\n",
    "df = 100*data.loc[:,high_val_cust_8].isnull().sum()/len(data)\n",
    "df = pd.DataFrame(df)\n",
    "df.rename(columns={0:'Null_Percentage'}, inplace=True)\n",
    "df = pd.DataFrame(df.Null_Percentage)\n",
    "display(df)"
   ]
  },
  {
   "cell_type": "code",
   "execution_count": 571,
   "metadata": {
    "execution": {
     "iopub.execute_input": "2022-05-02T17:56:03.846864Z",
     "iopub.status.busy": "2022-05-02T17:56:03.846543Z",
     "iopub.status.idle": "2022-05-02T17:56:03.852556Z",
     "shell.execute_reply": "2022-05-02T17:56:03.851736Z",
     "shell.execute_reply.started": "2022-05-02T17:56:03.846833Z"
    }
   },
   "outputs": [],
   "source": [
    "# Initially set all the values as 0\n",
    "data['churn']= 0"
   ]
  },
  {
   "cell_type": "code",
   "execution_count": 572,
   "metadata": {
    "execution": {
     "iopub.execute_input": "2022-05-02T17:56:04.179319Z",
     "iopub.status.busy": "2022-05-02T17:56:04.178533Z",
     "iopub.status.idle": "2022-05-02T17:56:04.185974Z",
     "shell.execute_reply": "2022-05-02T17:56:04.18515Z",
     "shell.execute_reply.started": "2022-05-02T17:56:04.179259Z"
    }
   },
   "outputs": [],
   "source": [
    "#is_churned boolean flag for customers where above values are zero\n",
    "is_churned = (data.total_ic_mou_8 == 0) & \\\n",
    "             (data.total_og_mou_8 == 0) & \\\n",
    "             (data.vol_2g_mb_8 ==0) & \\\n",
    "             (data.vol_3g_mb_8 ==0)"
   ]
  },
  {
   "cell_type": "code",
   "execution_count": 573,
   "metadata": {
    "execution": {
     "iopub.execute_input": "2022-05-02T17:56:04.91623Z",
     "iopub.status.busy": "2022-05-02T17:56:04.915604Z",
     "iopub.status.idle": "2022-05-02T17:56:04.922439Z",
     "shell.execute_reply": "2022-05-02T17:56:04.921716Z",
     "shell.execute_reply.started": "2022-05-02T17:56:04.916188Z"
    }
   },
   "outputs": [],
   "source": [
    "# set all which having is_churned True condition as 1\n",
    "data.loc[is_churned,'churn']=1"
   ]
  },
  {
   "cell_type": "code",
   "execution_count": 574,
   "metadata": {
    "execution": {
     "iopub.execute_input": "2022-05-02T17:56:05.288626Z",
     "iopub.status.busy": "2022-05-02T17:56:05.287983Z",
     "iopub.status.idle": "2022-05-02T17:56:05.297007Z",
     "shell.execute_reply": "2022-05-02T17:56:05.295921Z",
     "shell.execute_reply.started": "2022-05-02T17:56:05.288553Z"
    }
   },
   "outputs": [
    {
     "data": {
      "text/plain": [
       "8.426217014385063"
      ]
     },
     "execution_count": 574,
     "metadata": {},
     "output_type": "execute_result"
    }
   ],
   "source": [
    "# let us check what's the % of churned customers\n",
    "100*data.churn.sum()/len(data)"
   ]
  },
  {
   "cell_type": "code",
   "execution_count": 575,
   "metadata": {
    "execution": {
     "iopub.execute_input": "2022-05-02T17:56:05.999191Z",
     "iopub.status.busy": "2022-05-02T17:56:05.998387Z",
     "iopub.status.idle": "2022-05-02T17:56:06.009495Z",
     "shell.execute_reply": "2022-05-02T17:56:06.006999Z",
     "shell.execute_reply.started": "2022-05-02T17:56:05.999144Z"
    }
   },
   "outputs": [],
   "source": [
    "churn_month_columns =  data.columns[data.columns.str.contains('_8')]"
   ]
  },
  {
   "cell_type": "code",
   "execution_count": 576,
   "metadata": {
    "execution": {
     "iopub.execute_input": "2022-05-02T17:56:06.229867Z",
     "iopub.status.busy": "2022-05-02T17:56:06.229542Z",
     "iopub.status.idle": "2022-05-02T17:56:06.235558Z",
     "shell.execute_reply": "2022-05-02T17:56:06.234585Z",
     "shell.execute_reply.started": "2022-05-02T17:56:06.229824Z"
    }
   },
   "outputs": [],
   "source": [
    "churn_month_columns1 =  unseen.columns[unseen.columns.str.contains('_8')]"
   ]
  },
  {
   "cell_type": "code",
   "execution_count": 577,
   "metadata": {
    "execution": {
     "iopub.execute_input": "2022-05-02T17:56:06.433744Z",
     "iopub.status.busy": "2022-05-02T17:56:06.433341Z",
     "iopub.status.idle": "2022-05-02T17:56:06.457751Z",
     "shell.execute_reply": "2022-05-02T17:56:06.45676Z",
     "shell.execute_reply.started": "2022-05-02T17:56:06.433714Z"
    }
   },
   "outputs": [
    {
     "data": {
      "text/plain": [
       "(30000, 95)"
      ]
     },
     "execution_count": 577,
     "metadata": {},
     "output_type": "execute_result"
    }
   ],
   "source": [
    "# drop all columns corresponding to the churn phase\n",
    "data.drop(churn_month_columns,axis=1,inplace=True)\n",
    "data.shape\n",
    "unseen.drop(churn_month_columns1,axis=1,inplace=True)\n",
    "unseen.shape"
   ]
  },
  {
   "cell_type": "code",
   "execution_count": 578,
   "metadata": {
    "execution": {
     "iopub.execute_input": "2022-05-02T17:56:07.005101Z",
     "iopub.status.busy": "2022-05-02T17:56:07.004335Z",
     "iopub.status.idle": "2022-05-02T17:56:07.01259Z",
     "shell.execute_reply": "2022-05-02T17:56:07.011543Z",
     "shell.execute_reply.started": "2022-05-02T17:56:07.005027Z"
    }
   },
   "outputs": [
    {
     "data": {
      "text/plain": [
       "(20994, 100)"
      ]
     },
     "execution_count": 578,
     "metadata": {},
     "output_type": "execute_result"
    }
   ],
   "source": [
    "data.shape"
   ]
  },
  {
   "cell_type": "code",
   "execution_count": 579,
   "metadata": {
    "execution": {
     "iopub.execute_input": "2022-05-02T17:56:07.206904Z",
     "iopub.status.busy": "2022-05-02T17:56:07.206565Z",
     "iopub.status.idle": "2022-05-02T17:56:07.233202Z",
     "shell.execute_reply": "2022-05-02T17:56:07.232329Z",
     "shell.execute_reply.started": "2022-05-02T17:56:07.20687Z"
    }
   },
   "outputs": [
    {
     "name": "stdout",
     "output_type": "stream",
     "text": [
      "<class 'pandas.core.frame.DataFrame'>\n",
      "Int64Index: 20994 entries, 4 to 69997\n",
      "Data columns (total 100 columns):\n",
      " #   Column                          Non-Null Count  Dtype  \n",
      "---  ------                          --------------  -----  \n",
      " 0   id                              20994 non-null  int64  \n",
      " 1   arpu_6                          20994 non-null  float64\n",
      " 2   arpu_7                          20994 non-null  float64\n",
      " 3   onnet_mou_6                     20994 non-null  float64\n",
      " 4   onnet_mou_7                     20994 non-null  float64\n",
      " 5   offnet_mou_6                    20994 non-null  float64\n",
      " 6   offnet_mou_7                    20994 non-null  float64\n",
      " 7   roam_ic_mou_6                   20994 non-null  float64\n",
      " 8   roam_ic_mou_7                   20994 non-null  float64\n",
      " 9   roam_og_mou_6                   20994 non-null  float64\n",
      " 10  roam_og_mou_7                   20994 non-null  float64\n",
      " 11  loc_og_t2t_mou_6                20994 non-null  float64\n",
      " 12  loc_og_t2t_mou_7                20994 non-null  float64\n",
      " 13  loc_og_t2m_mou_6                20994 non-null  float64\n",
      " 14  loc_og_t2m_mou_7                20994 non-null  float64\n",
      " 15  loc_og_t2f_mou_6                20994 non-null  float64\n",
      " 16  loc_og_t2f_mou_7                20994 non-null  float64\n",
      " 17  loc_og_t2c_mou_6                20994 non-null  float64\n",
      " 18  loc_og_t2c_mou_7                20994 non-null  float64\n",
      " 19  loc_og_mou_6                    20994 non-null  float64\n",
      " 20  loc_og_mou_7                    20994 non-null  float64\n",
      " 21  std_og_t2t_mou_6                20994 non-null  float64\n",
      " 22  std_og_t2t_mou_7                20994 non-null  float64\n",
      " 23  std_og_t2m_mou_6                20994 non-null  float64\n",
      " 24  std_og_t2m_mou_7                20994 non-null  float64\n",
      " 25  std_og_t2f_mou_6                20994 non-null  float64\n",
      " 26  std_og_t2f_mou_7                20994 non-null  float64\n",
      " 27  std_og_mou_6                    20994 non-null  float64\n",
      " 28  std_og_mou_7                    20994 non-null  float64\n",
      " 29  isd_og_mou_6                    20994 non-null  float64\n",
      " 30  isd_og_mou_7                    20994 non-null  float64\n",
      " 31  spl_og_mou_6                    20994 non-null  float64\n",
      " 32  spl_og_mou_7                    20994 non-null  float64\n",
      " 33  og_others_6                     20994 non-null  float64\n",
      " 34  og_others_7                     20994 non-null  float64\n",
      " 35  total_og_mou_6                  20994 non-null  float64\n",
      " 36  total_og_mou_7                  20994 non-null  float64\n",
      " 37  loc_ic_t2t_mou_6                20994 non-null  float64\n",
      " 38  loc_ic_t2t_mou_7                20994 non-null  float64\n",
      " 39  loc_ic_t2m_mou_6                20994 non-null  float64\n",
      " 40  loc_ic_t2m_mou_7                20994 non-null  float64\n",
      " 41  loc_ic_t2f_mou_6                20994 non-null  float64\n",
      " 42  loc_ic_t2f_mou_7                20994 non-null  float64\n",
      " 43  loc_ic_mou_6                    20994 non-null  float64\n",
      " 44  loc_ic_mou_7                    20994 non-null  float64\n",
      " 45  std_ic_t2t_mou_6                20994 non-null  float64\n",
      " 46  std_ic_t2t_mou_7                20994 non-null  float64\n",
      " 47  std_ic_t2m_mou_6                20994 non-null  float64\n",
      " 48  std_ic_t2m_mou_7                20994 non-null  float64\n",
      " 49  std_ic_t2f_mou_6                20994 non-null  float64\n",
      " 50  std_ic_t2f_mou_7                20994 non-null  float64\n",
      " 51  std_ic_mou_6                    20994 non-null  float64\n",
      " 52  std_ic_mou_7                    20994 non-null  float64\n",
      " 53  total_ic_mou_6                  20994 non-null  float64\n",
      " 54  total_ic_mou_7                  20994 non-null  float64\n",
      " 55  spl_ic_mou_6                    20994 non-null  float64\n",
      " 56  spl_ic_mou_7                    20994 non-null  float64\n",
      " 57  isd_ic_mou_6                    20994 non-null  float64\n",
      " 58  isd_ic_mou_7                    20994 non-null  float64\n",
      " 59  ic_others_6                     20994 non-null  float64\n",
      " 60  ic_others_7                     20994 non-null  float64\n",
      " 61  total_rech_num_6                20994 non-null  int64  \n",
      " 62  total_rech_num_7                20994 non-null  int64  \n",
      " 63  total_rech_amt_6                20994 non-null  int64  \n",
      " 64  total_rech_amt_7                20994 non-null  int64  \n",
      " 65  max_rech_amt_6                  20994 non-null  int64  \n",
      " 66  max_rech_amt_7                  20994 non-null  int64  \n",
      " 67  last_day_rch_amt_6              20994 non-null  int64  \n",
      " 68  last_day_rch_amt_7              20994 non-null  int64  \n",
      " 69  total_rech_data_6               20994 non-null  float64\n",
      " 70  total_rech_data_7               20994 non-null  float64\n",
      " 71  max_rech_data_6                 20994 non-null  float64\n",
      " 72  max_rech_data_7                 20994 non-null  float64\n",
      " 73  av_rech_amt_data_6              20994 non-null  float64\n",
      " 74  av_rech_amt_data_7              20994 non-null  float64\n",
      " 75  vol_2g_mb_6                     20994 non-null  float64\n",
      " 76  vol_2g_mb_7                     20994 non-null  float64\n",
      " 77  vol_3g_mb_6                     20994 non-null  float64\n",
      " 78  vol_3g_mb_7                     20994 non-null  float64\n",
      " 79  night_pck_user_6                20994 non-null  float64\n",
      " 80  night_pck_user_7                20994 non-null  float64\n",
      " 81  monthly_2g_6                    20994 non-null  int64  \n",
      " 82  monthly_2g_7                    20994 non-null  int64  \n",
      " 83  sachet_2g_6                     20994 non-null  int64  \n",
      " 84  sachet_2g_7                     20994 non-null  int64  \n",
      " 85  monthly_3g_6                    20994 non-null  int64  \n",
      " 86  monthly_3g_7                    20994 non-null  int64  \n",
      " 87  sachet_3g_6                     20994 non-null  int64  \n",
      " 88  sachet_3g_7                     20994 non-null  int64  \n",
      " 89  fb_user_6                       20994 non-null  float64\n",
      " 90  fb_user_7                       20994 non-null  float64\n",
      " 91  aon                             20994 non-null  int64  \n",
      " 92  aug_vbc_3g                      20994 non-null  float64\n",
      " 93  jul_vbc_3g                      20994 non-null  float64\n",
      " 94  jun_vbc_3g                      20994 non-null  float64\n",
      " 95  churn_probability               20994 non-null  int64  \n",
      " 96  total_rech_amt_data_6           20994 non-null  float64\n",
      " 97  total_rech_amt_data_7           20994 non-null  float64\n",
      " 98  total_avg_rech_amnt_6_7_GPhase  20994 non-null  float64\n",
      " 99  churn                           20994 non-null  int64  \n",
      "dtypes: float64(80), int64(20)\n",
      "memory usage: 16.2 MB\n"
     ]
    }
   ],
   "source": [
    "data.info(verbose=1)"
   ]
  },
  {
   "cell_type": "markdown",
   "metadata": {},
   "source": [
    "# Visualize the data"
   ]
  },
  {
   "cell_type": "code",
   "execution_count": 580,
   "metadata": {
    "execution": {
     "iopub.execute_input": "2022-05-02T17:56:07.793483Z",
     "iopub.status.busy": "2022-05-02T17:56:07.793138Z",
     "iopub.status.idle": "2022-05-02T17:56:08.30117Z",
     "shell.execute_reply": "2022-05-02T17:56:08.300344Z",
     "shell.execute_reply.started": "2022-05-02T17:56:07.79345Z"
    }
   },
   "outputs": [
    {
     "data": {
      "image/png": "[encoded data removed]",
      "text/plain": [
       "<Figure size 1440x1152 with 2 Axes>"
      ]
     },
     "metadata": {
      "needs_background": "light"
     },
     "output_type": "display_data"
    }
   ],
   "source": [
    "# Ploting for total recharge amount:\n",
    "\n",
    "plt.figure(figsize=(20,16))\n",
    "df = data\n",
    "plt.subplot(2,3,1)\n",
    "sns.boxplot(data=df, y=\"total_rech_amt_6\",x=\"churn\",hue=\"churn\",\n",
    "            showfliers=False,palette=(\"plasma\"))\n",
    "plt.subplot(2,3,2)\n",
    "sns.boxplot(data=df, y=\"total_rech_amt_7\",x=\"churn\",hue=\"churn\",\n",
    "            showfliers=False,palette=(\"plasma\"))\n",
    "\n",
    "\n",
    "plt.show()"
   ]
  },
  {
   "cell_type": "code",
   "execution_count": 581,
   "metadata": {
    "execution": {
     "iopub.execute_input": "2022-05-02T17:56:08.303474Z",
     "iopub.status.busy": "2022-05-02T17:56:08.303134Z",
     "iopub.status.idle": "2022-05-02T17:56:08.607846Z",
     "shell.execute_reply": "2022-05-02T17:56:08.606837Z",
     "shell.execute_reply.started": "2022-05-02T17:56:08.303433Z"
    }
   },
   "outputs": [
    {
     "data": {
      "image/png": "[encoded data removed]",
      "text/plain": [
       "<Figure size 1440x1152 with 2 Axes>"
      ]
     },
     "metadata": {
      "needs_background": "light"
     },
     "output_type": "display_data"
    }
   ],
   "source": [
    "# Ploting for maximum recharge amount for data:\n",
    "plt.figure(figsize=(20,16))\n",
    "df = data\n",
    "plt.subplot(2,3,1)\n",
    "sns.boxplot(data=df, y=\"max_rech_data_6\",x=\"churn\",hue=\"churn\",\n",
    "            showfliers=False,palette=(\"plasma\"))\n",
    "plt.subplot(2,3,2)\n",
    "sns.boxplot(data=df, y=\"max_rech_data_7\",x=\"churn\",hue=\"churn\",\n",
    "            showfliers=False,palette=(\"plasma\"))\n",
    "\n",
    "\n",
    "plt.show()"
   ]
  },
  {
   "cell_type": "markdown",
   "metadata": {},
   "source": [
    "we can see that there is no drop in customer in month 7"
   ]
  },
  {
   "cell_type": "code",
   "execution_count": 582,
   "metadata": {
    "execution": {
     "iopub.execute_input": "2022-05-02T17:56:08.610173Z",
     "iopub.status.busy": "2022-05-02T17:56:08.609786Z",
     "iopub.status.idle": "2022-05-02T17:56:08.941348Z",
     "shell.execute_reply": "2022-05-02T17:56:08.940274Z",
     "shell.execute_reply.started": "2022-05-02T17:56:08.610128Z"
    }
   },
   "outputs": [
    {
     "data": {
      "image/png": "[encoded data removed]",
      "text/plain": [
       "<Figure size 1440x1152 with 2 Axes>"
      ]
     },
     "metadata": {
      "needs_background": "light"
     },
     "output_type": "display_data"
    }
   ],
   "source": [
    "# Ploting for last day recharge amount:\n",
    "\n",
    "plt.figure(figsize=(20,16))\n",
    "df = data\n",
    "plt.subplot(2,3,1)\n",
    "sns.boxplot(data=df, y=\"last_day_rch_amt_6\",x=\"churn\",hue=\"churn\",\n",
    "            showfliers=False,palette=(\"plasma\"))\n",
    "plt.subplot(2,3,2)\n",
    "sns.boxplot(data=df, y=\"last_day_rch_amt_7\",x=\"churn\",hue=\"churn\",\n",
    "            showfliers=False,palette=(\"plasma\"))\n",
    "\n",
    "\n",
    "plt.show()\n"
   ]
  },
  {
   "cell_type": "markdown",
   "metadata": {},
   "source": [
    "Analysis: We are getting a huge drop in 7th month recharge amount for churned customers."
   ]
  },
  {
   "cell_type": "code",
   "execution_count": 583,
   "metadata": {
    "execution": {
     "iopub.execute_input": "2022-05-02T17:56:09.10528Z",
     "iopub.status.busy": "2022-05-02T17:56:09.10498Z",
     "iopub.status.idle": "2022-05-02T17:56:09.413958Z",
     "shell.execute_reply": "2022-05-02T17:56:09.412875Z",
     "shell.execute_reply.started": "2022-05-02T17:56:09.105247Z"
    }
   },
   "outputs": [
    {
     "data": {
      "image/png": "[encoded data removed]",
      "text/plain": [
       "<Figure size 1440x1152 with 2 Axes>"
      ]
     },
     "metadata": {
      "needs_background": "light"
     },
     "output_type": "display_data"
    }
   ],
   "source": [
    "# Ploting for volume of 2G and 3G usage columns:\n",
    "\n",
    "plt.figure(figsize=(20,16))\n",
    "df = data\n",
    "plt.subplot(2,3,1)\n",
    "sns.boxplot(data=df, y=\"vol_2g_mb_6\",x=\"churn\",hue=\"churn\",\n",
    "            showfliers=False,palette=(\"plasma\"))\n",
    "plt.subplot(2,3,2)\n",
    "sns.boxplot(data=df, y=\"vol_2g_mb_7\",x=\"churn\",hue=\"churn\",\n",
    "            showfliers=False,palette=(\"plasma\"))\n",
    "\n",
    "\n",
    "plt.show()"
   ]
  },
  {
   "cell_type": "code",
   "execution_count": 584,
   "metadata": {
    "execution": {
     "iopub.execute_input": "2022-05-02T17:56:09.415831Z",
     "iopub.status.busy": "2022-05-02T17:56:09.415608Z",
     "iopub.status.idle": "2022-05-02T17:56:09.705181Z",
     "shell.execute_reply": "2022-05-02T17:56:09.70422Z",
     "shell.execute_reply.started": "2022-05-02T17:56:09.415796Z"
    }
   },
   "outputs": [
    {
     "data": {
      "image/png": "[encoded data removed]",
      "text/plain": [
       "<Figure size 1440x1152 with 2 Axes>"
      ]
     },
     "metadata": {
      "needs_background": "light"
     },
     "output_type": "display_data"
    }
   ],
   "source": [
    "# Ploting for volume of 2G and 3G usage columns:\n",
    "\n",
    "plt.figure(figsize=(20,16))\n",
    "df = data\n",
    "plt.subplot(2,3,1)\n",
    "sns.boxplot(data=df, y=\"vol_3g_mb_6\",x=\"churn\",hue=\"churn\",\n",
    "            showfliers=False,palette=(\"plasma\"))\n",
    "plt.subplot(2,3,2)\n",
    "sns.boxplot(data=df, y=\"vol_3g_mb_7\",x=\"churn\",hue=\"churn\",\n",
    "            showfliers=False,palette=(\"plasma\"))\n",
    "\n",
    "plt.show()"
   ]
  },
  {
   "cell_type": "markdown",
   "metadata": {},
   "source": [
    "**Analysis:** \n",
    "1) 2G and 3G usage for churned customers drops in 7th month and 3 G usage for churned customer drops in month 8.\n",
    "2) We also see that 2G/3G usage is higher for non-churned customers indicating that churned customers might be from areas where 2G/3G service is not properly available."
   ]
  },
  {
   "cell_type": "code",
   "execution_count": 585,
   "metadata": {
    "execution": {
     "iopub.execute_input": "2022-05-02T17:56:09.98792Z",
     "iopub.status.busy": "2022-05-02T17:56:09.987634Z",
     "iopub.status.idle": "2022-05-02T17:56:10.282104Z",
     "shell.execute_reply": "2022-05-02T17:56:10.281075Z",
     "shell.execute_reply.started": "2022-05-02T17:56:09.987891Z"
    }
   },
   "outputs": [
    {
     "data": {
      "image/png": "[encoded data removed]",
      "text/plain": [
       "<Figure size 1440x1152 with 2 Axes>"
      ]
     },
     "metadata": {
      "needs_background": "light"
     },
     "output_type": "display_data"
    }
   ],
   "source": [
    "    \n",
    "# Ploting for volume of monthly columns:\n",
    "\n",
    "plt.figure(figsize=(20,16))\n",
    "df = data\n",
    "plt.subplot(2,3,1)\n",
    "sns.boxplot(data=df, y=\"monthly_2g_6\",x=\"churn\",hue=\"churn\",\n",
    "            showfliers=False,palette=(\"plasma\"))\n",
    "plt.subplot(2,3,2)\n",
    "sns.boxplot(data=df, y=\"monthly_2g_7\",x=\"churn\",hue=\"churn\",\n",
    "            showfliers=False,palette=(\"plasma\"))\n",
    "\n",
    "plt.show()"
   ]
  },
  {
   "cell_type": "markdown",
   "metadata": {},
   "source": [
    "Value range is very low, hence graph is not giving us proper justification result "
   ]
  },
  {
   "cell_type": "code",
   "execution_count": 586,
   "metadata": {
    "execution": {
     "iopub.execute_input": "2022-05-02T17:56:10.284785Z",
     "iopub.status.busy": "2022-05-02T17:56:10.284249Z",
     "iopub.status.idle": "2022-05-02T17:56:10.292742Z",
     "shell.execute_reply": "2022-05-02T17:56:10.291464Z",
     "shell.execute_reply.started": "2022-05-02T17:56:10.284736Z"
    }
   },
   "outputs": [],
   "source": [
    "def plot_mean_bar_chart(df,columns_list):\n",
    "    df_0 = df[df.churn==0].filter(columns_list)\n",
    "    df_1 = df[df.churn==1].filter(columns_list)\n",
    "\n",
    "    mean_df_0 = pd.DataFrame([df_0.mean()],index={'Non Churn'})\n",
    "    mean_df_1 = pd.DataFrame([df_1.mean()],index={'Churn'})\n",
    "\n",
    "    frames = [mean_df_0, mean_df_1]\n",
    "    mean_bar = pd.concat(frames)\n",
    "\n",
    "    mean_bar.T.plot.bar(figsize=(10,5),rot=0)\n",
    "    plt.show()\n",
    "    \n",
    "    return mean_bar"
   ]
  },
  {
   "cell_type": "code",
   "execution_count": 587,
   "metadata": {
    "execution": {
     "iopub.execute_input": "2022-05-02T17:56:10.508147Z",
     "iopub.status.busy": "2022-05-02T17:56:10.507346Z",
     "iopub.status.idle": "2022-05-02T17:56:10.516552Z",
     "shell.execute_reply": "2022-05-02T17:56:10.515661Z",
     "shell.execute_reply.started": "2022-05-02T17:56:10.508105Z"
    }
   },
   "outputs": [
    {
     "data": {
      "text/plain": [
       "['monthly_2g_6', 'monthly_2g_7', 'monthly_3g_6', 'monthly_3g_7']"
      ]
     },
     "execution_count": 587,
     "metadata": {},
     "output_type": "execute_result"
    }
   ],
   "source": [
    "# let's check monthly 2G/3G service schemes\n",
    "monthly_subcription_2g_3g = data.columns[data.columns.str.contains('monthly_2g|monthly_3g',regex=True)]\n",
    "monthly_subcription_2g_3g.tolist()"
   ]
  },
  {
   "cell_type": "code",
   "execution_count": 588,
   "metadata": {
    "execution": {
     "iopub.execute_input": "2022-05-02T17:56:11.164865Z",
     "iopub.status.busy": "2022-05-02T17:56:11.164509Z",
     "iopub.status.idle": "2022-05-02T17:56:11.356967Z",
     "shell.execute_reply": "2022-05-02T17:56:11.355918Z",
     "shell.execute_reply.started": "2022-05-02T17:56:11.16483Z"
    }
   },
   "outputs": [
    {
     "data": {
      "image/png": "[encoded data removed]",
      "text/plain": [
       "<Figure size 720x360 with 1 Axes>"
      ]
     },
     "metadata": {
      "needs_background": "light"
     },
     "output_type": "display_data"
    },
    {
     "data": {
      "text/html": [
       "<div>\n",
       "<style scoped>\n",
       "    .dataframe tbody tr th:only-of-type {\n",
       "        vertical-align: middle;\n",
       "    }\n",
       "\n",
       "    .dataframe tbody tr th {\n",
       "        vertical-align: top;\n",
       "    }\n",
       "\n",
       "    .dataframe thead th {\n",
       "        text-align: right;\n",
       "    }\n",
       "</style>\n",
       "<table border=\"1\" class=\"dataframe\">\n",
       "  <thead>\n",
       "    <tr style=\"text-align: right;\">\n",
       "      <th></th>\n",
       "      <th>monthly_2g_6</th>\n",
       "      <th>monthly_2g_7</th>\n",
       "      <th>monthly_3g_6</th>\n",
       "      <th>monthly_3g_7</th>\n",
       "    </tr>\n",
       "  </thead>\n",
       "  <tbody>\n",
       "    <tr>\n",
       "      <th>Non Churn</th>\n",
       "      <td>0.185852</td>\n",
       "      <td>0.156983</td>\n",
       "      <td>0.231469</td>\n",
       "      <td>0.210351</td>\n",
       "    </tr>\n",
       "    <tr>\n",
       "      <th>Churn</th>\n",
       "      <td>0.089316</td>\n",
       "      <td>0.028265</td>\n",
       "      <td>0.171283</td>\n",
       "      <td>0.049180</td>\n",
       "    </tr>\n",
       "  </tbody>\n",
       "</table>\n",
       "</div>"
      ],
      "text/plain": [
       "           monthly_2g_6  monthly_2g_7  monthly_3g_6  monthly_3g_7\n",
       "Non Churn      0.185852      0.156983      0.231469      0.210351\n",
       "Churn          0.089316      0.028265      0.171283      0.049180"
      ]
     },
     "execution_count": 588,
     "metadata": {},
     "output_type": "execute_result"
    }
   ],
   "source": [
    "plot_mean_bar_chart(data, monthly_subcription_2g_3g)"
   ]
  },
  {
   "cell_type": "markdown",
   "metadata": {},
   "source": [
    "There is a drop in churn in 7 th month"
   ]
  },
  {
   "cell_type": "code",
   "execution_count": 589,
   "metadata": {
    "execution": {
     "iopub.execute_input": "2022-05-02T17:56:11.418535Z",
     "iopub.status.busy": "2022-05-02T17:56:11.418241Z",
     "iopub.status.idle": "2022-05-02T17:56:11.424689Z",
     "shell.execute_reply": "2022-05-02T17:56:11.4234Z",
     "shell.execute_reply.started": "2022-05-02T17:56:11.418505Z"
    }
   },
   "outputs": [],
   "source": [
    "# Minutes of usage - voice calls\n",
    "mou_cols = data.columns[data.columns.str.contains('mou')]"
   ]
  },
  {
   "cell_type": "code",
   "execution_count": 590,
   "metadata": {
    "execution": {
     "iopub.execute_input": "2022-05-02T17:56:12.0962Z",
     "iopub.status.busy": "2022-05-02T17:56:12.095345Z",
     "iopub.status.idle": "2022-05-02T17:56:12.102314Z",
     "shell.execute_reply": "2022-05-02T17:56:12.101696Z",
     "shell.execute_reply.started": "2022-05-02T17:56:12.096135Z"
    }
   },
   "outputs": [
    {
     "data": {
      "text/plain": [
       "Index(['onnet_mou_6', 'onnet_mou_7', 'offnet_mou_6', 'offnet_mou_7',\n",
       "       'roam_ic_mou_6', 'roam_ic_mou_7', 'roam_og_mou_6', 'roam_og_mou_7',\n",
       "       'loc_og_t2t_mou_6', 'loc_og_t2t_mou_7', 'loc_og_t2m_mou_6',\n",
       "       'loc_og_t2m_mou_7', 'loc_og_t2f_mou_6', 'loc_og_t2f_mou_7',\n",
       "       'loc_og_t2c_mou_6', 'loc_og_t2c_mou_7', 'loc_og_mou_6', 'loc_og_mou_7',\n",
       "       'std_og_t2t_mou_6', 'std_og_t2t_mou_7', 'std_og_t2m_mou_6',\n",
       "       'std_og_t2m_mou_7', 'std_og_t2f_mou_6', 'std_og_t2f_mou_7',\n",
       "       'std_og_mou_6', 'std_og_mou_7', 'isd_og_mou_6', 'isd_og_mou_7',\n",
       "       'spl_og_mou_6', 'spl_og_mou_7', 'total_og_mou_6', 'total_og_mou_7',\n",
       "       'loc_ic_t2t_mou_6', 'loc_ic_t2t_mou_7', 'loc_ic_t2m_mou_6',\n",
       "       'loc_ic_t2m_mou_7', 'loc_ic_t2f_mou_6', 'loc_ic_t2f_mou_7',\n",
       "       'loc_ic_mou_6', 'loc_ic_mou_7', 'std_ic_t2t_mou_6', 'std_ic_t2t_mou_7',\n",
       "       'std_ic_t2m_mou_6', 'std_ic_t2m_mou_7', 'std_ic_t2f_mou_6',\n",
       "       'std_ic_t2f_mou_7', 'std_ic_mou_6', 'std_ic_mou_7', 'total_ic_mou_6',\n",
       "       'total_ic_mou_7', 'spl_ic_mou_6', 'spl_ic_mou_7', 'isd_ic_mou_6',\n",
       "       'isd_ic_mou_7'],\n",
       "      dtype='object')"
      ]
     },
     "execution_count": 590,
     "metadata": {},
     "output_type": "execute_result"
    }
   ],
   "source": [
    "mou_cols"
   ]
  },
  {
   "cell_type": "code",
   "execution_count": 591,
   "metadata": {
    "execution": {
     "iopub.execute_input": "2022-05-02T17:56:12.36359Z",
     "iopub.status.busy": "2022-05-02T17:56:12.363041Z",
     "iopub.status.idle": "2022-05-02T17:56:12.374358Z",
     "shell.execute_reply": "2022-05-02T17:56:12.373173Z",
     "shell.execute_reply.started": "2022-05-02T17:56:12.36355Z"
    }
   },
   "outputs": [],
   "source": [
    "def get_variable_type(element) :\n",
    "    \"\"\"\n",
    "     Check is columns are of Contineous or Categorical variable.\n",
    "     Assumption is that if \n",
    "                 unique count < 20 then categorical \n",
    "                 unique count >= 20 and dtype = [int64 or float64] then contineous\n",
    "     \"\"\"\n",
    "    if element==0:\n",
    "        return \"Not Known\"\n",
    "    elif element < 20 and element!=0 :\n",
    "        return \"Categorical\"\n",
    "    elif element >= 20 and element!=0 :\n",
    "        return \"Contineous\" \n",
    "def predict_variable_type(metadata_matrix):\n",
    "    metadata_matrix[\"Variable_Type\"] = metadata_matrix[\"Unique_Values_Count\"].apply(get_variable_type).astype(str)\n",
    "    metadata_matrix[\"frequency\"] = metadata_matrix[\"Null_Count\"] - metadata_matrix[\"Null_Count\"]\n",
    "    metadata_matrix[\"frequency\"].astype(int)\n",
    "    return metadata_matrix \n",
    "\n",
    "def get_meta_data(dataframe) :\n",
    "    \"\"\"\n",
    "     Method to get Meta-Data about any dataframe passed \n",
    "    \"\"\"\n",
    "    metadata_matrix = pd.DataFrame({\n",
    "                    'Datatype' : dataframe.dtypes.astype(str), \n",
    "                    'Non_Null_Count': dataframe.count(axis = 0).astype(int), \n",
    "                    'Null_Count': dataframe.isnull().sum().astype(int), \n",
    "                    'Null_Percentage': dataframe.isnull().sum()/len(dataframe) * 100, \n",
    "                    'Unique_Values_Count': dataframe.nunique().astype(int) \n",
    "                     })\n",
    "    \n",
    "    metadata_matrix = predict_variable_type(metadata_matrix)\n",
    "    return metadata_matrix"
   ]
  },
  {
   "cell_type": "code",
   "execution_count": 592,
   "metadata": {
    "execution": {
     "iopub.execute_input": "2022-05-02T17:56:12.622205Z",
     "iopub.status.busy": "2022-05-02T17:56:12.621152Z",
     "iopub.status.idle": "2022-05-02T17:56:12.691466Z",
     "shell.execute_reply": "2022-05-02T17:56:12.690783Z",
     "shell.execute_reply.started": "2022-05-02T17:56:12.622164Z"
    }
   },
   "outputs": [
    {
     "data": {
      "text/html": [
       "<div>\n",
       "<style scoped>\n",
       "    .dataframe tbody tr th:only-of-type {\n",
       "        vertical-align: middle;\n",
       "    }\n",
       "\n",
       "    .dataframe tbody tr th {\n",
       "        vertical-align: top;\n",
       "    }\n",
       "\n",
       "    .dataframe thead th {\n",
       "        text-align: right;\n",
       "    }\n",
       "</style>\n",
       "<table border=\"1\" class=\"dataframe\">\n",
       "  <thead>\n",
       "    <tr style=\"text-align: right;\">\n",
       "      <th></th>\n",
       "      <th>Null_Percentage</th>\n",
       "    </tr>\n",
       "  </thead>\n",
       "  <tbody>\n",
       "    <tr>\n",
       "      <th>onnet_mou_6</th>\n",
       "      <td>0.0</td>\n",
       "    </tr>\n",
       "    <tr>\n",
       "      <th>std_ic_t2t_mou_6</th>\n",
       "      <td>0.0</td>\n",
       "    </tr>\n",
       "    <tr>\n",
       "      <th>spl_og_mou_7</th>\n",
       "      <td>0.0</td>\n",
       "    </tr>\n",
       "    <tr>\n",
       "      <th>total_og_mou_6</th>\n",
       "      <td>0.0</td>\n",
       "    </tr>\n",
       "    <tr>\n",
       "      <th>total_og_mou_7</th>\n",
       "      <td>0.0</td>\n",
       "    </tr>\n",
       "    <tr>\n",
       "      <th>loc_ic_t2t_mou_6</th>\n",
       "      <td>0.0</td>\n",
       "    </tr>\n",
       "    <tr>\n",
       "      <th>loc_ic_t2t_mou_7</th>\n",
       "      <td>0.0</td>\n",
       "    </tr>\n",
       "    <tr>\n",
       "      <th>loc_ic_t2m_mou_6</th>\n",
       "      <td>0.0</td>\n",
       "    </tr>\n",
       "    <tr>\n",
       "      <th>loc_ic_t2m_mou_7</th>\n",
       "      <td>0.0</td>\n",
       "    </tr>\n",
       "    <tr>\n",
       "      <th>loc_ic_t2f_mou_6</th>\n",
       "      <td>0.0</td>\n",
       "    </tr>\n",
       "    <tr>\n",
       "      <th>loc_ic_t2f_mou_7</th>\n",
       "      <td>0.0</td>\n",
       "    </tr>\n",
       "    <tr>\n",
       "      <th>loc_ic_mou_6</th>\n",
       "      <td>0.0</td>\n",
       "    </tr>\n",
       "    <tr>\n",
       "      <th>loc_ic_mou_7</th>\n",
       "      <td>0.0</td>\n",
       "    </tr>\n",
       "    <tr>\n",
       "      <th>std_ic_t2t_mou_7</th>\n",
       "      <td>0.0</td>\n",
       "    </tr>\n",
       "    <tr>\n",
       "      <th>onnet_mou_7</th>\n",
       "      <td>0.0</td>\n",
       "    </tr>\n",
       "    <tr>\n",
       "      <th>std_ic_t2m_mou_6</th>\n",
       "      <td>0.0</td>\n",
       "    </tr>\n",
       "    <tr>\n",
       "      <th>std_ic_t2m_mou_7</th>\n",
       "      <td>0.0</td>\n",
       "    </tr>\n",
       "    <tr>\n",
       "      <th>std_ic_t2f_mou_6</th>\n",
       "      <td>0.0</td>\n",
       "    </tr>\n",
       "    <tr>\n",
       "      <th>std_ic_t2f_mou_7</th>\n",
       "      <td>0.0</td>\n",
       "    </tr>\n",
       "    <tr>\n",
       "      <th>std_ic_mou_6</th>\n",
       "      <td>0.0</td>\n",
       "    </tr>\n",
       "    <tr>\n",
       "      <th>std_ic_mou_7</th>\n",
       "      <td>0.0</td>\n",
       "    </tr>\n",
       "    <tr>\n",
       "      <th>total_ic_mou_6</th>\n",
       "      <td>0.0</td>\n",
       "    </tr>\n",
       "    <tr>\n",
       "      <th>total_ic_mou_7</th>\n",
       "      <td>0.0</td>\n",
       "    </tr>\n",
       "    <tr>\n",
       "      <th>spl_ic_mou_6</th>\n",
       "      <td>0.0</td>\n",
       "    </tr>\n",
       "    <tr>\n",
       "      <th>spl_ic_mou_7</th>\n",
       "      <td>0.0</td>\n",
       "    </tr>\n",
       "    <tr>\n",
       "      <th>isd_ic_mou_6</th>\n",
       "      <td>0.0</td>\n",
       "    </tr>\n",
       "    <tr>\n",
       "      <th>spl_og_mou_6</th>\n",
       "      <td>0.0</td>\n",
       "    </tr>\n",
       "    <tr>\n",
       "      <th>isd_og_mou_7</th>\n",
       "      <td>0.0</td>\n",
       "    </tr>\n",
       "    <tr>\n",
       "      <th>isd_og_mou_6</th>\n",
       "      <td>0.0</td>\n",
       "    </tr>\n",
       "    <tr>\n",
       "      <th>std_og_mou_7</th>\n",
       "      <td>0.0</td>\n",
       "    </tr>\n",
       "    <tr>\n",
       "      <th>offnet_mou_6</th>\n",
       "      <td>0.0</td>\n",
       "    </tr>\n",
       "    <tr>\n",
       "      <th>offnet_mou_7</th>\n",
       "      <td>0.0</td>\n",
       "    </tr>\n",
       "    <tr>\n",
       "      <th>roam_ic_mou_6</th>\n",
       "      <td>0.0</td>\n",
       "    </tr>\n",
       "    <tr>\n",
       "      <th>roam_ic_mou_7</th>\n",
       "      <td>0.0</td>\n",
       "    </tr>\n",
       "    <tr>\n",
       "      <th>roam_og_mou_6</th>\n",
       "      <td>0.0</td>\n",
       "    </tr>\n",
       "    <tr>\n",
       "      <th>roam_og_mou_7</th>\n",
       "      <td>0.0</td>\n",
       "    </tr>\n",
       "    <tr>\n",
       "      <th>loc_og_t2t_mou_6</th>\n",
       "      <td>0.0</td>\n",
       "    </tr>\n",
       "    <tr>\n",
       "      <th>loc_og_t2t_mou_7</th>\n",
       "      <td>0.0</td>\n",
       "    </tr>\n",
       "    <tr>\n",
       "      <th>loc_og_t2m_mou_6</th>\n",
       "      <td>0.0</td>\n",
       "    </tr>\n",
       "    <tr>\n",
       "      <th>loc_og_t2m_mou_7</th>\n",
       "      <td>0.0</td>\n",
       "    </tr>\n",
       "    <tr>\n",
       "      <th>loc_og_t2f_mou_6</th>\n",
       "      <td>0.0</td>\n",
       "    </tr>\n",
       "    <tr>\n",
       "      <th>loc_og_t2f_mou_7</th>\n",
       "      <td>0.0</td>\n",
       "    </tr>\n",
       "    <tr>\n",
       "      <th>loc_og_t2c_mou_6</th>\n",
       "      <td>0.0</td>\n",
       "    </tr>\n",
       "    <tr>\n",
       "      <th>loc_og_t2c_mou_7</th>\n",
       "      <td>0.0</td>\n",
       "    </tr>\n",
       "    <tr>\n",
       "      <th>loc_og_mou_6</th>\n",
       "      <td>0.0</td>\n",
       "    </tr>\n",
       "    <tr>\n",
       "      <th>loc_og_mou_7</th>\n",
       "      <td>0.0</td>\n",
       "    </tr>\n",
       "    <tr>\n",
       "      <th>std_og_t2t_mou_6</th>\n",
       "      <td>0.0</td>\n",
       "    </tr>\n",
       "    <tr>\n",
       "      <th>std_og_t2t_mou_7</th>\n",
       "      <td>0.0</td>\n",
       "    </tr>\n",
       "    <tr>\n",
       "      <th>std_og_t2m_mou_6</th>\n",
       "      <td>0.0</td>\n",
       "    </tr>\n",
       "    <tr>\n",
       "      <th>std_og_t2m_mou_7</th>\n",
       "      <td>0.0</td>\n",
       "    </tr>\n",
       "    <tr>\n",
       "      <th>std_og_t2f_mou_6</th>\n",
       "      <td>0.0</td>\n",
       "    </tr>\n",
       "    <tr>\n",
       "      <th>std_og_t2f_mou_7</th>\n",
       "      <td>0.0</td>\n",
       "    </tr>\n",
       "    <tr>\n",
       "      <th>std_og_mou_6</th>\n",
       "      <td>0.0</td>\n",
       "    </tr>\n",
       "    <tr>\n",
       "      <th>isd_ic_mou_7</th>\n",
       "      <td>0.0</td>\n",
       "    </tr>\n",
       "  </tbody>\n",
       "</table>\n",
       "</div>"
      ],
      "text/plain": [
       "                  Null_Percentage\n",
       "onnet_mou_6                   0.0\n",
       "std_ic_t2t_mou_6              0.0\n",
       "spl_og_mou_7                  0.0\n",
       "total_og_mou_6                0.0\n",
       "total_og_mou_7                0.0\n",
       "loc_ic_t2t_mou_6              0.0\n",
       "loc_ic_t2t_mou_7              0.0\n",
       "loc_ic_t2m_mou_6              0.0\n",
       "loc_ic_t2m_mou_7              0.0\n",
       "loc_ic_t2f_mou_6              0.0\n",
       "loc_ic_t2f_mou_7              0.0\n",
       "loc_ic_mou_6                  0.0\n",
       "loc_ic_mou_7                  0.0\n",
       "std_ic_t2t_mou_7              0.0\n",
       "onnet_mou_7                   0.0\n",
       "std_ic_t2m_mou_6              0.0\n",
       "std_ic_t2m_mou_7              0.0\n",
       "std_ic_t2f_mou_6              0.0\n",
       "std_ic_t2f_mou_7              0.0\n",
       "std_ic_mou_6                  0.0\n",
       "std_ic_mou_7                  0.0\n",
       "total_ic_mou_6                0.0\n",
       "total_ic_mou_7                0.0\n",
       "spl_ic_mou_6                  0.0\n",
       "spl_ic_mou_7                  0.0\n",
       "isd_ic_mou_6                  0.0\n",
       "spl_og_mou_6                  0.0\n",
       "isd_og_mou_7                  0.0\n",
       "isd_og_mou_6                  0.0\n",
       "std_og_mou_7                  0.0\n",
       "offnet_mou_6                  0.0\n",
       "offnet_mou_7                  0.0\n",
       "roam_ic_mou_6                 0.0\n",
       "roam_ic_mou_7                 0.0\n",
       "roam_og_mou_6                 0.0\n",
       "roam_og_mou_7                 0.0\n",
       "loc_og_t2t_mou_6              0.0\n",
       "loc_og_t2t_mou_7              0.0\n",
       "loc_og_t2m_mou_6              0.0\n",
       "loc_og_t2m_mou_7              0.0\n",
       "loc_og_t2f_mou_6              0.0\n",
       "loc_og_t2f_mou_7              0.0\n",
       "loc_og_t2c_mou_6              0.0\n",
       "loc_og_t2c_mou_7              0.0\n",
       "loc_og_mou_6                  0.0\n",
       "loc_og_mou_7                  0.0\n",
       "std_og_t2t_mou_6              0.0\n",
       "std_og_t2t_mou_7              0.0\n",
       "std_og_t2m_mou_6              0.0\n",
       "std_og_t2m_mou_7              0.0\n",
       "std_og_t2f_mou_6              0.0\n",
       "std_og_t2f_mou_7              0.0\n",
       "std_og_mou_6                  0.0\n",
       "isd_ic_mou_7                  0.0"
      ]
     },
     "execution_count": 592,
     "metadata": {},
     "output_type": "execute_result"
    }
   ],
   "source": [
    "meta_df = get_meta_data(data[mou_cols])\n",
    "meta_df.sort_values([\"Null_Percentage\"], axis=0,ascending=False, inplace=True)\n",
    "col_to_display = ['Null_Percentage']\n",
    "meta_df[col_to_display]"
   ]
  },
  {
   "cell_type": "code",
   "execution_count": 593,
   "metadata": {
    "execution": {
     "iopub.execute_input": "2022-05-02T17:56:13.373436Z",
     "iopub.status.busy": "2022-05-02T17:56:13.37224Z",
     "iopub.status.idle": "2022-05-02T17:56:13.379772Z",
     "shell.execute_reply": "2022-05-02T17:56:13.378714Z",
     "shell.execute_reply.started": "2022-05-02T17:56:13.373375Z"
    }
   },
   "outputs": [],
   "source": [
    "def heatmap(x,y,dataframe):\n",
    "    plt.figure(figsize=(x,y))\n",
    "    sns.heatmap(dataframe.corr(),cmap=\"OrRd\",annot=True)\n",
    "    plt.show()"
   ]
  },
  {
   "cell_type": "code",
   "execution_count": 594,
   "metadata": {
    "execution": {
     "iopub.execute_input": "2022-05-02T17:56:13.631491Z",
     "iopub.status.busy": "2022-05-02T17:56:13.630917Z",
     "iopub.status.idle": "2022-05-02T17:56:13.636843Z",
     "shell.execute_reply": "2022-05-02T17:56:13.636086Z",
     "shell.execute_reply.started": "2022-05-02T17:56:13.631434Z"
    }
   },
   "outputs": [],
   "source": [
    "mou_og_cols6 = data.columns[data.columns.str.contains('.*_og_.*mou_6',regex=True)]\n"
   ]
  },
  {
   "cell_type": "code",
   "execution_count": 595,
   "metadata": {
    "execution": {
     "iopub.execute_input": "2022-05-02T17:56:14.319266Z",
     "iopub.status.busy": "2022-05-02T17:56:14.318705Z",
     "iopub.status.idle": "2022-05-02T17:56:15.362189Z",
     "shell.execute_reply": "2022-05-02T17:56:15.361393Z",
     "shell.execute_reply.started": "2022-05-02T17:56:14.319209Z"
    }
   },
   "outputs": [
    {
     "data": {
      "image/png": "[encoded data removed]",
      "text/plain": [
       "<Figure size 1296x864 with 2 Axes>"
      ]
     },
     "metadata": {
      "needs_background": "light"
     },
     "output_type": "display_data"
    }
   ],
   "source": [
    "heatmap(18,12,data.filter(mou_og_cols6))"
   ]
  },
  {
   "cell_type": "markdown",
   "metadata": {},
   "source": [
    "We can see that total_og_mou_6, std_og_mou_6 and loc_og_mou_6 seems to have strong correlation with other fileds and they needs to be inspected to avoid any multicolinearity issues."
   ]
  },
  {
   "cell_type": "code",
   "execution_count": 596,
   "metadata": {
    "execution": {
     "iopub.execute_input": "2022-05-02T17:56:15.364351Z",
     "iopub.status.busy": "2022-05-02T17:56:15.363713Z",
     "iopub.status.idle": "2022-05-02T17:56:15.375496Z",
     "shell.execute_reply": "2022-05-02T17:56:15.374369Z",
     "shell.execute_reply.started": "2022-05-02T17:56:15.364276Z"
    }
   },
   "outputs": [
    {
     "name": "stdout",
     "output_type": "stream",
     "text": [
      "4          63.26\n",
      "10        101.05\n",
      "12        816.44\n",
      "14        228.66\n",
      "15        327.64\n",
      "          ...   \n",
      "69981    1104.47\n",
      "69984     916.77\n",
      "69993     156.79\n",
      "69996     412.66\n",
      "69997      39.78\n",
      "Name: total_ABC, Length: 20994, dtype: float64\n"
     ]
    }
   ],
   "source": [
    "data['total_ABC'] = data[[\"loc_og_mou_6\", \"std_og_mou_6\", \"spl_og_mou_6\",\"isd_og_mou_6\",\"og_others_6\"]].sum(axis=1)\n",
    "print(data['total_ABC'])"
   ]
  },
  {
   "cell_type": "code",
   "execution_count": 597,
   "metadata": {
    "execution": {
     "iopub.execute_input": "2022-05-02T17:56:15.378115Z",
     "iopub.status.busy": "2022-05-02T17:56:15.377455Z",
     "iopub.status.idle": "2022-05-02T17:56:15.385944Z",
     "shell.execute_reply": "2022-05-02T17:56:15.385369Z",
     "shell.execute_reply.started": "2022-05-02T17:56:15.378069Z"
    }
   },
   "outputs": [
    {
     "name": "stdout",
     "output_type": "stream",
     "text": [
      "4          63.26\n",
      "10        101.06\n",
      "12        816.44\n",
      "14        228.68\n",
      "15        327.64\n",
      "          ...   \n",
      "69981    1104.48\n",
      "69984     916.79\n",
      "69993     156.81\n",
      "69996     412.68\n",
      "69997      39.78\n",
      "Name: total_og_mou_6, Length: 20994, dtype: float64\n"
     ]
    }
   ],
   "source": [
    "print(data['total_og_mou_6'])"
   ]
  },
  {
   "cell_type": "markdown",
   "metadata": {},
   "source": [
    "We can see that total_og_mou_6, std_og_mou_6 and loc_og_mou_6 is a combination of other variables present in dataset.So we can remove these columns for all months from the data set"
   ]
  },
  {
   "cell_type": "code",
   "execution_count": 598,
   "metadata": {
    "execution": {
     "iopub.execute_input": "2022-05-02T17:56:15.562357Z",
     "iopub.status.busy": "2022-05-02T17:56:15.56203Z",
     "iopub.status.idle": "2022-05-02T17:56:15.591666Z",
     "shell.execute_reply": "2022-05-02T17:56:15.590664Z",
     "shell.execute_reply.started": "2022-05-02T17:56:15.562326Z"
    }
   },
   "outputs": [
    {
     "name": "stdout",
     "output_type": "stream",
     "text": [
      "Columns dropped - \n"
     ]
    },
    {
     "data": {
      "text/plain": [
       "['loc_og_mou_6',\n",
       " 'loc_og_mou_7',\n",
       " 'std_og_mou_6',\n",
       " 'std_og_mou_7',\n",
       " 'total_og_mou_6',\n",
       " 'total_og_mou_7']"
      ]
     },
     "execution_count": 598,
     "metadata": {},
     "output_type": "execute_result"
    }
   ],
   "source": [
    "list_total_og_cols = data.columns[data.columns.str.contains('total_og_mou|std_og_mou|loc_og_mou',regex=True)]\n",
    "data.drop(list_total_og_cols,axis=1,inplace=True)\n",
    "print(\"Columns dropped - \")\n",
    "list_total_og_cols.tolist()"
   ]
  },
  {
   "cell_type": "code",
   "execution_count": 599,
   "metadata": {
    "execution": {
     "iopub.execute_input": "2022-05-02T17:56:15.831169Z",
     "iopub.status.busy": "2022-05-02T17:56:15.830833Z",
     "iopub.status.idle": "2022-05-02T17:56:15.844058Z",
     "shell.execute_reply": "2022-05-02T17:56:15.842876Z",
     "shell.execute_reply.started": "2022-05-02T17:56:15.831137Z"
    }
   },
   "outputs": [],
   "source": [
    "data.drop('total_ABC',axis=1,inplace=True)"
   ]
  },
  {
   "cell_type": "code",
   "execution_count": 600,
   "metadata": {
    "execution": {
     "iopub.execute_input": "2022-05-02T17:56:16.083503Z",
     "iopub.status.busy": "2022-05-02T17:56:16.081819Z",
     "iopub.status.idle": "2022-05-02T17:56:16.090584Z",
     "shell.execute_reply": "2022-05-02T17:56:16.089681Z",
     "shell.execute_reply.started": "2022-05-02T17:56:16.083439Z"
    }
   },
   "outputs": [
    {
     "data": {
      "text/plain": [
       "(20994, 94)"
      ]
     },
     "execution_count": 600,
     "metadata": {},
     "output_type": "execute_result"
    }
   ],
   "source": [
    "data.shape"
   ]
  },
  {
   "cell_type": "markdown",
   "metadata": {},
   "source": [
    "Check for incoming calls"
   ]
  },
  {
   "cell_type": "code",
   "execution_count": 601,
   "metadata": {
    "execution": {
     "iopub.execute_input": "2022-05-02T17:56:16.829266Z",
     "iopub.status.busy": "2022-05-02T17:56:16.828156Z",
     "iopub.status.idle": "2022-05-02T17:56:16.834811Z",
     "shell.execute_reply": "2022-05-02T17:56:16.833879Z",
     "shell.execute_reply.started": "2022-05-02T17:56:16.829202Z"
    }
   },
   "outputs": [],
   "source": [
    "mou_ic_cols6 = data.columns[data.columns.str.contains('.*_ic_.*mou_6',regex=True)]"
   ]
  },
  {
   "cell_type": "code",
   "execution_count": 602,
   "metadata": {
    "execution": {
     "iopub.execute_input": "2022-05-02T17:56:17.052326Z",
     "iopub.status.busy": "2022-05-02T17:56:17.050761Z",
     "iopub.status.idle": "2022-05-02T17:56:17.062479Z",
     "shell.execute_reply": "2022-05-02T17:56:17.060994Z",
     "shell.execute_reply.started": "2022-05-02T17:56:17.052229Z"
    }
   },
   "outputs": [
    {
     "data": {
      "text/plain": [
       "Index(['roam_ic_mou_6', 'loc_ic_t2t_mou_6', 'loc_ic_t2m_mou_6',\n",
       "       'loc_ic_t2f_mou_6', 'loc_ic_mou_6', 'std_ic_t2t_mou_6',\n",
       "       'std_ic_t2m_mou_6', 'std_ic_t2f_mou_6', 'std_ic_mou_6',\n",
       "       'total_ic_mou_6', 'spl_ic_mou_6', 'isd_ic_mou_6'],\n",
       "      dtype='object')"
      ]
     },
     "execution_count": 602,
     "metadata": {},
     "output_type": "execute_result"
    }
   ],
   "source": [
    "mou_ic_cols6"
   ]
  },
  {
   "cell_type": "code",
   "execution_count": 603,
   "metadata": {
    "execution": {
     "iopub.execute_input": "2022-05-02T17:56:17.267936Z",
     "iopub.status.busy": "2022-05-02T17:56:17.267172Z",
     "iopub.status.idle": "2022-05-02T17:56:18.413425Z",
     "shell.execute_reply": "2022-05-02T17:56:18.412707Z",
     "shell.execute_reply.started": "2022-05-02T17:56:17.267893Z"
    }
   },
   "outputs": [
    {
     "data": {
      "image/png": "[encoded data removed]",
      "text/plain": [
       "<Figure size 1296x864 with 2 Axes>"
      ]
     },
     "metadata": {
      "needs_background": "light"
     },
     "output_type": "display_data"
    }
   ],
   "source": [
    "heatmap(18,12,data.filter(mou_ic_cols6))"
   ]
  },
  {
   "cell_type": "markdown",
   "metadata": {},
   "source": [
    "We can see that total_ic_mou_6, std_ic_mou_6 and loc_ic_mou_6 seems to have strong correlation with other fileds and they needs to be inspected to avoid any multicolinearity issues."
   ]
  },
  {
   "cell_type": "code",
   "execution_count": 604,
   "metadata": {
    "execution": {
     "iopub.execute_input": "2022-05-02T17:56:18.415567Z",
     "iopub.status.busy": "2022-05-02T17:56:18.414962Z",
     "iopub.status.idle": "2022-05-02T17:56:18.426516Z",
     "shell.execute_reply": "2022-05-02T17:56:18.425259Z",
     "shell.execute_reply.started": "2022-05-02T17:56:18.415525Z"
    }
   },
   "outputs": [
    {
     "name": "stdout",
     "output_type": "stream",
     "text": [
      "4         21.53\n",
      "10       140.68\n",
      "12        26.93\n",
      "14       289.09\n",
      "15       233.17\n",
      "          ...  \n",
      "69981    435.85\n",
      "69984    324.36\n",
      "69993     20.23\n",
      "69996    529.46\n",
      "69997     12.36\n",
      "Name: total_ABC, Length: 20994, dtype: float64\n"
     ]
    }
   ],
   "source": [
    "data['total_ABC'] =data[['loc_ic_t2t_mou_6','loc_ic_t2m_mou_6','loc_ic_t2f_mou_6']].sum(axis=1)\n",
    "\n",
    "print(data['total_ABC'])"
   ]
  },
  {
   "cell_type": "code",
   "execution_count": 605,
   "metadata": {
    "execution": {
     "iopub.execute_input": "2022-05-02T17:56:18.429145Z",
     "iopub.status.busy": "2022-05-02T17:56:18.428665Z",
     "iopub.status.idle": "2022-05-02T17:56:18.437179Z",
     "shell.execute_reply": "2022-05-02T17:56:18.436384Z",
     "shell.execute_reply.started": "2022-05-02T17:56:18.429102Z"
    }
   },
   "outputs": [
    {
     "name": "stdout",
     "output_type": "stream",
     "text": [
      "4         21.54\n",
      "10       140.69\n",
      "12        26.93\n",
      "14       289.09\n",
      "15       233.18\n",
      "          ...  \n",
      "69981    435.86\n",
      "69984    324.38\n",
      "69993     20.24\n",
      "69996    529.48\n",
      "69997     12.38\n",
      "Name: loc_ic_mou_6, Length: 20994, dtype: float64\n"
     ]
    }
   ],
   "source": [
    "print(data['loc_ic_mou_6'])"
   ]
  },
  {
   "cell_type": "markdown",
   "metadata": {},
   "source": [
    "We can see that total_ic_mou_6, std_ic_mou_6 and loc_ic_mou_6 is a combination of other variables present in dataset.So we can remove these columns for all months from the data set"
   ]
  },
  {
   "cell_type": "code",
   "execution_count": 606,
   "metadata": {
    "execution": {
     "iopub.execute_input": "2022-05-02T17:56:18.733538Z",
     "iopub.status.busy": "2022-05-02T17:56:18.733172Z",
     "iopub.status.idle": "2022-05-02T17:56:18.758751Z",
     "shell.execute_reply": "2022-05-02T17:56:18.757821Z",
     "shell.execute_reply.started": "2022-05-02T17:56:18.733502Z"
    }
   },
   "outputs": [
    {
     "name": "stdout",
     "output_type": "stream",
     "text": [
      "Columns dropped - \n",
      "['loc_ic_mou_6', 'loc_ic_mou_7', 'std_ic_mou_6', 'std_ic_mou_7', 'total_ic_mou_6', 'total_ic_mou_7']\n"
     ]
    }
   ],
   "source": [
    "list_total_ic_cols = data.columns[data.columns.str.contains('total_ic_mou|std_ic_mou|loc_ic_mou',regex=True)]\n",
    "data.drop(list_total_ic_cols,axis=1,inplace=True)\n",
    "print(\"Columns dropped - \")\n",
    "print(list_total_ic_cols.tolist())"
   ]
  },
  {
   "cell_type": "code",
   "execution_count": 607,
   "metadata": {
    "execution": {
     "iopub.execute_input": "2022-05-02T17:56:19.104456Z",
     "iopub.status.busy": "2022-05-02T17:56:19.104079Z",
     "iopub.status.idle": "2022-05-02T17:56:19.110335Z",
     "shell.execute_reply": "2022-05-02T17:56:19.109012Z",
     "shell.execute_reply.started": "2022-05-02T17:56:19.104419Z"
    }
   },
   "outputs": [
    {
     "name": "stdout",
     "output_type": "stream",
     "text": [
      "(20994, 89)\n"
     ]
    }
   ],
   "source": [
    "print(data.shape)"
   ]
  },
  {
   "cell_type": "code",
   "execution_count": 608,
   "metadata": {
    "execution": {
     "iopub.execute_input": "2022-05-02T17:56:19.316749Z",
     "iopub.status.busy": "2022-05-02T17:56:19.316261Z",
     "iopub.status.idle": "2022-05-02T17:56:19.32972Z",
     "shell.execute_reply": "2022-05-02T17:56:19.328451Z",
     "shell.execute_reply.started": "2022-05-02T17:56:19.316684Z"
    }
   },
   "outputs": [],
   "source": [
    "data.drop('total_ABC',axis=1,inplace=True)"
   ]
  },
  {
   "cell_type": "code",
   "execution_count": 609,
   "metadata": {
    "execution": {
     "iopub.execute_input": "2022-05-02T17:56:19.446429Z",
     "iopub.status.busy": "2022-05-02T17:56:19.446077Z",
     "iopub.status.idle": "2022-05-02T17:56:19.453071Z",
     "shell.execute_reply": "2022-05-02T17:56:19.452212Z",
     "shell.execute_reply.started": "2022-05-02T17:56:19.446394Z"
    }
   },
   "outputs": [
    {
     "name": "stdout",
     "output_type": "stream",
     "text": [
      "(20994, 88)\n"
     ]
    }
   ],
   "source": [
    "print(data.shape)"
   ]
  },
  {
   "cell_type": "code",
   "execution_count": 610,
   "metadata": {
    "execution": {
     "iopub.execute_input": "2022-05-02T17:56:19.551041Z",
     "iopub.status.busy": "2022-05-02T17:56:19.550556Z",
     "iopub.status.idle": "2022-05-02T17:56:19.567481Z",
     "shell.execute_reply": "2022-05-02T17:56:19.566128Z",
     "shell.execute_reply.started": "2022-05-02T17:56:19.550992Z"
    }
   },
   "outputs": [
    {
     "name": "stdout",
     "output_type": "stream",
     "text": [
      "Columns dropped - \n"
     ]
    },
    {
     "data": {
      "text/plain": [
       "['loc_og_mou_6',\n",
       " 'loc_og_mou_7',\n",
       " 'std_og_mou_6',\n",
       " 'std_og_mou_7',\n",
       " 'total_og_mou_6',\n",
       " 'total_og_mou_7']"
      ]
     },
     "execution_count": 610,
     "metadata": {},
     "output_type": "execute_result"
    }
   ],
   "source": [
    "list_total_og_cols1 = unseen.columns[unseen.columns.str.contains('total_og_mou|std_og_mou|loc_og_mou',regex=True)]\n",
    "unseen.drop(list_total_og_cols1,axis=1,inplace=True)\n",
    "print(\"Columns dropped - \")\n",
    "list_total_og_cols1.tolist()"
   ]
  },
  {
   "cell_type": "code",
   "execution_count": 611,
   "metadata": {
    "execution": {
     "iopub.execute_input": "2022-05-02T17:56:19.96817Z",
     "iopub.status.busy": "2022-05-02T17:56:19.967262Z",
     "iopub.status.idle": "2022-05-02T17:56:19.984918Z",
     "shell.execute_reply": "2022-05-02T17:56:19.983696Z",
     "shell.execute_reply.started": "2022-05-02T17:56:19.968106Z"
    }
   },
   "outputs": [
    {
     "name": "stdout",
     "output_type": "stream",
     "text": [
      "Columns dropped - \n",
      "['loc_ic_mou_6', 'loc_ic_mou_7', 'std_ic_mou_6', 'std_ic_mou_7', 'total_ic_mou_6', 'total_ic_mou_7']\n"
     ]
    }
   ],
   "source": [
    "list_total_ic_cols1 = unseen.columns[unseen.columns.str.contains('total_ic_mou|std_ic_mou|loc_ic_mou',regex=True)]\n",
    "unseen.drop(list_total_ic_cols1,axis=1,inplace=True)\n",
    "print(\"Columns dropped - \")\n",
    "print(list_total_ic_cols1.tolist())"
   ]
  },
  {
   "cell_type": "code",
   "execution_count": 612,
   "metadata": {
    "execution": {
     "iopub.execute_input": "2022-05-02T17:56:20.080594Z",
     "iopub.status.busy": "2022-05-02T17:56:20.079428Z",
     "iopub.status.idle": "2022-05-02T17:56:20.087198Z",
     "shell.execute_reply": "2022-05-02T17:56:20.085926Z",
     "shell.execute_reply.started": "2022-05-02T17:56:20.080511Z"
    }
   },
   "outputs": [
    {
     "name": "stdout",
     "output_type": "stream",
     "text": [
      "(30000, 83)\n"
     ]
    }
   ],
   "source": [
    "print(unseen.shape)"
   ]
  },
  {
   "cell_type": "markdown",
   "metadata": {},
   "source": [
    "Offnet Usage"
   ]
  },
  {
   "cell_type": "code",
   "execution_count": 613,
   "metadata": {
    "execution": {
     "iopub.execute_input": "2022-05-02T17:56:20.230251Z",
     "iopub.status.busy": "2022-05-02T17:56:20.229806Z",
     "iopub.status.idle": "2022-05-02T17:56:20.237206Z",
     "shell.execute_reply": "2022-05-02T17:56:20.235462Z",
     "shell.execute_reply.started": "2022-05-02T17:56:20.230212Z"
    }
   },
   "outputs": [],
   "source": [
    "offnet_usage_service_col = data.columns[data.columns.str.contains('offnet.*mou',regex=True)]"
   ]
  },
  {
   "cell_type": "code",
   "execution_count": 614,
   "metadata": {
    "execution": {
     "iopub.execute_input": "2022-05-02T17:56:20.438062Z",
     "iopub.status.busy": "2022-05-02T17:56:20.437807Z",
     "iopub.status.idle": "2022-05-02T17:56:20.812305Z",
     "shell.execute_reply": "2022-05-02T17:56:20.811237Z",
     "shell.execute_reply.started": "2022-05-02T17:56:20.438035Z"
    }
   },
   "outputs": [
    {
     "data": {
      "image/png": "[encoded data removed]",
      "text/plain": [
       "<Figure size 1440x1152 with 2 Axes>"
      ]
     },
     "metadata": {
      "needs_background": "light"
     },
     "output_type": "display_data"
    }
   ],
   "source": [
    "plt.figure(figsize=(20,16))\n",
    "df = data\n",
    "plt.subplot(2,3,1)\n",
    "sns.boxplot(data=df, y=\"offnet_mou_6\",x=\"churn\",hue=\"churn\",\n",
    "            showfliers=False,palette=(\"plasma\"))\n",
    "plt.subplot(2,3,2)\n",
    "sns.boxplot(data=df, y=\"offnet_mou_7\",x=\"churn\",hue=\"churn\",\n",
    "            showfliers=False,palette=(\"plasma\"))\n",
    "\n",
    "plt.show()"
   ]
  },
  {
   "cell_type": "code",
   "execution_count": 615,
   "metadata": {
    "execution": {
     "iopub.execute_input": "2022-05-02T17:56:21.001508Z",
     "iopub.status.busy": "2022-05-02T17:56:21.001153Z",
     "iopub.status.idle": "2022-05-02T17:56:21.205614Z",
     "shell.execute_reply": "2022-05-02T17:56:21.20472Z",
     "shell.execute_reply.started": "2022-05-02T17:56:21.001472Z"
    }
   },
   "outputs": [
    {
     "data": {
      "image/png": "[encoded data removed]",
      "text/plain": [
       "<Figure size 720x360 with 1 Axes>"
      ]
     },
     "metadata": {
      "needs_background": "light"
     },
     "output_type": "display_data"
    },
    {
     "data": {
      "text/html": [
       "<div>\n",
       "<style scoped>\n",
       "    .dataframe tbody tr th:only-of-type {\n",
       "        vertical-align: middle;\n",
       "    }\n",
       "\n",
       "    .dataframe tbody tr th {\n",
       "        vertical-align: top;\n",
       "    }\n",
       "\n",
       "    .dataframe thead th {\n",
       "        text-align: right;\n",
       "    }\n",
       "</style>\n",
       "<table border=\"1\" class=\"dataframe\">\n",
       "  <thead>\n",
       "    <tr style=\"text-align: right;\">\n",
       "      <th></th>\n",
       "      <th>offnet_mou_6</th>\n",
       "      <th>offnet_mou_7</th>\n",
       "    </tr>\n",
       "  </thead>\n",
       "  <tbody>\n",
       "    <tr>\n",
       "      <th>Non Churn</th>\n",
       "      <td>387.818554</td>\n",
       "      <td>357.174877</td>\n",
       "    </tr>\n",
       "    <tr>\n",
       "      <th>Churn</th>\n",
       "      <td>444.221583</td>\n",
       "      <td>169.825461</td>\n",
       "    </tr>\n",
       "  </tbody>\n",
       "</table>\n",
       "</div>"
      ],
      "text/plain": [
       "           offnet_mou_6  offnet_mou_7\n",
       "Non Churn    387.818554    357.174877\n",
       "Churn        444.221583    169.825461"
      ]
     },
     "execution_count": 615,
     "metadata": {},
     "output_type": "execute_result"
    }
   ],
   "source": [
    "plot_mean_bar_chart(data, offnet_usage_service_col)"
   ]
  },
  {
   "cell_type": "markdown",
   "metadata": {},
   "source": [
    "We can see the drop for offnet mou services in the 7th month"
   ]
  },
  {
   "cell_type": "markdown",
   "metadata": {},
   "source": [
    " ONNET : All kind of calls within the same operator network"
   ]
  },
  {
   "cell_type": "code",
   "execution_count": 616,
   "metadata": {
    "execution": {
     "iopub.execute_input": "2022-05-02T17:56:21.361241Z",
     "iopub.status.busy": "2022-05-02T17:56:21.360748Z",
     "iopub.status.idle": "2022-05-02T17:56:21.366986Z",
     "shell.execute_reply": "2022-05-02T17:56:21.366085Z",
     "shell.execute_reply.started": "2022-05-02T17:56:21.361196Z"
    }
   },
   "outputs": [],
   "source": [
    "#minutes of usage related columns\n",
    "onnet_usage_service =  data.columns[data.columns.str.contains('^onnet.*mou',regex=True)]"
   ]
  },
  {
   "cell_type": "code",
   "execution_count": 617,
   "metadata": {
    "execution": {
     "iopub.execute_input": "2022-05-02T17:56:21.562044Z",
     "iopub.status.busy": "2022-05-02T17:56:21.561401Z",
     "iopub.status.idle": "2022-05-02T17:56:21.568904Z",
     "shell.execute_reply": "2022-05-02T17:56:21.568091Z",
     "shell.execute_reply.started": "2022-05-02T17:56:21.561999Z"
    }
   },
   "outputs": [
    {
     "data": {
      "text/plain": [
       "Index(['onnet_mou_6', 'onnet_mou_7'], dtype='object')"
      ]
     },
     "execution_count": 617,
     "metadata": {},
     "output_type": "execute_result"
    }
   ],
   "source": [
    "onnet_usage_service"
   ]
  },
  {
   "cell_type": "code",
   "execution_count": 618,
   "metadata": {
    "execution": {
     "iopub.execute_input": "2022-05-02T17:56:21.768625Z",
     "iopub.status.busy": "2022-05-02T17:56:21.768171Z",
     "iopub.status.idle": "2022-05-02T17:56:22.14142Z",
     "shell.execute_reply": "2022-05-02T17:56:22.140497Z",
     "shell.execute_reply.started": "2022-05-02T17:56:21.76859Z"
    }
   },
   "outputs": [
    {
     "data": {
      "image/png": "[encoded data removed]",
      "text/plain": [
       "<Figure size 1440x1152 with 2 Axes>"
      ]
     },
     "metadata": {
      "needs_background": "light"
     },
     "output_type": "display_data"
    }
   ],
   "source": [
    "plt.figure(figsize=(20,16))\n",
    "df = data\n",
    "plt.subplot(2,3,1)\n",
    "sns.boxplot(data=df, y=\"onnet_mou_6\",x=\"churn\",hue=\"churn\",\n",
    "            showfliers=False,palette=(\"plasma\"))\n",
    "plt.subplot(2,3,2)\n",
    "sns.boxplot(data=df, y=\"onnet_mou_7\",x=\"churn\",hue=\"churn\",\n",
    "            showfliers=False,palette=(\"plasma\"))\n",
    "\n",
    "plt.show()"
   ]
  },
  {
   "cell_type": "code",
   "execution_count": 619,
   "metadata": {
    "execution": {
     "iopub.execute_input": "2022-05-02T17:56:22.370195Z",
     "iopub.status.busy": "2022-05-02T17:56:22.369279Z",
     "iopub.status.idle": "2022-05-02T17:56:22.580362Z",
     "shell.execute_reply": "2022-05-02T17:56:22.579664Z",
     "shell.execute_reply.started": "2022-05-02T17:56:22.370129Z"
    }
   },
   "outputs": [
    {
     "data": {
      "image/png": "[encoded data removed]",
      "text/plain": [
       "<Figure size 720x360 with 1 Axes>"
      ]
     },
     "metadata": {
      "needs_background": "light"
     },
     "output_type": "display_data"
    },
    {
     "data": {
      "text/html": [
       "<div>\n",
       "<style scoped>\n",
       "    .dataframe tbody tr th:only-of-type {\n",
       "        vertical-align: middle;\n",
       "    }\n",
       "\n",
       "    .dataframe tbody tr th {\n",
       "        vertical-align: top;\n",
       "    }\n",
       "\n",
       "    .dataframe thead th {\n",
       "        text-align: right;\n",
       "    }\n",
       "</style>\n",
       "<table border=\"1\" class=\"dataframe\">\n",
       "  <thead>\n",
       "    <tr style=\"text-align: right;\">\n",
       "      <th></th>\n",
       "      <th>onnet_mou_6</th>\n",
       "      <th>onnet_mou_7</th>\n",
       "    </tr>\n",
       "  </thead>\n",
       "  <tbody>\n",
       "    <tr>\n",
       "      <th>Non Churn</th>\n",
       "      <td>268.201099</td>\n",
       "      <td>250.911664</td>\n",
       "    </tr>\n",
       "    <tr>\n",
       "      <th>Churn</th>\n",
       "      <td>385.279129</td>\n",
       "      <td>148.850119</td>\n",
       "    </tr>\n",
       "  </tbody>\n",
       "</table>\n",
       "</div>"
      ],
      "text/plain": [
       "           onnet_mou_6  onnet_mou_7\n",
       "Non Churn   268.201099   250.911664\n",
       "Churn       385.279129   148.850119"
      ]
     },
     "execution_count": 619,
     "metadata": {},
     "output_type": "execute_result"
    }
   ],
   "source": [
    "plot_mean_bar_chart(data, onnet_usage_service)"
   ]
  },
  {
   "cell_type": "markdown",
   "metadata": {},
   "source": [
    "We also see that there is a drop in Onnet usage in the 7th month for churned customers"
   ]
  },
  {
   "cell_type": "markdown",
   "metadata": {},
   "source": [
    "Tenure Analysis for Customers"
   ]
  },
  {
   "cell_type": "code",
   "execution_count": 620,
   "metadata": {
    "execution": {
     "iopub.execute_input": "2022-05-02T17:56:22.583827Z",
     "iopub.status.busy": "2022-05-02T17:56:22.582872Z",
     "iopub.status.idle": "2022-05-02T17:56:22.591033Z",
     "shell.execute_reply": "2022-05-02T17:56:22.589893Z",
     "shell.execute_reply.started": "2022-05-02T17:56:22.58379Z"
    }
   },
   "outputs": [],
   "source": [
    "tenure_data = data.copy()"
   ]
  },
  {
   "cell_type": "code",
   "execution_count": 621,
   "metadata": {
    "execution": {
     "iopub.execute_input": "2022-05-02T17:56:22.796018Z",
     "iopub.status.busy": "2022-05-02T17:56:22.795574Z",
     "iopub.status.idle": "2022-05-02T17:56:23.061132Z",
     "shell.execute_reply": "2022-05-02T17:56:23.060149Z",
     "shell.execute_reply.started": "2022-05-02T17:56:22.795972Z"
    }
   },
   "outputs": [
    {
     "data": {
      "image/png": "[encoded data removed]",
      "text/plain": [
       "<Figure size 1008x576 with 1 Axes>"
      ]
     },
     "metadata": {
      "needs_background": "light"
     },
     "output_type": "display_data"
    }
   ],
   "source": [
    "plt.figure(figsize=(14,8))\n",
    "# aon --> Age on network - number of days the customer is using the operator T network\n",
    "tenure_data['tenure'] = tenure_data['aon']/30\n",
    "tenure_data['tenure'].head()\n",
    "ax = sns.distplot(tenure_data['tenure'], hist=True, kde=False, \n",
    "             bins=int(180/5), color = 'darkgreen', \n",
    "             hist_kws={'edgecolor':'red'},\n",
    "             kde_kws={'linewidth': 4})\n",
    "ax.set_ylabel('Number of Customers')\n",
    "ax.set_xlabel('Tenure in Months')\n",
    "ax.set_title('Customers Vs Tenure')\n",
    "plt.show()"
   ]
  },
  {
   "cell_type": "code",
   "execution_count": 622,
   "metadata": {
    "execution": {
     "iopub.execute_input": "2022-05-02T17:56:23.411836Z",
     "iopub.status.busy": "2022-05-02T17:56:23.410794Z",
     "iopub.status.idle": "2022-05-02T17:56:23.425449Z",
     "shell.execute_reply": "2022-05-02T17:56:23.424258Z",
     "shell.execute_reply.started": "2022-05-02T17:56:23.41179Z"
    }
   },
   "outputs": [
    {
     "data": {
      "text/plain": [
       "4         1-2 Yrs\n",
       "10        1-2 Yrs\n",
       "12    6-12 Months\n",
       "14        2-5 Yrs\n",
       "15        1-2 Yrs\n",
       "Name: tenure_range, dtype: category\n",
       "Categories (5, object): ['0-6 Months' < '6-12 Months' < '1-2 Yrs' < '2-5 Yrs' < '5 Yrs and above']"
      ]
     },
     "execution_count": 622,
     "metadata": {},
     "output_type": "execute_result"
    }
   ],
   "source": [
    "tn_range = [0, 6, 12, 24, 60, 61]\n",
    "tn_label = [ '0-6 Months', '6-12 Months', '1-2 Yrs', '2-5 Yrs', '5 Yrs and above']\n",
    "tenure_data['tenure_range'] = pd.cut(tenure_data['tenure'], tn_range, labels=tn_label)\n",
    "tenure_data['tenure_range'].head()"
   ]
  },
  {
   "cell_type": "code",
   "execution_count": 623,
   "metadata": {
    "execution": {
     "iopub.execute_input": "2022-05-02T17:56:23.624934Z",
     "iopub.status.busy": "2022-05-02T17:56:23.624632Z",
     "iopub.status.idle": "2022-05-02T17:56:23.859782Z",
     "shell.execute_reply": "2022-05-02T17:56:23.858778Z",
     "shell.execute_reply.started": "2022-05-02T17:56:23.624902Z"
    }
   },
   "outputs": [
    {
     "data": {
      "image/png": "[encoded data removed]",
      "text/plain": [
       "<Figure size 1008x576 with 1 Axes>"
      ]
     },
     "metadata": {
      "needs_background": "light"
     },
     "output_type": "display_data"
    }
   ],
   "source": [
    "plt.figure(figsize=(14,8))\n",
    "sns.countplot(x = 'tenure_range', hue = 'churn',data = tenure_data,palette=(\"plasma\"))\n",
    "plt.show()"
   ]
  },
  {
   "cell_type": "markdown",
   "metadata": {},
   "source": [
    "customers using for 5 years have no churn customer"
   ]
  },
  {
   "cell_type": "code",
   "execution_count": 624,
   "metadata": {
    "execution": {
     "iopub.execute_input": "2022-05-02T17:56:23.862107Z",
     "iopub.status.busy": "2022-05-02T17:56:23.861822Z",
     "iopub.status.idle": "2022-05-02T17:56:23.873625Z",
     "shell.execute_reply": "2022-05-02T17:56:23.872507Z",
     "shell.execute_reply.started": "2022-05-02T17:56:23.862074Z"
    }
   },
   "outputs": [],
   "source": [
    "data.drop('total_avg_rech_amnt_6_7_GPhase',axis=1,inplace=True)"
   ]
  },
  {
   "cell_type": "code",
   "execution_count": 625,
   "metadata": {
    "execution": {
     "iopub.execute_input": "2022-05-02T17:56:24.046797Z",
     "iopub.status.busy": "2022-05-02T17:56:24.046472Z",
     "iopub.status.idle": "2022-05-02T17:56:24.052948Z",
     "shell.execute_reply": "2022-05-02T17:56:24.052207Z",
     "shell.execute_reply.started": "2022-05-02T17:56:24.046765Z"
    }
   },
   "outputs": [
    {
     "data": {
      "text/plain": [
       "(20994, 87)"
      ]
     },
     "execution_count": 625,
     "metadata": {},
     "output_type": "execute_result"
    }
   ],
   "source": [
    "data.shape"
   ]
  },
  {
   "cell_type": "code",
   "execution_count": 626,
   "metadata": {
    "execution": {
     "iopub.execute_input": "2022-05-02T17:56:24.791095Z",
     "iopub.status.busy": "2022-05-02T17:56:24.790345Z",
     "iopub.status.idle": "2022-05-02T17:56:24.814641Z",
     "shell.execute_reply": "2022-05-02T17:56:24.813735Z",
     "shell.execute_reply.started": "2022-05-02T17:56:24.791057Z"
    }
   },
   "outputs": [
    {
     "name": "stdout",
     "output_type": "stream",
     "text": [
      "<class 'pandas.core.frame.DataFrame'>\n",
      "Int64Index: 20994 entries, 4 to 69997\n",
      "Data columns (total 87 columns):\n",
      " #   Column                 Non-Null Count  Dtype  \n",
      "---  ------                 --------------  -----  \n",
      " 0   id                     20994 non-null  int64  \n",
      " 1   arpu_6                 20994 non-null  float64\n",
      " 2   arpu_7                 20994 non-null  float64\n",
      " 3   onnet_mou_6            20994 non-null  float64\n",
      " 4   onnet_mou_7            20994 non-null  float64\n",
      " 5   offnet_mou_6           20994 non-null  float64\n",
      " 6   offnet_mou_7           20994 non-null  float64\n",
      " 7   roam_ic_mou_6          20994 non-null  float64\n",
      " 8   roam_ic_mou_7          20994 non-null  float64\n",
      " 9   roam_og_mou_6          20994 non-null  float64\n",
      " 10  roam_og_mou_7          20994 non-null  float64\n",
      " 11  loc_og_t2t_mou_6       20994 non-null  float64\n",
      " 12  loc_og_t2t_mou_7       20994 non-null  float64\n",
      " 13  loc_og_t2m_mou_6       20994 non-null  float64\n",
      " 14  loc_og_t2m_mou_7       20994 non-null  float64\n",
      " 15  loc_og_t2f_mou_6       20994 non-null  float64\n",
      " 16  loc_og_t2f_mou_7       20994 non-null  float64\n",
      " 17  loc_og_t2c_mou_6       20994 non-null  float64\n",
      " 18  loc_og_t2c_mou_7       20994 non-null  float64\n",
      " 19  std_og_t2t_mou_6       20994 non-null  float64\n",
      " 20  std_og_t2t_mou_7       20994 non-null  float64\n",
      " 21  std_og_t2m_mou_6       20994 non-null  float64\n",
      " 22  std_og_t2m_mou_7       20994 non-null  float64\n",
      " 23  std_og_t2f_mou_6       20994 non-null  float64\n",
      " 24  std_og_t2f_mou_7       20994 non-null  float64\n",
      " 25  isd_og_mou_6           20994 non-null  float64\n",
      " 26  isd_og_mou_7           20994 non-null  float64\n",
      " 27  spl_og_mou_6           20994 non-null  float64\n",
      " 28  spl_og_mou_7           20994 non-null  float64\n",
      " 29  og_others_6            20994 non-null  float64\n",
      " 30  og_others_7            20994 non-null  float64\n",
      " 31  loc_ic_t2t_mou_6       20994 non-null  float64\n",
      " 32  loc_ic_t2t_mou_7       20994 non-null  float64\n",
      " 33  loc_ic_t2m_mou_6       20994 non-null  float64\n",
      " 34  loc_ic_t2m_mou_7       20994 non-null  float64\n",
      " 35  loc_ic_t2f_mou_6       20994 non-null  float64\n",
      " 36  loc_ic_t2f_mou_7       20994 non-null  float64\n",
      " 37  std_ic_t2t_mou_6       20994 non-null  float64\n",
      " 38  std_ic_t2t_mou_7       20994 non-null  float64\n",
      " 39  std_ic_t2m_mou_6       20994 non-null  float64\n",
      " 40  std_ic_t2m_mou_7       20994 non-null  float64\n",
      " 41  std_ic_t2f_mou_6       20994 non-null  float64\n",
      " 42  std_ic_t2f_mou_7       20994 non-null  float64\n",
      " 43  spl_ic_mou_6           20994 non-null  float64\n",
      " 44  spl_ic_mou_7           20994 non-null  float64\n",
      " 45  isd_ic_mou_6           20994 non-null  float64\n",
      " 46  isd_ic_mou_7           20994 non-null  float64\n",
      " 47  ic_others_6            20994 non-null  float64\n",
      " 48  ic_others_7            20994 non-null  float64\n",
      " 49  total_rech_num_6       20994 non-null  int64  \n",
      " 50  total_rech_num_7       20994 non-null  int64  \n",
      " 51  total_rech_amt_6       20994 non-null  int64  \n",
      " 52  total_rech_amt_7       20994 non-null  int64  \n",
      " 53  max_rech_amt_6         20994 non-null  int64  \n",
      " 54  max_rech_amt_7         20994 non-null  int64  \n",
      " 55  last_day_rch_amt_6     20994 non-null  int64  \n",
      " 56  last_day_rch_amt_7     20994 non-null  int64  \n",
      " 57  total_rech_data_6      20994 non-null  float64\n",
      " 58  total_rech_data_7      20994 non-null  float64\n",
      " 59  max_rech_data_6        20994 non-null  float64\n",
      " 60  max_rech_data_7        20994 non-null  float64\n",
      " 61  av_rech_amt_data_6     20994 non-null  float64\n",
      " 62  av_rech_amt_data_7     20994 non-null  float64\n",
      " 63  vol_2g_mb_6            20994 non-null  float64\n",
      " 64  vol_2g_mb_7            20994 non-null  float64\n",
      " 65  vol_3g_mb_6            20994 non-null  float64\n",
      " 66  vol_3g_mb_7            20994 non-null  float64\n",
      " 67  night_pck_user_6       20994 non-null  float64\n",
      " 68  night_pck_user_7       20994 non-null  float64\n",
      " 69  monthly_2g_6           20994 non-null  int64  \n",
      " 70  monthly_2g_7           20994 non-null  int64  \n",
      " 71  sachet_2g_6            20994 non-null  int64  \n",
      " 72  sachet_2g_7            20994 non-null  int64  \n",
      " 73  monthly_3g_6           20994 non-null  int64  \n",
      " 74  monthly_3g_7           20994 non-null  int64  \n",
      " 75  sachet_3g_6            20994 non-null  int64  \n",
      " 76  sachet_3g_7            20994 non-null  int64  \n",
      " 77  fb_user_6              20994 non-null  float64\n",
      " 78  fb_user_7              20994 non-null  float64\n",
      " 79  aon                    20994 non-null  int64  \n",
      " 80  aug_vbc_3g             20994 non-null  float64\n",
      " 81  jul_vbc_3g             20994 non-null  float64\n",
      " 82  jun_vbc_3g             20994 non-null  float64\n",
      " 83  churn_probability      20994 non-null  int64  \n",
      " 84  total_rech_amt_data_6  20994 non-null  float64\n",
      " 85  total_rech_amt_data_7  20994 non-null  float64\n",
      " 86  churn                  20994 non-null  int64  \n",
      "dtypes: float64(67), int64(20)\n",
      "memory usage: 14.6 MB\n"
     ]
    }
   ],
   "source": [
    "data.info(verbose=all)"
   ]
  },
  {
   "cell_type": "code",
   "execution_count": 627,
   "metadata": {
    "execution": {
     "iopub.execute_input": "2022-05-02T17:56:24.92933Z",
     "iopub.status.busy": "2022-05-02T17:56:24.929008Z",
     "iopub.status.idle": "2022-05-02T17:56:24.955207Z",
     "shell.execute_reply": "2022-05-02T17:56:24.954321Z",
     "shell.execute_reply.started": "2022-05-02T17:56:24.929285Z"
    }
   },
   "outputs": [
    {
     "name": "stdout",
     "output_type": "stream",
     "text": [
      "<class 'pandas.core.frame.DataFrame'>\n",
      "RangeIndex: 30000 entries, 0 to 29999\n",
      "Data columns (total 83 columns):\n",
      " #   Column              Non-Null Count  Dtype  \n",
      "---  ------              --------------  -----  \n",
      " 0   id                  30000 non-null  int64  \n",
      " 1   arpu_6              30000 non-null  float64\n",
      " 2   arpu_7              30000 non-null  float64\n",
      " 3   onnet_mou_6         28831 non-null  float64\n",
      " 4   onnet_mou_7         28828 non-null  float64\n",
      " 5   offnet_mou_6        28831 non-null  float64\n",
      " 6   offnet_mou_7        28828 non-null  float64\n",
      " 7   roam_ic_mou_6       28831 non-null  float64\n",
      " 8   roam_ic_mou_7       28828 non-null  float64\n",
      " 9   roam_og_mou_6       28831 non-null  float64\n",
      " 10  roam_og_mou_7       28828 non-null  float64\n",
      " 11  loc_og_t2t_mou_6    28831 non-null  float64\n",
      " 12  loc_og_t2t_mou_7    28828 non-null  float64\n",
      " 13  loc_og_t2m_mou_6    28831 non-null  float64\n",
      " 14  loc_og_t2m_mou_7    28828 non-null  float64\n",
      " 15  loc_og_t2f_mou_6    28831 non-null  float64\n",
      " 16  loc_og_t2f_mou_7    28828 non-null  float64\n",
      " 17  loc_og_t2c_mou_6    28831 non-null  float64\n",
      " 18  loc_og_t2c_mou_7    28828 non-null  float64\n",
      " 19  std_og_t2t_mou_6    28831 non-null  float64\n",
      " 20  std_og_t2t_mou_7    28828 non-null  float64\n",
      " 21  std_og_t2m_mou_6    28831 non-null  float64\n",
      " 22  std_og_t2m_mou_7    28828 non-null  float64\n",
      " 23  std_og_t2f_mou_6    28831 non-null  float64\n",
      " 24  std_og_t2f_mou_7    28828 non-null  float64\n",
      " 25  isd_og_mou_6        28831 non-null  float64\n",
      " 26  isd_og_mou_7        28828 non-null  float64\n",
      " 27  spl_og_mou_6        28831 non-null  float64\n",
      " 28  spl_og_mou_7        28828 non-null  float64\n",
      " 29  og_others_6         28831 non-null  float64\n",
      " 30  og_others_7         28828 non-null  float64\n",
      " 31  loc_ic_t2t_mou_6    28831 non-null  float64\n",
      " 32  loc_ic_t2t_mou_7    28828 non-null  float64\n",
      " 33  loc_ic_t2m_mou_6    28831 non-null  float64\n",
      " 34  loc_ic_t2m_mou_7    28828 non-null  float64\n",
      " 35  loc_ic_t2f_mou_6    28831 non-null  float64\n",
      " 36  loc_ic_t2f_mou_7    28828 non-null  float64\n",
      " 37  std_ic_t2t_mou_6    28831 non-null  float64\n",
      " 38  std_ic_t2t_mou_7    28828 non-null  float64\n",
      " 39  std_ic_t2m_mou_6    28831 non-null  float64\n",
      " 40  std_ic_t2m_mou_7    28828 non-null  float64\n",
      " 41  std_ic_t2f_mou_6    28831 non-null  float64\n",
      " 42  std_ic_t2f_mou_7    28828 non-null  float64\n",
      " 43  spl_ic_mou_6        28831 non-null  float64\n",
      " 44  spl_ic_mou_7        28828 non-null  float64\n",
      " 45  isd_ic_mou_6        28831 non-null  float64\n",
      " 46  isd_ic_mou_7        28828 non-null  float64\n",
      " 47  ic_others_6         28831 non-null  float64\n",
      " 48  ic_others_7         28828 non-null  float64\n",
      " 49  total_rech_num_6    30000 non-null  int64  \n",
      " 50  total_rech_num_7    30000 non-null  int64  \n",
      " 51  total_rech_amt_6    30000 non-null  int64  \n",
      " 52  total_rech_amt_7    30000 non-null  int64  \n",
      " 53  max_rech_amt_6      30000 non-null  int64  \n",
      " 54  max_rech_amt_7      30000 non-null  int64  \n",
      " 55  last_day_rch_amt_6  30000 non-null  int64  \n",
      " 56  last_day_rch_amt_7  30000 non-null  int64  \n",
      " 57  total_rech_data_6   7585 non-null   float64\n",
      " 58  total_rech_data_7   7706 non-null   float64\n",
      " 59  max_rech_data_6     7585 non-null   float64\n",
      " 60  max_rech_data_7     7706 non-null   float64\n",
      " 61  av_rech_amt_data_6  7585 non-null   float64\n",
      " 62  av_rech_amt_data_7  7706 non-null   float64\n",
      " 63  vol_2g_mb_6         30000 non-null  float64\n",
      " 64  vol_2g_mb_7         30000 non-null  float64\n",
      " 65  vol_3g_mb_6         30000 non-null  float64\n",
      " 66  vol_3g_mb_7         30000 non-null  float64\n",
      " 67  night_pck_user_6    7585 non-null   float64\n",
      " 68  night_pck_user_7    7706 non-null   float64\n",
      " 69  monthly_2g_6        30000 non-null  int64  \n",
      " 70  monthly_2g_7        30000 non-null  int64  \n",
      " 71  sachet_2g_6         30000 non-null  int64  \n",
      " 72  sachet_2g_7         30000 non-null  int64  \n",
      " 73  monthly_3g_6        30000 non-null  int64  \n",
      " 74  monthly_3g_7        30000 non-null  int64  \n",
      " 75  sachet_3g_6         30000 non-null  int64  \n",
      " 76  sachet_3g_7         30000 non-null  int64  \n",
      " 77  fb_user_6           7585 non-null   float64\n",
      " 78  fb_user_7           7706 non-null   float64\n",
      " 79  aon                 30000 non-null  int64  \n",
      " 80  aug_vbc_3g          30000 non-null  float64\n",
      " 81  jul_vbc_3g          30000 non-null  float64\n",
      " 82  jun_vbc_3g          30000 non-null  float64\n",
      "dtypes: float64(65), int64(18)\n",
      "memory usage: 19.0 MB\n"
     ]
    }
   ],
   "source": [
    "unseen.info(verbose=all)"
   ]
  },
  {
   "cell_type": "code",
   "execution_count": 628,
   "metadata": {
    "execution": {
     "iopub.execute_input": "2022-05-02T17:56:24.997545Z",
     "iopub.status.busy": "2022-05-02T17:56:24.996485Z",
     "iopub.status.idle": "2022-05-02T17:56:25.008686Z",
     "shell.execute_reply": "2022-05-02T17:56:25.007537Z",
     "shell.execute_reply.started": "2022-05-02T17:56:24.997484Z"
    }
   },
   "outputs": [],
   "source": [
    "uc=['total_rech_amt_data_6','total_rech_amt_data_7','churn']\n",
    "data.drop(labels=uc,axis=1,inplace=True)\n"
   ]
  },
  {
   "cell_type": "code",
   "execution_count": 629,
   "metadata": {
    "execution": {
     "iopub.execute_input": "2022-05-02T17:56:25.128747Z",
     "iopub.status.busy": "2022-05-02T17:56:25.127586Z",
     "iopub.status.idle": "2022-05-02T17:56:25.189581Z",
     "shell.execute_reply": "2022-05-02T17:56:25.18848Z",
     "shell.execute_reply.started": "2022-05-02T17:56:25.128707Z"
    }
   },
   "outputs": [
    {
     "name": "stdout",
     "output_type": "stream",
     "text": [
      "arpu\n",
      "onnet_mou\n",
      "offnet_mou\n",
      "roam_ic_mou\n",
      "roam_og_mou\n",
      "loc_og_t2t_mou\n",
      "loc_og_t2m_mou\n",
      "loc_og_t2f_mou\n",
      "loc_og_t2c_mou\n",
      "std_og_t2t_mou\n",
      "std_og_t2m_mou\n",
      "std_og_t2f_mou\n",
      "isd_og_mou\n",
      "spl_og_mou\n",
      "og_others\n",
      "loc_ic_t2t_mou\n",
      "loc_ic_t2m_mou\n",
      "loc_ic_t2f_mou\n",
      "std_ic_t2t_mou\n",
      "std_ic_t2m_mou\n",
      "std_ic_t2f_mou\n",
      "spl_ic_mou\n",
      "isd_ic_mou\n",
      "ic_others\n",
      "total_rech_num\n",
      "total_rech_amt\n",
      "max_rech_amt\n",
      "last_day_rch_amt\n",
      "total_rech_data\n",
      "max_rech_data\n",
      "av_rech_amt_data\n",
      "vol_2g_mb\n",
      "vol_3g_mb\n",
      "night_pck_user\n",
      "monthly_2g\n",
      "sachet_2g\n",
      "monthly_3g\n",
      "sachet_3g\n",
      "fb_user\n"
     ]
    }
   ],
   "source": [
    "col_list = data.filter(regex='_6|_7').columns.str[:-2]\n",
    "for idx, col in enumerate(col_list.unique()):\n",
    "    print(col)\n",
    "    avg_col_name = \"avg_\"+col+\"_av67\"\n",
    "    col_6 = col+\"_6\"\n",
    "    col_7 = col+\"_7\"\n",
    "    data[avg_col_name] = (data[col_6]  + data[col_7])/ 2"
   ]
  },
  {
   "cell_type": "code",
   "execution_count": 630,
   "metadata": {
    "execution": {
     "iopub.execute_input": "2022-05-02T17:56:25.646749Z",
     "iopub.status.busy": "2022-05-02T17:56:25.646474Z",
     "iopub.status.idle": "2022-05-02T17:56:25.669012Z",
     "shell.execute_reply": "2022-05-02T17:56:25.668336Z",
     "shell.execute_reply.started": "2022-05-02T17:56:25.64672Z"
    }
   },
   "outputs": [
    {
     "name": "stdout",
     "output_type": "stream",
     "text": [
      "(20994, 45)\n"
     ]
    }
   ],
   "source": [
    "col_list_to_drop = data.filter(regex='_6|_7')\n",
    "data.drop(col_list_to_drop,axis=1,inplace=True)\n",
    "print (data.shape)"
   ]
  },
  {
   "cell_type": "code",
   "execution_count": 631,
   "metadata": {
    "execution": {
     "iopub.execute_input": "2022-05-02T17:56:25.994646Z",
     "iopub.status.busy": "2022-05-02T17:56:25.993812Z",
     "iopub.status.idle": "2022-05-02T17:56:26.053029Z",
     "shell.execute_reply": "2022-05-02T17:56:26.051986Z",
     "shell.execute_reply.started": "2022-05-02T17:56:25.994602Z"
    }
   },
   "outputs": [
    {
     "name": "stdout",
     "output_type": "stream",
     "text": [
      "arpu\n",
      "onnet_mou\n",
      "offnet_mou\n",
      "roam_ic_mou\n",
      "roam_og_mou\n",
      "loc_og_t2t_mou\n",
      "loc_og_t2m_mou\n",
      "loc_og_t2f_mou\n",
      "loc_og_t2c_mou\n",
      "std_og_t2t_mou\n",
      "std_og_t2m_mou\n",
      "std_og_t2f_mou\n",
      "isd_og_mou\n",
      "spl_og_mou\n",
      "og_others\n",
      "loc_ic_t2t_mou\n",
      "loc_ic_t2m_mou\n",
      "loc_ic_t2f_mou\n",
      "std_ic_t2t_mou\n",
      "std_ic_t2m_mou\n",
      "std_ic_t2f_mou\n",
      "spl_ic_mou\n",
      "isd_ic_mou\n",
      "ic_others\n",
      "total_rech_num\n",
      "total_rech_amt\n",
      "max_rech_amt\n",
      "last_day_rch_amt\n",
      "total_rech_data\n",
      "max_rech_data\n",
      "av_rech_amt_data\n",
      "vol_2g_mb\n",
      "vol_3g_mb\n",
      "night_pck_user\n",
      "monthly_2g\n",
      "sachet_2g\n",
      "monthly_3g\n",
      "sachet_3g\n",
      "fb_user\n"
     ]
    }
   ],
   "source": [
    "col_list1 = unseen.filter(regex='_6|_7').columns.str[:-2]\n",
    "for idx, col in enumerate(col_list1.unique()):\n",
    "    print(col)\n",
    "    avg_col_name = \"avg_\"+col+\"_av67\"\n",
    "    col_6 = col+\"_6\"\n",
    "    col_7 = col+\"_7\"\n",
    "    unseen[avg_col_name] = (unseen[col_6]  + unseen[col_7])/ 2"
   ]
  },
  {
   "cell_type": "code",
   "execution_count": 632,
   "metadata": {
    "execution": {
     "iopub.execute_input": "2022-05-02T17:56:26.060169Z",
     "iopub.status.busy": "2022-05-02T17:56:26.059906Z",
     "iopub.status.idle": "2022-05-02T17:56:26.089673Z",
     "shell.execute_reply": "2022-05-02T17:56:26.089108Z",
     "shell.execute_reply.started": "2022-05-02T17:56:26.060138Z"
    }
   },
   "outputs": [
    {
     "name": "stdout",
     "output_type": "stream",
     "text": [
      "(30000, 44)\n"
     ]
    }
   ],
   "source": [
    "col_list_to_drop1 = unseen.filter(regex='_6|_7')\n",
    "unseen.drop(col_list_to_drop1,axis=1,inplace=True)\n",
    "print (unseen.shape)"
   ]
  },
  {
   "cell_type": "markdown",
   "metadata": {},
   "source": [
    "We have merged most of the columns related to month 6 & 7 so to reduce the number of features. By doing this apporach we have reduced the fetures from 128 to 48"
   ]
  },
  {
   "cell_type": "markdown",
   "metadata": {},
   "source": [
    "Removing Outliers"
   ]
  },
  {
   "cell_type": "code",
   "execution_count": 633,
   "metadata": {
    "execution": {
     "iopub.execute_input": "2022-05-02T17:56:26.210129Z",
     "iopub.status.busy": "2022-05-02T17:56:26.209677Z",
     "iopub.status.idle": "2022-05-02T17:56:26.21593Z",
     "shell.execute_reply": "2022-05-02T17:56:26.214795Z",
     "shell.execute_reply.started": "2022-05-02T17:56:26.210091Z"
    }
   },
   "outputs": [],
   "source": [
    "def cap_outliers(array, k=3):\n",
    "    upper_limit = array.mean() + k*array.std()\n",
    "    lower_limit = array.mean() - k*array.std()\n",
    "    array[array<lower_limit] = lower_limit\n",
    "    array[array>upper_limit] = upper_limit\n",
    "    return array"
   ]
  },
  {
   "cell_type": "code",
   "execution_count": 634,
   "metadata": {
    "execution": {
     "iopub.execute_input": "2022-05-02T17:56:26.404927Z",
     "iopub.status.busy": "2022-05-02T17:56:26.404604Z",
     "iopub.status.idle": "2022-05-02T17:56:26.412576Z",
     "shell.execute_reply": "2022-05-02T17:56:26.411347Z",
     "shell.execute_reply.started": "2022-05-02T17:56:26.404889Z"
    }
   },
   "outputs": [
    {
     "name": "stdout",
     "output_type": "stream",
     "text": [
      "Array after capping outliers: \n",
      " [-2780     1     2     3     4     5     6     7     8     9    10    11\n",
      "    12    13    14    15    16    17    18    19    20    21    22    23\n",
      "    24    25    26    27    28    29    30    31    32    33    34    35\n",
      "    36    37    38    39    40    41    42    43    44    45    46    47\n",
      "    48    49    50    51    52    53    54    55    56    57    58    59\n",
      "    60    61    62    63    64    65    66    67    68    69    70    71\n",
      "    72    73    74    75    76    77    78    79    80    81    82    83\n",
      "    84    85    86    87    88    89    90    91    92    93    94    95\n",
      "    96    97    98  2877]\n"
     ]
    }
   ],
   "source": [
    "# example of capping\n",
    "sample_array = list(range(100))\n",
    "\n",
    "# add outliers to the data\n",
    "sample_array[0] = -9999\n",
    "sample_array[99] = 9999\n",
    "\n",
    "# cap outliers\n",
    "sample_array = np.array(sample_array)\n",
    "print(\"Array after capping outliers: \\n\", cap_outliers(sample_array, k=2))"
   ]
  },
  {
   "cell_type": "code",
   "execution_count": 635,
   "metadata": {
    "execution": {
     "iopub.execute_input": "2022-05-02T17:56:26.680393Z",
     "iopub.status.busy": "2022-05-02T17:56:26.679247Z",
     "iopub.status.idle": "2022-05-02T17:56:26.689946Z",
     "shell.execute_reply": "2022-05-02T17:56:26.688365Z",
     "shell.execute_reply.started": "2022-05-02T17:56:26.680341Z"
    }
   },
   "outputs": [
    {
     "data": {
      "text/plain": [
       "['id',\n",
       " 'aon',\n",
       " 'aug_vbc_3g',\n",
       " 'jul_vbc_3g',\n",
       " 'jun_vbc_3g',\n",
       " 'churn_probability',\n",
       " 'avg_arpu_av67',\n",
       " 'avg_onnet_mou_av67',\n",
       " 'avg_offnet_mou_av67',\n",
       " 'avg_roam_ic_mou_av67',\n",
       " 'avg_roam_og_mou_av67',\n",
       " 'avg_loc_og_t2t_mou_av67',\n",
       " 'avg_loc_og_t2m_mou_av67',\n",
       " 'avg_loc_og_t2f_mou_av67',\n",
       " 'avg_loc_og_t2c_mou_av67',\n",
       " 'avg_std_og_t2t_mou_av67',\n",
       " 'avg_std_og_t2m_mou_av67',\n",
       " 'avg_std_og_t2f_mou_av67',\n",
       " 'avg_isd_og_mou_av67',\n",
       " 'avg_spl_og_mou_av67',\n",
       " 'avg_og_others_av67',\n",
       " 'avg_loc_ic_t2t_mou_av67',\n",
       " 'avg_loc_ic_t2m_mou_av67',\n",
       " 'avg_loc_ic_t2f_mou_av67',\n",
       " 'avg_std_ic_t2t_mou_av67',\n",
       " 'avg_std_ic_t2m_mou_av67',\n",
       " 'avg_std_ic_t2f_mou_av67',\n",
       " 'avg_spl_ic_mou_av67',\n",
       " 'avg_isd_ic_mou_av67',\n",
       " 'avg_ic_others_av67',\n",
       " 'avg_total_rech_num_av67',\n",
       " 'avg_total_rech_amt_av67',\n",
       " 'avg_max_rech_amt_av67',\n",
       " 'avg_last_day_rch_amt_av67',\n",
       " 'avg_total_rech_data_av67',\n",
       " 'avg_max_rech_data_av67',\n",
       " 'avg_av_rech_amt_data_av67',\n",
       " 'avg_vol_2g_mb_av67',\n",
       " 'avg_vol_3g_mb_av67',\n",
       " 'avg_night_pck_user_av67',\n",
       " 'avg_monthly_2g_av67',\n",
       " 'avg_sachet_2g_av67',\n",
       " 'avg_monthly_3g_av67',\n",
       " 'avg_sachet_3g_av67',\n",
       " 'avg_fb_user_av67']"
      ]
     },
     "execution_count": 635,
     "metadata": {},
     "output_type": "execute_result"
    }
   ],
   "source": [
    "num_cols = [column for column in data.columns if column not in id_cols + date_cols + cat_cols]\n",
    "num_cols"
   ]
  },
  {
   "cell_type": "code",
   "execution_count": 636,
   "metadata": {
    "execution": {
     "iopub.execute_input": "2022-05-02T17:56:27.23402Z",
     "iopub.status.busy": "2022-05-02T17:56:27.233669Z",
     "iopub.status.idle": "2022-05-02T17:56:27.46586Z",
     "shell.execute_reply": "2022-05-02T17:56:27.464828Z",
     "shell.execute_reply.started": "2022-05-02T17:56:27.233986Z"
    }
   },
   "outputs": [],
   "source": [
    "# cap outliers in the numeric columns\n",
    "data[num_cols] = data[num_cols].apply(cap_outliers, axis=0)"
   ]
  },
  {
   "cell_type": "code",
   "execution_count": 637,
   "metadata": {
    "execution": {
     "iopub.execute_input": "2022-05-02T17:56:27.735077Z",
     "iopub.status.busy": "2022-05-02T17:56:27.734774Z",
     "iopub.status.idle": "2022-05-02T17:56:27.745582Z",
     "shell.execute_reply": "2022-05-02T17:56:27.744627Z",
     "shell.execute_reply.started": "2022-05-02T17:56:27.735045Z"
    }
   },
   "outputs": [
    {
     "data": {
      "text/plain": [
       "['id',\n",
       " 'aon',\n",
       " 'aug_vbc_3g',\n",
       " 'jul_vbc_3g',\n",
       " 'jun_vbc_3g',\n",
       " 'churn_probability',\n",
       " 'avg_arpu_av67',\n",
       " 'avg_onnet_mou_av67',\n",
       " 'avg_offnet_mou_av67',\n",
       " 'avg_roam_ic_mou_av67',\n",
       " 'avg_roam_og_mou_av67',\n",
       " 'avg_loc_og_t2t_mou_av67',\n",
       " 'avg_loc_og_t2m_mou_av67',\n",
       " 'avg_loc_og_t2f_mou_av67',\n",
       " 'avg_loc_og_t2c_mou_av67',\n",
       " 'avg_std_og_t2t_mou_av67',\n",
       " 'avg_std_og_t2m_mou_av67',\n",
       " 'avg_std_og_t2f_mou_av67',\n",
       " 'avg_isd_og_mou_av67',\n",
       " 'avg_spl_og_mou_av67',\n",
       " 'avg_og_others_av67',\n",
       " 'avg_loc_ic_t2t_mou_av67',\n",
       " 'avg_loc_ic_t2m_mou_av67',\n",
       " 'avg_loc_ic_t2f_mou_av67',\n",
       " 'avg_std_ic_t2t_mou_av67',\n",
       " 'avg_std_ic_t2m_mou_av67',\n",
       " 'avg_std_ic_t2f_mou_av67',\n",
       " 'avg_spl_ic_mou_av67',\n",
       " 'avg_isd_ic_mou_av67',\n",
       " 'avg_ic_others_av67',\n",
       " 'avg_total_rech_num_av67',\n",
       " 'avg_total_rech_amt_av67',\n",
       " 'avg_max_rech_amt_av67',\n",
       " 'avg_last_day_rch_amt_av67',\n",
       " 'avg_total_rech_data_av67',\n",
       " 'avg_max_rech_data_av67',\n",
       " 'avg_av_rech_amt_data_av67',\n",
       " 'avg_vol_2g_mb_av67',\n",
       " 'avg_vol_3g_mb_av67',\n",
       " 'avg_night_pck_user_av67',\n",
       " 'avg_monthly_2g_av67',\n",
       " 'avg_sachet_2g_av67',\n",
       " 'avg_monthly_3g_av67',\n",
       " 'avg_sachet_3g_av67',\n",
       " 'avg_fb_user_av67']"
      ]
     },
     "execution_count": 637,
     "metadata": {},
     "output_type": "execute_result"
    }
   ],
   "source": [
    "num_cols"
   ]
  },
  {
   "cell_type": "markdown",
   "metadata": {},
   "source": [
    "# Modelling"
   ]
  },
  {
   "cell_type": "code",
   "execution_count": 638,
   "metadata": {
    "execution": {
     "iopub.execute_input": "2022-05-02T17:56:28.074093Z",
     "iopub.status.busy": "2022-05-02T17:56:28.073253Z",
     "iopub.status.idle": "2022-05-02T17:56:28.114196Z",
     "shell.execute_reply": "2022-05-02T17:56:28.112969Z",
     "shell.execute_reply.started": "2022-05-02T17:56:28.074052Z"
    }
   },
   "outputs": [],
   "source": [
    "# import required libraries\n",
    "from sklearn.model_selection import train_test_split\n",
    "from sklearn.pipeline import Pipeline\n",
    "from sklearn.decomposition import PCA\n",
    "from sklearn.preprocessing import StandardScaler\n",
    "from sklearn.pipeline import FeatureUnion\n",
    "from sklearn.base import BaseEstimator, TransformerMixin\n",
    "from sklearn.linear_model import LogisticRegression\n",
    "from sklearn.metrics import classification_report\n",
    "from sklearn.metrics import roc_auc_score\n",
    "from imblearn.metrics import sensitivity_specificity_support\n",
    "from sklearn.model_selection import StratifiedKFold\n",
    "from sklearn.model_selection import cross_val_score\n",
    "from sklearn.metrics import confusion_matrix\n",
    "from sklearn.model_selection import GridSearchCV\n",
    "from sklearn.ensemble import RandomForestClassifier\n",
    "from sklearn.ensemble import GradientBoostingClassifier\n",
    "from sklearn.svm import SVC"
   ]
  },
  {
   "cell_type": "code",
   "execution_count": 639,
   "metadata": {
    "execution": {
     "iopub.execute_input": "2022-05-02T17:56:28.266623Z",
     "iopub.status.busy": "2022-05-02T17:56:28.266322Z",
     "iopub.status.idle": "2022-05-02T17:56:28.284977Z",
     "shell.execute_reply": "2022-05-02T17:56:28.28438Z",
     "shell.execute_reply.started": "2022-05-02T17:56:28.26659Z"
    }
   },
   "outputs": [
    {
     "name": "stdout",
     "output_type": "stream",
     "text": [
      "<class 'pandas.core.frame.DataFrame'>\n",
      "Int64Index: 20994 entries, 4 to 69997\n",
      "Data columns (total 45 columns):\n",
      " #   Column                     Non-Null Count  Dtype  \n",
      "---  ------                     --------------  -----  \n",
      " 0   id                         20994 non-null  int64  \n",
      " 1   aon                        20994 non-null  float64\n",
      " 2   aug_vbc_3g                 20994 non-null  float64\n",
      " 3   jul_vbc_3g                 20994 non-null  float64\n",
      " 4   jun_vbc_3g                 20994 non-null  float64\n",
      " 5   churn_probability          20994 non-null  int64  \n",
      " 6   avg_arpu_av67              20994 non-null  float64\n",
      " 7   avg_onnet_mou_av67         20994 non-null  float64\n",
      " 8   avg_offnet_mou_av67        20994 non-null  float64\n",
      " 9   avg_roam_ic_mou_av67       20994 non-null  float64\n",
      " 10  avg_roam_og_mou_av67       20994 non-null  float64\n",
      " 11  avg_loc_og_t2t_mou_av67    20994 non-null  float64\n",
      " 12  avg_loc_og_t2m_mou_av67    20994 non-null  float64\n",
      " 13  avg_loc_og_t2f_mou_av67    20994 non-null  float64\n",
      " 14  avg_loc_og_t2c_mou_av67    20994 non-null  float64\n",
      " 15  avg_std_og_t2t_mou_av67    20994 non-null  float64\n",
      " 16  avg_std_og_t2m_mou_av67    20994 non-null  float64\n",
      " 17  avg_std_og_t2f_mou_av67    20994 non-null  float64\n",
      " 18  avg_isd_og_mou_av67        20994 non-null  float64\n",
      " 19  avg_spl_og_mou_av67        20994 non-null  float64\n",
      " 20  avg_og_others_av67         20994 non-null  float64\n",
      " 21  avg_loc_ic_t2t_mou_av67    20994 non-null  float64\n",
      " 22  avg_loc_ic_t2m_mou_av67    20994 non-null  float64\n",
      " 23  avg_loc_ic_t2f_mou_av67    20994 non-null  float64\n",
      " 24  avg_std_ic_t2t_mou_av67    20994 non-null  float64\n",
      " 25  avg_std_ic_t2m_mou_av67    20994 non-null  float64\n",
      " 26  avg_std_ic_t2f_mou_av67    20994 non-null  float64\n",
      " 27  avg_spl_ic_mou_av67        20994 non-null  float64\n",
      " 28  avg_isd_ic_mou_av67        20994 non-null  float64\n",
      " 29  avg_ic_others_av67         20994 non-null  float64\n",
      " 30  avg_total_rech_num_av67    20994 non-null  float64\n",
      " 31  avg_total_rech_amt_av67    20994 non-null  float64\n",
      " 32  avg_max_rech_amt_av67      20994 non-null  float64\n",
      " 33  avg_last_day_rch_amt_av67  20994 non-null  float64\n",
      " 34  avg_total_rech_data_av67   20994 non-null  float64\n",
      " 35  avg_max_rech_data_av67     20994 non-null  float64\n",
      " 36  avg_av_rech_amt_data_av67  20994 non-null  float64\n",
      " 37  avg_vol_2g_mb_av67         20994 non-null  float64\n",
      " 38  avg_vol_3g_mb_av67         20994 non-null  float64\n",
      " 39  avg_night_pck_user_av67    20994 non-null  float64\n",
      " 40  avg_monthly_2g_av67        20994 non-null  float64\n",
      " 41  avg_sachet_2g_av67         20994 non-null  float64\n",
      " 42  avg_monthly_3g_av67        20994 non-null  float64\n",
      " 43  avg_sachet_3g_av67         20994 non-null  float64\n",
      " 44  avg_fb_user_av67           20994 non-null  float64\n",
      "dtypes: float64(43), int64(2)\n",
      "memory usage: 7.9 MB\n"
     ]
    }
   ],
   "source": [
    "data.info(verbose=all)"
   ]
  },
  {
   "cell_type": "code",
   "execution_count": 640,
   "metadata": {
    "execution": {
     "iopub.execute_input": "2022-05-02T17:56:28.456878Z",
     "iopub.status.busy": "2022-05-02T17:56:28.455634Z",
     "iopub.status.idle": "2022-05-02T17:56:28.491058Z",
     "shell.execute_reply": "2022-05-02T17:56:28.489818Z",
     "shell.execute_reply.started": "2022-05-02T17:56:28.456796Z"
    }
   },
   "outputs": [],
   "source": [
    "# divide data into train and test\n",
    "X = data.drop(\"churn_probability\", axis = 1)\n",
    "y = data.churn_probability\n",
    "X_train, X_test, y_train, y_test = train_test_split(X, y, test_size = 0.25, random_state = 4, stratify = y)\n"
   ]
  },
  {
   "cell_type": "code",
   "execution_count": 641,
   "metadata": {
    "execution": {
     "iopub.execute_input": "2022-05-02T17:56:28.949032Z",
     "iopub.status.busy": "2022-05-02T17:56:28.948705Z",
     "iopub.status.idle": "2022-05-02T17:56:28.966997Z",
     "shell.execute_reply": "2022-05-02T17:56:28.965616Z",
     "shell.execute_reply.started": "2022-05-02T17:56:28.948998Z"
    }
   },
   "outputs": [
    {
     "data": {
      "text/plain": [
       "((16795, 44), (4199, 44), (16795,), (4199,))"
      ]
     },
     "execution_count": 641,
     "metadata": {},
     "output_type": "execute_result"
    }
   ],
   "source": [
    "X_train, X_test, y_train, y_test = train_test_split(X, y, test_size=0.2)\n",
    "\n",
    "X_train.shape, X_test.shape, y_train.shape, y_test.shape"
   ]
  },
  {
   "cell_type": "code",
   "execution_count": 642,
   "metadata": {
    "execution": {
     "iopub.execute_input": "2022-05-02T17:56:29.301781Z",
     "iopub.status.busy": "2022-05-02T17:56:29.301483Z",
     "iopub.status.idle": "2022-05-02T17:56:29.308362Z",
     "shell.execute_reply": "2022-05-02T17:56:29.306916Z",
     "shell.execute_reply.started": "2022-05-02T17:56:29.30175Z"
    }
   },
   "outputs": [
    {
     "name": "stdout",
     "output_type": "stream",
     "text": [
      "['id', 'aon', 'aug_vbc_3g', 'jul_vbc_3g', 'jun_vbc_3g', 'avg_arpu_av67', 'avg_onnet_mou_av67', 'avg_offnet_mou_av67', 'avg_roam_ic_mou_av67', 'avg_roam_og_mou_av67', 'avg_loc_og_t2t_mou_av67', 'avg_loc_og_t2m_mou_av67', 'avg_loc_og_t2f_mou_av67', 'avg_loc_og_t2c_mou_av67', 'avg_std_og_t2t_mou_av67', 'avg_std_og_t2m_mou_av67', 'avg_std_og_t2f_mou_av67', 'avg_isd_og_mou_av67', 'avg_spl_og_mou_av67', 'avg_og_others_av67', 'avg_loc_ic_t2t_mou_av67', 'avg_loc_ic_t2m_mou_av67', 'avg_loc_ic_t2f_mou_av67', 'avg_std_ic_t2t_mou_av67', 'avg_std_ic_t2m_mou_av67', 'avg_std_ic_t2f_mou_av67', 'avg_spl_ic_mou_av67', 'avg_isd_ic_mou_av67', 'avg_ic_others_av67', 'avg_total_rech_num_av67', 'avg_total_rech_amt_av67', 'avg_max_rech_amt_av67', 'avg_last_day_rch_amt_av67', 'avg_total_rech_data_av67', 'avg_max_rech_data_av67', 'avg_av_rech_amt_data_av67', 'avg_vol_2g_mb_av67', 'avg_vol_3g_mb_av67', 'avg_night_pck_user_av67', 'avg_monthly_2g_av67', 'avg_sachet_2g_av67', 'avg_monthly_3g_av67', 'avg_sachet_3g_av67', 'avg_fb_user_av67']\n"
     ]
    }
   ],
   "source": [
    "newvars=X_train.columns.values.tolist()\n",
    "print(newvars)"
   ]
  },
  {
   "cell_type": "code",
   "execution_count": 643,
   "metadata": {
    "execution": {
     "iopub.execute_input": "2022-05-02T17:56:29.471477Z",
     "iopub.status.busy": "2022-05-02T17:56:29.470919Z",
     "iopub.status.idle": "2022-05-02T17:56:29.499651Z",
     "shell.execute_reply": "2022-05-02T17:56:29.498784Z",
     "shell.execute_reply.started": "2022-05-02T17:56:29.471428Z"
    }
   },
   "outputs": [],
   "source": [
    "#feature Scaling\n",
    "scale = StandardScaler()\n",
    "data = scale.fit_transform(data)"
   ]
  },
  {
   "cell_type": "code",
   "execution_count": 644,
   "metadata": {
    "execution": {
     "iopub.execute_input": "2022-05-02T17:56:29.660215Z",
     "iopub.status.busy": "2022-05-02T17:56:29.659746Z",
     "iopub.status.idle": "2022-05-02T17:56:31.331332Z",
     "shell.execute_reply": "2022-05-02T17:56:31.33064Z",
     "shell.execute_reply.started": "2022-05-02T17:56:29.660182Z"
    }
   },
   "outputs": [
    {
     "data": {
      "text/plain": [
       "<AxesSubplot:>"
      ]
     },
     "execution_count": 644,
     "metadata": {},
     "output_type": "execute_result"
    },
    {
     "data": {
      "image/png": "[encoded data removed]",
      "text/plain": [
       "<Figure size 1080x576 with 1 Axes>"
      ]
     },
     "metadata": {
      "needs_background": "light"
     },
     "output_type": "display_data"
    }
   ],
   "source": [
    "plt.figure(figsize=(15,8))\n",
    "plt.xticks(rotation=45)\n",
    "sns.boxplot(data = pd.DataFrame(data, columns=num_cols))"
   ]
  },
  {
   "cell_type": "code",
   "execution_count": 645,
   "metadata": {
    "execution": {
     "iopub.execute_input": "2022-05-02T17:56:31.333164Z",
     "iopub.status.busy": "2022-05-02T17:56:31.33281Z",
     "iopub.status.idle": "2022-05-02T17:56:32.881806Z",
     "shell.execute_reply": "2022-05-02T17:56:32.880756Z",
     "shell.execute_reply.started": "2022-05-02T17:56:31.33312Z"
    }
   },
   "outputs": [
    {
     "data": {
      "text/plain": [
       "<AxesSubplot:>"
      ]
     },
     "execution_count": 645,
     "metadata": {},
     "output_type": "execute_result"
    },
    {
     "data": {
      "image/png": "[encoded data removed]",
      "text/plain": [
       "<Figure size 1080x864 with 2 Axes>"
      ]
     },
     "metadata": {
      "needs_background": "light"
     },
     "output_type": "display_data"
    }
   ],
   "source": [
    "plt.figure(figsize=(15,12))\n",
    "sns.heatmap(pd.DataFrame(data, columns=num_cols).corr())"
   ]
  },
  {
   "cell_type": "code",
   "execution_count": 646,
   "metadata": {
    "execution": {
     "iopub.execute_input": "2022-05-02T17:56:32.883942Z",
     "iopub.status.busy": "2022-05-02T17:56:32.883528Z",
     "iopub.status.idle": "2022-05-02T17:56:33.380102Z",
     "shell.execute_reply": "2022-05-02T17:56:33.379428Z",
     "shell.execute_reply.started": "2022-05-02T17:56:32.883896Z"
    }
   },
   "outputs": [
    {
     "data": {
      "text/plain": [
       "<AxesSubplot:xlabel='churn_probability', ylabel='Count'>"
      ]
     },
     "execution_count": 646,
     "metadata": {},
     "output_type": "execute_result"
    },
    {
     "data": {
      "image/png": "[encoded data removed]",
      "text/plain": [
       "<Figure size 432x288 with 1 Axes>"
      ]
     },
     "metadata": {
      "needs_background": "light"
     },
     "output_type": "display_data"
    }
   ],
   "source": [
    "sns.histplot(y_train)"
   ]
  },
  {
   "cell_type": "markdown",
   "metadata": {},
   "source": [
    "# Modelling\n",
    "# PCA : Principal Component Analysis"
   ]
  },
  {
   "cell_type": "code",
   "execution_count": 647,
   "metadata": {
    "execution": {
     "iopub.execute_input": "2022-05-02T17:56:33.382483Z",
     "iopub.status.busy": "2022-05-02T17:56:33.381786Z",
     "iopub.status.idle": "2022-05-02T17:56:33.389591Z",
     "shell.execute_reply": "2022-05-02T17:56:33.388735Z",
     "shell.execute_reply.started": "2022-05-02T17:56:33.38243Z"
    }
   },
   "outputs": [],
   "source": [
    "telecom_pca_df = data.copy()"
   ]
  },
  {
   "cell_type": "code",
   "execution_count": 648,
   "metadata": {
    "execution": {
     "iopub.execute_input": "2022-05-02T17:56:33.390951Z",
     "iopub.status.busy": "2022-05-02T17:56:33.390693Z",
     "iopub.status.idle": "2022-05-02T17:56:33.399017Z",
     "shell.execute_reply": "2022-05-02T17:56:33.398355Z",
     "shell.execute_reply.started": "2022-05-02T17:56:33.390909Z"
    }
   },
   "outputs": [],
   "source": [
    "# apply pca to train data\n",
    "pca = Pipeline([('scaler', StandardScaler()), ('pca', PCA())])"
   ]
  },
  {
   "cell_type": "code",
   "execution_count": 649,
   "metadata": {
    "execution": {
     "iopub.execute_input": "2022-05-02T17:56:33.401114Z",
     "iopub.status.busy": "2022-05-02T17:56:33.40062Z",
     "iopub.status.idle": "2022-05-02T17:56:33.546254Z",
     "shell.execute_reply": "2022-05-02T17:56:33.545145Z",
     "shell.execute_reply.started": "2022-05-02T17:56:33.401069Z"
    }
   },
   "outputs": [],
   "source": [
    "\n",
    "pca.fit(X_train)\n",
    "churn_pca = pca.fit_transform(X_train)\n"
   ]
  },
  {
   "cell_type": "code",
   "execution_count": 650,
   "metadata": {
    "execution": {
     "iopub.execute_input": "2022-05-02T17:56:33.548601Z",
     "iopub.status.busy": "2022-05-02T17:56:33.548092Z",
     "iopub.status.idle": "2022-05-02T17:56:33.560915Z",
     "shell.execute_reply": "2022-05-02T17:56:33.559969Z",
     "shell.execute_reply.started": "2022-05-02T17:56:33.548556Z"
    }
   },
   "outputs": [
    {
     "data": {
      "text/html": [
       "<style>#sk-container-id-5 {color: black;background-color: white;}#sk-container-id-5 pre{padding: 0;}#sk-container-id-5 div.sk-toggleable {background-color: white;}#sk-container-id-5 label.sk-toggleable__label {cursor: pointer;display: block;width: 100%;margin-bottom: 0;padding: 0.3em;box-sizing: border-box;text-align: center;}#sk-container-id-5 label.sk-toggleable__label-arrow:before {content: \"▸\";float: left;margin-right: 0.25em;color: #696969;}#sk-container-id-5 label.sk-toggleable__label-arrow:hover:before {color: black;}#sk-container-id-5 div.sk-estimator:hover label.sk-toggleable__label-arrow:before {color: black;}#sk-container-id-5 div.sk-toggleable__content {max-height: 0;max-width: 0;overflow: hidden;text-align: left;background-color: #f0f8ff;}#sk-container-id-5 div.sk-toggleable__content pre {margin: 0.2em;color: black;border-radius: 0.25em;background-color: #f0f8ff;}#sk-container-id-5 input.sk-toggleable__control:checked~div.sk-toggleable__content {max-height: 200px;max-width: 100%;overflow: auto;}#sk-container-id-5 input.sk-toggleable__control:checked~label.sk-toggleable__label-arrow:before {content: \"▾\";}#sk-container-id-5 div.sk-estimator input.sk-toggleable__control:checked~label.sk-toggleable__label {background-color: #d4ebff;}#sk-container-id-5 div.sk-label input.sk-toggleable__control:checked~label.sk-toggleable__label {background-color: #d4ebff;}#sk-container-id-5 input.sk-hidden--visually {border: 0;clip: rect(1px 1px 1px 1px);clip: rect(1px, 1px, 1px, 1px);height: 1px;margin: -1px;overflow: hidden;padding: 0;position: absolute;width: 1px;}#sk-container-id-5 div.sk-estimator {font-family: monospace;background-color: #f0f8ff;border: 1px dotted black;border-radius: 0.25em;box-sizing: border-box;margin-bottom: 0.5em;}#sk-container-id-5 div.sk-estimator:hover {background-color: #d4ebff;}#sk-container-id-5 div.sk-parallel-item::after {content: \"\";width: 100%;border-bottom: 1px solid gray;flex-grow: 1;}#sk-container-id-5 div.sk-label:hover label.sk-toggleable__label {background-color: #d4ebff;}#sk-container-id-5 div.sk-serial::before {content: \"\";position: absolute;border-left: 1px solid gray;box-sizing: border-box;top: 0;bottom: 0;left: 50%;z-index: 0;}#sk-container-id-5 div.sk-serial {display: flex;flex-direction: column;align-items: center;background-color: white;padding-right: 0.2em;padding-left: 0.2em;position: relative;}#sk-container-id-5 div.sk-item {position: relative;z-index: 1;}#sk-container-id-5 div.sk-parallel {display: flex;align-items: stretch;justify-content: center;background-color: white;position: relative;}#sk-container-id-5 div.sk-item::before, #sk-container-id-5 div.sk-parallel-item::before {content: \"\";position: absolute;border-left: 1px solid gray;box-sizing: border-box;top: 0;bottom: 0;left: 50%;z-index: -1;}#sk-container-id-5 div.sk-parallel-item {display: flex;flex-direction: column;z-index: 1;position: relative;background-color: white;}#sk-container-id-5 div.sk-parallel-item:first-child::after {align-self: flex-end;width: 50%;}#sk-container-id-5 div.sk-parallel-item:last-child::after {align-self: flex-start;width: 50%;}#sk-container-id-5 div.sk-parallel-item:only-child::after {width: 0;}#sk-container-id-5 div.sk-dashed-wrapped {border: 1px dashed gray;margin: 0 0.4em 0.5em 0.4em;box-sizing: border-box;padding-bottom: 0.4em;background-color: white;}#sk-container-id-5 div.sk-label label {font-family: monospace;font-weight: bold;display: inline-block;line-height: 1.2em;}#sk-container-id-5 div.sk-label-container {text-align: center;}#sk-container-id-5 div.sk-container {/* jupyter's `normalize.less` sets `[hidden] { display: none; }` but bootstrap.min.css set `[hidden] { display: none !important; }` so we also need the `!important` here to be able to override the default hidden behavior on the sphinx rendered scikit-learn.org. See: https://github.com/scikit-learn/scikit-learn/issues/21755 */display: inline-block !important;position: relative;}#sk-container-id-5 div.sk-text-repr-fallback {display: none;}</style><div id=\"sk-container-id-5\" class=\"sk-top-container\"><div class=\"sk-text-repr-fallback\"><pre>Pipeline(steps=[(&#x27;scaler&#x27;, StandardScaler()), (&#x27;pca&#x27;, PCA())])</pre><b>In a Jupyter environment, please rerun this cell to show the HTML representation or trust the notebook. <br />On GitHub, the HTML representation is unable to render, please try loading this page with nbviewer.org.</b></div><div class=\"sk-container\" hidden><div class=\"sk-item sk-dashed-wrapped\"><div class=\"sk-label-container\"><div class=\"sk-label sk-toggleable\"><input class=\"sk-toggleable__control sk-hidden--visually\" id=\"sk-estimator-id-13\" type=\"checkbox\" ><label for=\"sk-estimator-id-13\" class=\"sk-toggleable__label sk-toggleable__label-arrow\">Pipeline</label><div class=\"sk-toggleable__content\"><pre>Pipeline(steps=[(&#x27;scaler&#x27;, StandardScaler()), (&#x27;pca&#x27;, PCA())])</pre></div></div></div><div class=\"sk-serial\"><div class=\"sk-item\"><div class=\"sk-estimator sk-toggleable\"><input class=\"sk-toggleable__control sk-hidden--visually\" id=\"sk-estimator-id-14\" type=\"checkbox\" ><label for=\"sk-estimator-id-14\" class=\"sk-toggleable__label sk-toggleable__label-arrow\">StandardScaler</label><div class=\"sk-toggleable__content\"><pre>StandardScaler()</pre></div></div></div><div class=\"sk-item\"><div class=\"sk-estimator sk-toggleable\"><input class=\"sk-toggleable__control sk-hidden--visually\" id=\"sk-estimator-id-15\" type=\"checkbox\" ><label for=\"sk-estimator-id-15\" class=\"sk-toggleable__label sk-toggleable__label-arrow\">PCA</label><div class=\"sk-toggleable__content\"><pre>PCA()</pre></div></div></div></div></div></div></div>"
      ],
      "text/plain": [
       "Pipeline(steps=[('scaler', StandardScaler()), ('pca', PCA())])"
      ]
     },
     "execution_count": 650,
     "metadata": {},
     "output_type": "execute_result"
    }
   ],
   "source": [
    "Pipeline(memory=None,\n",
    "         steps=[('scaler',\n",
    "                 StandardScaler(copy=True, with_mean=True, with_std=True)),\n",
    "                ('pca',\n",
    "                 PCA(copy=True, iterated_power='auto', n_components=None,\n",
    "                     random_state=None, svd_solver='auto', tol=0.0,\n",
    "                     whiten=False))],\n",
    "         verbose=False)\n"
   ]
  },
  {
   "cell_type": "code",
   "execution_count": 651,
   "metadata": {
    "execution": {
     "iopub.execute_input": "2022-05-02T17:56:33.563229Z",
     "iopub.status.busy": "2022-05-02T17:56:33.562721Z",
     "iopub.status.idle": "2022-05-02T17:56:33.582228Z",
     "shell.execute_reply": "2022-05-02T17:56:33.58133Z",
     "shell.execute_reply.started": "2022-05-02T17:56:33.563181Z"
    }
   },
   "outputs": [
    {
     "name": "stdout",
     "output_type": "stream",
     "text": [
      "0      15.77\n",
      "1      27.16\n",
      "2      34.08\n",
      "3      40.00\n",
      "4      44.35\n",
      "5      48.36\n",
      "6      52.11\n",
      "7      55.42\n",
      "8      58.63\n",
      "9      61.66\n",
      "10     64.68\n",
      "11     67.12\n",
      "12     69.45\n",
      "13     71.73\n",
      "14     73.99\n",
      "15     76.15\n",
      "16     78.19\n",
      "17     80.13\n",
      "18     81.94\n",
      "19     83.71\n",
      "20     85.39\n",
      "21     86.87\n",
      "22     88.25\n",
      "23     89.53\n",
      "24     90.80\n",
      "25     91.96\n",
      "26     93.02\n",
      "27     94.03\n",
      "28     94.89\n",
      "29     95.74\n",
      "30     96.44\n",
      "31     97.11\n",
      "32     97.77\n",
      "33     98.25\n",
      "34     98.71\n",
      "35     99.09\n",
      "36     99.41\n",
      "37     99.67\n",
      "38     99.77\n",
      "39     99.84\n",
      "40     99.89\n",
      "41     99.93\n",
      "42     99.97\n",
      "43    100.00\n",
      "dtype: float64\n"
     ]
    }
   ],
   "source": [
    "# extract pca model from pipeline\n",
    "pca = pca.named_steps['pca']\n",
    "\n",
    "# look at explainded variance of PCA components\n",
    "print(pd.Series(np.round(pca.explained_variance_ratio_.cumsum(), 4)*100))"
   ]
  },
  {
   "cell_type": "code",
   "execution_count": 652,
   "metadata": {
    "execution": {
     "iopub.execute_input": "2022-05-02T17:56:33.584565Z",
     "iopub.status.busy": "2022-05-02T17:56:33.584011Z",
     "iopub.status.idle": "2022-05-02T17:56:33.793186Z",
     "shell.execute_reply": "2022-05-02T17:56:33.792495Z",
     "shell.execute_reply.started": "2022-05-02T17:56:33.584517Z"
    }
   },
   "outputs": [
    {
     "data": {
      "text/plain": [
       "[<matplotlib.lines.Line2D at 0x7f8b399968e0>]"
      ]
     },
     "execution_count": 652,
     "metadata": {},
     "output_type": "execute_result"
    },
    {
     "data": {
      "image/png": "[encoded data removed]",
      "text/plain": [
       "<Figure size 630x360 with 1 Axes>"
      ]
     },
     "metadata": {
      "needs_background": "light"
     },
     "output_type": "display_data"
    }
   ],
   "source": [
    "# plot feature variance\n",
    "features = range(pca.n_components_)\n",
    "cumulative_variance = np.round(np.cumsum(pca.explained_variance_ratio_)*100, decimals=4)\n",
    "plt.figure(figsize=(175/20,100/20)) # 100 elements on y-axis; 175 elements on x-axis; 20 is normalising factor\n",
    "plt.plot(cumulative_variance)"
   ]
  },
  {
   "cell_type": "markdown",
   "metadata": {},
   "source": [
    "# PCA and Logistic Regression"
   ]
  },
  {
   "cell_type": "code",
   "execution_count": 653,
   "metadata": {
    "execution": {
     "iopub.execute_input": "2022-05-02T17:56:33.796186Z",
     "iopub.status.busy": "2022-05-02T17:56:33.795926Z",
     "iopub.status.idle": "2022-05-02T17:56:33.80225Z",
     "shell.execute_reply": "2022-05-02T17:56:33.801357Z",
     "shell.execute_reply.started": "2022-05-02T17:56:33.796152Z"
    }
   },
   "outputs": [],
   "source": [
    "# create pipeline\n",
    "PCA_VARS = 44\n",
    "steps = [('scaler', StandardScaler()),\n",
    "         (\"pca\", PCA(n_components=PCA_VARS)),\n",
    "         (\"logistic\", LogisticRegression(class_weight='balanced'))\n",
    "        ]\n",
    "pipeline = Pipeline(steps)\n"
   ]
  },
  {
   "cell_type": "code",
   "execution_count": 654,
   "metadata": {
    "execution": {
     "iopub.execute_input": "2022-05-02T17:56:33.804487Z",
     "iopub.status.busy": "2022-05-02T17:56:33.803981Z",
     "iopub.status.idle": "2022-05-02T17:56:34.149827Z",
     "shell.execute_reply": "2022-05-02T17:56:34.148661Z",
     "shell.execute_reply.started": "2022-05-02T17:56:33.804438Z"
    }
   },
   "outputs": [
    {
     "data": {
      "text/plain": [
       "0.6516225066984221"
      ]
     },
     "execution_count": 654,
     "metadata": {},
     "output_type": "execute_result"
    }
   ],
   "source": [
    "# fit model\n",
    "pipeline.fit(X_train, y_train)\n",
    "\n",
    "# check score on train data\n",
    "pipeline.score(X_train, y_train)"
   ]
  },
  {
   "cell_type": "markdown",
   "metadata": {},
   "source": [
    "Evaluate on test data"
   ]
  },
  {
   "cell_type": "code",
   "execution_count": 655,
   "metadata": {
    "execution": {
     "iopub.execute_input": "2022-05-02T17:56:34.159461Z",
     "iopub.status.busy": "2022-05-02T17:56:34.1564Z",
     "iopub.status.idle": "2022-05-02T17:56:34.211057Z",
     "shell.execute_reply": "2022-05-02T17:56:34.209928Z",
     "shell.execute_reply.started": "2022-05-02T17:56:34.159388Z"
    }
   },
   "outputs": [
    {
     "name": "stdout",
     "output_type": "stream",
     "text": [
      "[[2374 1359]\n",
      " [ 102  364]]\n",
      "Sensitivity: \t0.78\n",
      "Specificity: \t0.64\n",
      "AUC:    \t 0.78\n"
     ]
    }
   ],
   "source": [
    "# predict churn on test data\n",
    "y_pred = pipeline.predict(X_test)\n",
    "\n",
    "# create onfusion matrix\n",
    "cm = confusion_matrix(y_test, y_pred)\n",
    "print(cm)\n",
    "\n",
    "# check sensitivity and specificity\n",
    "sensitivity, specificity, _ = sensitivity_specificity_support(y_test, y_pred, average='binary')\n",
    "print(\"Sensitivity: \\t\", round(sensitivity, 2), \"\\n\", \"Specificity: \\t\", round(specificity, 2), sep='')\n",
    "\n",
    "# check area under curve\n",
    "y_pred_prob = pipeline.predict_proba(X_test)[:, 1]\n",
    "print(\"AUC:    \\t\", round(roc_auc_score(y_test, y_pred_prob),2))"
   ]
  },
  {
   "cell_type": "markdown",
   "metadata": {},
   "source": [
    "Creating submission file"
   ]
  },
  {
   "cell_type": "code",
   "execution_count": 656,
   "metadata": {
    "execution": {
     "iopub.execute_input": "2022-05-02T17:56:34.221359Z",
     "iopub.status.busy": "2022-05-02T17:56:34.217948Z",
     "iopub.status.idle": "2022-05-02T17:56:34.244827Z",
     "shell.execute_reply": "2022-05-02T17:56:34.24327Z",
     "shell.execute_reply.started": "2022-05-02T17:56:34.221259Z"
    }
   },
   "outputs": [
    {
     "data": {
      "text/html": [
       "<div>\n",
       "<style scoped>\n",
       "    .dataframe tbody tr th:only-of-type {\n",
       "        vertical-align: middle;\n",
       "    }\n",
       "\n",
       "    .dataframe tbody tr th {\n",
       "        vertical-align: top;\n",
       "    }\n",
       "\n",
       "    .dataframe thead th {\n",
       "        text-align: right;\n",
       "    }\n",
       "</style>\n",
       "<table border=\"1\" class=\"dataframe\">\n",
       "  <thead>\n",
       "    <tr style=\"text-align: right;\">\n",
       "      <th></th>\n",
       "      <th>id</th>\n",
       "      <th>churn_probability</th>\n",
       "    </tr>\n",
       "  </thead>\n",
       "  <tbody>\n",
       "    <tr>\n",
       "      <th>0</th>\n",
       "      <td>69999</td>\n",
       "      <td>0</td>\n",
       "    </tr>\n",
       "    <tr>\n",
       "      <th>1</th>\n",
       "      <td>70000</td>\n",
       "      <td>0</td>\n",
       "    </tr>\n",
       "    <tr>\n",
       "      <th>2</th>\n",
       "      <td>70001</td>\n",
       "      <td>0</td>\n",
       "    </tr>\n",
       "    <tr>\n",
       "      <th>3</th>\n",
       "      <td>70002</td>\n",
       "      <td>0</td>\n",
       "    </tr>\n",
       "    <tr>\n",
       "      <th>4</th>\n",
       "      <td>70003</td>\n",
       "      <td>0</td>\n",
       "    </tr>\n",
       "  </tbody>\n",
       "</table>\n",
       "</div>"
      ],
      "text/plain": [
       "      id  churn_probability\n",
       "0  69999                  0\n",
       "1  70000                  0\n",
       "2  70001                  0\n",
       "3  70002                  0\n",
       "4  70003                  0"
      ]
     },
     "execution_count": 656,
     "metadata": {},
     "output_type": "execute_result"
    }
   ],
   "source": [
    "sample.head()"
   ]
  },
  {
   "cell_type": "code",
   "execution_count": 657,
   "metadata": {
    "execution": {
     "iopub.execute_input": "2022-05-02T17:56:34.254656Z",
     "iopub.status.busy": "2022-05-02T17:56:34.251457Z",
     "iopub.status.idle": "2022-05-02T17:56:34.311064Z",
     "shell.execute_reply": "2022-05-02T17:56:34.309949Z",
     "shell.execute_reply.started": "2022-05-02T17:56:34.254579Z"
    }
   },
   "outputs": [
    {
     "data": {
      "text/html": [
       "<div>\n",
       "<style scoped>\n",
       "    .dataframe tbody tr th:only-of-type {\n",
       "        vertical-align: middle;\n",
       "    }\n",
       "\n",
       "    .dataframe tbody tr th {\n",
       "        vertical-align: top;\n",
       "    }\n",
       "\n",
       "    .dataframe thead th {\n",
       "        text-align: right;\n",
       "    }\n",
       "</style>\n",
       "<table border=\"1\" class=\"dataframe\">\n",
       "  <thead>\n",
       "    <tr style=\"text-align: right;\">\n",
       "      <th></th>\n",
       "      <th>id</th>\n",
       "      <th>aon</th>\n",
       "      <th>aug_vbc_3g</th>\n",
       "      <th>jul_vbc_3g</th>\n",
       "      <th>jun_vbc_3g</th>\n",
       "      <th>avg_arpu_av67</th>\n",
       "      <th>avg_onnet_mou_av67</th>\n",
       "      <th>avg_offnet_mou_av67</th>\n",
       "      <th>avg_roam_ic_mou_av67</th>\n",
       "      <th>avg_roam_og_mou_av67</th>\n",
       "      <th>...</th>\n",
       "      <th>avg_max_rech_data_av67</th>\n",
       "      <th>avg_av_rech_amt_data_av67</th>\n",
       "      <th>avg_vol_2g_mb_av67</th>\n",
       "      <th>avg_vol_3g_mb_av67</th>\n",
       "      <th>avg_night_pck_user_av67</th>\n",
       "      <th>avg_monthly_2g_av67</th>\n",
       "      <th>avg_sachet_2g_av67</th>\n",
       "      <th>avg_monthly_3g_av67</th>\n",
       "      <th>avg_sachet_3g_av67</th>\n",
       "      <th>avg_fb_user_av67</th>\n",
       "    </tr>\n",
       "  </thead>\n",
       "  <tbody>\n",
       "    <tr>\n",
       "      <th>0</th>\n",
       "      <td>69999</td>\n",
       "      <td>1692</td>\n",
       "      <td>0.00</td>\n",
       "      <td>0.00</td>\n",
       "      <td>0.00</td>\n",
       "      <td>78.6060</td>\n",
       "      <td>26.005</td>\n",
       "      <td>46.160</td>\n",
       "      <td>0.000</td>\n",
       "      <td>0.000</td>\n",
       "      <td>...</td>\n",
       "      <td>NaN</td>\n",
       "      <td>NaN</td>\n",
       "      <td>0.0</td>\n",
       "      <td>0.0</td>\n",
       "      <td>NaN</td>\n",
       "      <td>0.0</td>\n",
       "      <td>0.0</td>\n",
       "      <td>0.0</td>\n",
       "      <td>0.0</td>\n",
       "      <td>NaN</td>\n",
       "    </tr>\n",
       "    <tr>\n",
       "      <th>1</th>\n",
       "      <td>70000</td>\n",
       "      <td>2533</td>\n",
       "      <td>0.00</td>\n",
       "      <td>0.00</td>\n",
       "      <td>0.00</td>\n",
       "      <td>464.8680</td>\n",
       "      <td>58.360</td>\n",
       "      <td>548.090</td>\n",
       "      <td>0.000</td>\n",
       "      <td>0.000</td>\n",
       "      <td>...</td>\n",
       "      <td>NaN</td>\n",
       "      <td>NaN</td>\n",
       "      <td>0.0</td>\n",
       "      <td>0.0</td>\n",
       "      <td>NaN</td>\n",
       "      <td>0.0</td>\n",
       "      <td>0.0</td>\n",
       "      <td>0.0</td>\n",
       "      <td>0.0</td>\n",
       "      <td>NaN</td>\n",
       "    </tr>\n",
       "    <tr>\n",
       "      <th>2</th>\n",
       "      <td>70001</td>\n",
       "      <td>277</td>\n",
       "      <td>525.61</td>\n",
       "      <td>758.41</td>\n",
       "      <td>241.84</td>\n",
       "      <td>382.3640</td>\n",
       "      <td>7.700</td>\n",
       "      <td>31.395</td>\n",
       "      <td>63.095</td>\n",
       "      <td>39.105</td>\n",
       "      <td>...</td>\n",
       "      <td>NaN</td>\n",
       "      <td>NaN</td>\n",
       "      <td>0.0</td>\n",
       "      <td>0.0</td>\n",
       "      <td>NaN</td>\n",
       "      <td>0.0</td>\n",
       "      <td>0.0</td>\n",
       "      <td>0.0</td>\n",
       "      <td>0.0</td>\n",
       "      <td>NaN</td>\n",
       "    </tr>\n",
       "    <tr>\n",
       "      <th>3</th>\n",
       "      <td>70002</td>\n",
       "      <td>1244</td>\n",
       "      <td>0.00</td>\n",
       "      <td>0.00</td>\n",
       "      <td>0.00</td>\n",
       "      <td>107.4700</td>\n",
       "      <td>3.735</td>\n",
       "      <td>122.525</td>\n",
       "      <td>0.000</td>\n",
       "      <td>0.000</td>\n",
       "      <td>...</td>\n",
       "      <td>NaN</td>\n",
       "      <td>NaN</td>\n",
       "      <td>0.0</td>\n",
       "      <td>0.0</td>\n",
       "      <td>NaN</td>\n",
       "      <td>0.0</td>\n",
       "      <td>0.0</td>\n",
       "      <td>0.0</td>\n",
       "      <td>0.0</td>\n",
       "      <td>NaN</td>\n",
       "    </tr>\n",
       "    <tr>\n",
       "      <th>4</th>\n",
       "      <td>70003</td>\n",
       "      <td>462</td>\n",
       "      <td>0.00</td>\n",
       "      <td>0.00</td>\n",
       "      <td>0.00</td>\n",
       "      <td>356.5715</td>\n",
       "      <td>529.980</td>\n",
       "      <td>42.390</td>\n",
       "      <td>0.000</td>\n",
       "      <td>0.000</td>\n",
       "      <td>...</td>\n",
       "      <td>NaN</td>\n",
       "      <td>NaN</td>\n",
       "      <td>0.0</td>\n",
       "      <td>0.0</td>\n",
       "      <td>NaN</td>\n",
       "      <td>0.0</td>\n",
       "      <td>0.0</td>\n",
       "      <td>0.0</td>\n",
       "      <td>0.0</td>\n",
       "      <td>NaN</td>\n",
       "    </tr>\n",
       "  </tbody>\n",
       "</table>\n",
       "<p>5 rows × 44 columns</p>\n",
       "</div>"
      ],
      "text/plain": [
       "      id   aon  aug_vbc_3g  jul_vbc_3g  jun_vbc_3g  avg_arpu_av67  \\\n",
       "0  69999  1692        0.00        0.00        0.00        78.6060   \n",
       "1  70000  2533        0.00        0.00        0.00       464.8680   \n",
       "2  70001   277      525.61      758.41      241.84       382.3640   \n",
       "3  70002  1244        0.00        0.00        0.00       107.4700   \n",
       "4  70003   462        0.00        0.00        0.00       356.5715   \n",
       "\n",
       "   avg_onnet_mou_av67  avg_offnet_mou_av67  avg_roam_ic_mou_av67  \\\n",
       "0              26.005               46.160                 0.000   \n",
       "1              58.360              548.090                 0.000   \n",
       "2               7.700               31.395                63.095   \n",
       "3               3.735              122.525                 0.000   \n",
       "4             529.980               42.390                 0.000   \n",
       "\n",
       "   avg_roam_og_mou_av67  ...  avg_max_rech_data_av67  \\\n",
       "0                 0.000  ...                     NaN   \n",
       "1                 0.000  ...                     NaN   \n",
       "2                39.105  ...                     NaN   \n",
       "3                 0.000  ...                     NaN   \n",
       "4                 0.000  ...                     NaN   \n",
       "\n",
       "   avg_av_rech_amt_data_av67  avg_vol_2g_mb_av67  avg_vol_3g_mb_av67  \\\n",
       "0                        NaN                 0.0                 0.0   \n",
       "1                        NaN                 0.0                 0.0   \n",
       "2                        NaN                 0.0                 0.0   \n",
       "3                        NaN                 0.0                 0.0   \n",
       "4                        NaN                 0.0                 0.0   \n",
       "\n",
       "   avg_night_pck_user_av67  avg_monthly_2g_av67  avg_sachet_2g_av67  \\\n",
       "0                      NaN                  0.0                 0.0   \n",
       "1                      NaN                  0.0                 0.0   \n",
       "2                      NaN                  0.0                 0.0   \n",
       "3                      NaN                  0.0                 0.0   \n",
       "4                      NaN                  0.0                 0.0   \n",
       "\n",
       "   avg_monthly_3g_av67  avg_sachet_3g_av67  avg_fb_user_av67  \n",
       "0                  0.0                 0.0               NaN  \n",
       "1                  0.0                 0.0               NaN  \n",
       "2                  0.0                 0.0               NaN  \n",
       "3                  0.0                 0.0               NaN  \n",
       "4                  0.0                 0.0               NaN  \n",
       "\n",
       "[5 rows x 44 columns]"
      ]
     },
     "execution_count": 657,
     "metadata": {},
     "output_type": "execute_result"
    }
   ],
   "source": [
    "unseen.head()"
   ]
  },
  {
   "cell_type": "code",
   "execution_count": 658,
   "metadata": {
    "execution": {
     "iopub.execute_input": "2022-05-02T17:56:34.320355Z",
     "iopub.status.busy": "2022-05-02T17:56:34.317732Z",
     "iopub.status.idle": "2022-05-02T17:56:34.325385Z",
     "shell.execute_reply": "2022-05-02T17:56:34.324372Z",
     "shell.execute_reply.started": "2022-05-02T17:56:34.320265Z"
    }
   },
   "outputs": [],
   "source": [
    "newvars=unseen.columns"
   ]
  },
  {
   "cell_type": "code",
   "execution_count": 659,
   "metadata": {
    "execution": {
     "iopub.execute_input": "2022-05-02T17:56:34.326991Z",
     "iopub.status.busy": "2022-05-02T17:56:34.326749Z",
     "iopub.status.idle": "2022-05-02T17:56:34.340202Z",
     "shell.execute_reply": "2022-05-02T17:56:34.339112Z",
     "shell.execute_reply.started": "2022-05-02T17:56:34.326962Z"
    }
   },
   "outputs": [
    {
     "name": "stdout",
     "output_type": "stream",
     "text": [
      "Index(['id', 'aon', 'aug_vbc_3g', 'jul_vbc_3g', 'jun_vbc_3g', 'avg_arpu_av67',\n",
      "       'avg_onnet_mou_av67', 'avg_offnet_mou_av67', 'avg_roam_ic_mou_av67',\n",
      "       'avg_roam_og_mou_av67', 'avg_loc_og_t2t_mou_av67',\n",
      "       'avg_loc_og_t2m_mou_av67', 'avg_loc_og_t2f_mou_av67',\n",
      "       'avg_loc_og_t2c_mou_av67', 'avg_std_og_t2t_mou_av67',\n",
      "       'avg_std_og_t2m_mou_av67', 'avg_std_og_t2f_mou_av67',\n",
      "       'avg_isd_og_mou_av67', 'avg_spl_og_mou_av67', 'avg_og_others_av67',\n",
      "       'avg_loc_ic_t2t_mou_av67', 'avg_loc_ic_t2m_mou_av67',\n",
      "       'avg_loc_ic_t2f_mou_av67', 'avg_std_ic_t2t_mou_av67',\n",
      "       'avg_std_ic_t2m_mou_av67', 'avg_std_ic_t2f_mou_av67',\n",
      "       'avg_spl_ic_mou_av67', 'avg_isd_ic_mou_av67', 'avg_ic_others_av67',\n",
      "       'avg_total_rech_num_av67', 'avg_total_rech_amt_av67',\n",
      "       'avg_max_rech_amt_av67', 'avg_last_day_rch_amt_av67',\n",
      "       'avg_total_rech_data_av67', 'avg_max_rech_data_av67',\n",
      "       'avg_av_rech_amt_data_av67', 'avg_vol_2g_mb_av67', 'avg_vol_3g_mb_av67',\n",
      "       'avg_night_pck_user_av67', 'avg_monthly_2g_av67', 'avg_sachet_2g_av67',\n",
      "       'avg_monthly_3g_av67', 'avg_sachet_3g_av67', 'avg_fb_user_av67'],\n",
      "      dtype='object')\n"
     ]
    }
   ],
   "source": [
    "print(newvars)"
   ]
  },
  {
   "cell_type": "code",
   "execution_count": 660,
   "metadata": {
    "execution": {
     "iopub.execute_input": "2022-05-02T17:56:34.341945Z",
     "iopub.status.busy": "2022-05-02T17:56:34.341491Z",
     "iopub.status.idle": "2022-05-02T17:56:34.367608Z",
     "shell.execute_reply": "2022-05-02T17:56:34.366674Z",
     "shell.execute_reply.started": "2022-05-02T17:56:34.341896Z"
    }
   },
   "outputs": [
    {
     "name": "stdout",
     "output_type": "stream",
     "text": [
      "<class 'pandas.core.frame.DataFrame'>\n",
      "RangeIndex: 30000 entries, 0 to 29999\n",
      "Data columns (total 44 columns):\n",
      " #   Column                     Non-Null Count  Dtype  \n",
      "---  ------                     --------------  -----  \n",
      " 0   id                         30000 non-null  int64  \n",
      " 1   aon                        30000 non-null  int64  \n",
      " 2   aug_vbc_3g                 30000 non-null  float64\n",
      " 3   jul_vbc_3g                 30000 non-null  float64\n",
      " 4   jun_vbc_3g                 30000 non-null  float64\n",
      " 5   avg_arpu_av67              30000 non-null  float64\n",
      " 6   avg_onnet_mou_av67         28208 non-null  float64\n",
      " 7   avg_offnet_mou_av67        28208 non-null  float64\n",
      " 8   avg_roam_ic_mou_av67       28208 non-null  float64\n",
      " 9   avg_roam_og_mou_av67       28208 non-null  float64\n",
      " 10  avg_loc_og_t2t_mou_av67    28208 non-null  float64\n",
      " 11  avg_loc_og_t2m_mou_av67    28208 non-null  float64\n",
      " 12  avg_loc_og_t2f_mou_av67    28208 non-null  float64\n",
      " 13  avg_loc_og_t2c_mou_av67    28208 non-null  float64\n",
      " 14  avg_std_og_t2t_mou_av67    28208 non-null  float64\n",
      " 15  avg_std_og_t2m_mou_av67    28208 non-null  float64\n",
      " 16  avg_std_og_t2f_mou_av67    28208 non-null  float64\n",
      " 17  avg_isd_og_mou_av67        28208 non-null  float64\n",
      " 18  avg_spl_og_mou_av67        28208 non-null  float64\n",
      " 19  avg_og_others_av67         28208 non-null  float64\n",
      " 20  avg_loc_ic_t2t_mou_av67    28208 non-null  float64\n",
      " 21  avg_loc_ic_t2m_mou_av67    28208 non-null  float64\n",
      " 22  avg_loc_ic_t2f_mou_av67    28208 non-null  float64\n",
      " 23  avg_std_ic_t2t_mou_av67    28208 non-null  float64\n",
      " 24  avg_std_ic_t2m_mou_av67    28208 non-null  float64\n",
      " 25  avg_std_ic_t2f_mou_av67    28208 non-null  float64\n",
      " 26  avg_spl_ic_mou_av67        28208 non-null  float64\n",
      " 27  avg_isd_ic_mou_av67        28208 non-null  float64\n",
      " 28  avg_ic_others_av67         28208 non-null  float64\n",
      " 29  avg_total_rech_num_av67    30000 non-null  float64\n",
      " 30  avg_total_rech_amt_av67    30000 non-null  float64\n",
      " 31  avg_max_rech_amt_av67      30000 non-null  float64\n",
      " 32  avg_last_day_rch_amt_av67  30000 non-null  float64\n",
      " 33  avg_total_rech_data_av67   5601 non-null   float64\n",
      " 34  avg_max_rech_data_av67     5601 non-null   float64\n",
      " 35  avg_av_rech_amt_data_av67  5601 non-null   float64\n",
      " 36  avg_vol_2g_mb_av67         30000 non-null  float64\n",
      " 37  avg_vol_3g_mb_av67         30000 non-null  float64\n",
      " 38  avg_night_pck_user_av67    5601 non-null   float64\n",
      " 39  avg_monthly_2g_av67        30000 non-null  float64\n",
      " 40  avg_sachet_2g_av67         30000 non-null  float64\n",
      " 41  avg_monthly_3g_av67        30000 non-null  float64\n",
      " 42  avg_sachet_3g_av67         30000 non-null  float64\n",
      " 43  avg_fb_user_av67           5601 non-null   float64\n",
      "dtypes: float64(42), int64(2)\n",
      "memory usage: 10.1 MB\n"
     ]
    }
   ],
   "source": [
    "unseen.info(verbose=all)"
   ]
  },
  {
   "cell_type": "code",
   "execution_count": 661,
   "metadata": {
    "execution": {
     "iopub.execute_input": "2022-05-02T17:56:34.36911Z",
     "iopub.status.busy": "2022-05-02T17:56:34.368868Z",
     "iopub.status.idle": "2022-05-02T17:56:34.375197Z",
     "shell.execute_reply": "2022-05-02T17:56:34.374484Z",
     "shell.execute_reply.started": "2022-05-02T17:56:34.369079Z"
    }
   },
   "outputs": [
    {
     "data": {
      "text/plain": [
       "(30000, 44)"
      ]
     },
     "execution_count": 661,
     "metadata": {},
     "output_type": "execute_result"
    }
   ],
   "source": [
    "unseen.shape\n"
   ]
  },
  {
   "cell_type": "code",
   "execution_count": 662,
   "metadata": {
    "execution": {
     "iopub.execute_input": "2022-05-02T17:56:34.377366Z",
     "iopub.status.busy": "2022-05-02T17:56:34.376479Z",
     "iopub.status.idle": "2022-05-02T17:56:34.402956Z",
     "shell.execute_reply": "2022-05-02T17:56:34.402043Z",
     "shell.execute_reply.started": "2022-05-02T17:56:34.377318Z"
    }
   },
   "outputs": [
    {
     "name": "stdout",
     "output_type": "stream",
     "text": [
      "<class 'pandas.core.frame.DataFrame'>\n",
      "RangeIndex: 30000 entries, 0 to 29999\n",
      "Data columns (total 44 columns):\n",
      " #   Column                     Non-Null Count  Dtype  \n",
      "---  ------                     --------------  -----  \n",
      " 0   id                         30000 non-null  int64  \n",
      " 1   aon                        30000 non-null  int64  \n",
      " 2   aug_vbc_3g                 30000 non-null  float64\n",
      " 3   jul_vbc_3g                 30000 non-null  float64\n",
      " 4   jun_vbc_3g                 30000 non-null  float64\n",
      " 5   avg_arpu_av67              30000 non-null  float64\n",
      " 6   avg_onnet_mou_av67         28208 non-null  float64\n",
      " 7   avg_offnet_mou_av67        28208 non-null  float64\n",
      " 8   avg_roam_ic_mou_av67       28208 non-null  float64\n",
      " 9   avg_roam_og_mou_av67       28208 non-null  float64\n",
      " 10  avg_loc_og_t2t_mou_av67    28208 non-null  float64\n",
      " 11  avg_loc_og_t2m_mou_av67    28208 non-null  float64\n",
      " 12  avg_loc_og_t2f_mou_av67    28208 non-null  float64\n",
      " 13  avg_loc_og_t2c_mou_av67    28208 non-null  float64\n",
      " 14  avg_std_og_t2t_mou_av67    28208 non-null  float64\n",
      " 15  avg_std_og_t2m_mou_av67    28208 non-null  float64\n",
      " 16  avg_std_og_t2f_mou_av67    28208 non-null  float64\n",
      " 17  avg_isd_og_mou_av67        28208 non-null  float64\n",
      " 18  avg_spl_og_mou_av67        28208 non-null  float64\n",
      " 19  avg_og_others_av67         28208 non-null  float64\n",
      " 20  avg_loc_ic_t2t_mou_av67    28208 non-null  float64\n",
      " 21  avg_loc_ic_t2m_mou_av67    28208 non-null  float64\n",
      " 22  avg_loc_ic_t2f_mou_av67    28208 non-null  float64\n",
      " 23  avg_std_ic_t2t_mou_av67    28208 non-null  float64\n",
      " 24  avg_std_ic_t2m_mou_av67    28208 non-null  float64\n",
      " 25  avg_std_ic_t2f_mou_av67    28208 non-null  float64\n",
      " 26  avg_spl_ic_mou_av67        28208 non-null  float64\n",
      " 27  avg_isd_ic_mou_av67        28208 non-null  float64\n",
      " 28  avg_ic_others_av67         28208 non-null  float64\n",
      " 29  avg_total_rech_num_av67    30000 non-null  float64\n",
      " 30  avg_total_rech_amt_av67    30000 non-null  float64\n",
      " 31  avg_max_rech_amt_av67      30000 non-null  float64\n",
      " 32  avg_last_day_rch_amt_av67  30000 non-null  float64\n",
      " 33  avg_total_rech_data_av67   5601 non-null   float64\n",
      " 34  avg_max_rech_data_av67     5601 non-null   float64\n",
      " 35  avg_av_rech_amt_data_av67  5601 non-null   float64\n",
      " 36  avg_vol_2g_mb_av67         30000 non-null  float64\n",
      " 37  avg_vol_3g_mb_av67         30000 non-null  float64\n",
      " 38  avg_night_pck_user_av67    5601 non-null   float64\n",
      " 39  avg_monthly_2g_av67        30000 non-null  float64\n",
      " 40  avg_sachet_2g_av67         30000 non-null  float64\n",
      " 41  avg_monthly_3g_av67        30000 non-null  float64\n",
      " 42  avg_sachet_3g_av67         30000 non-null  float64\n",
      " 43  avg_fb_user_av67           5601 non-null   float64\n",
      "dtypes: float64(42), int64(2)\n",
      "memory usage: 10.1 MB\n"
     ]
    }
   ],
   "source": [
    "unseen.info(verbose=all)"
   ]
  },
  {
   "cell_type": "code",
   "execution_count": 663,
   "metadata": {
    "execution": {
     "iopub.execute_input": "2022-05-02T17:56:34.405045Z",
     "iopub.status.busy": "2022-05-02T17:56:34.404537Z",
     "iopub.status.idle": "2022-05-02T17:56:34.409142Z",
     "shell.execute_reply": "2022-05-02T17:56:34.408492Z",
     "shell.execute_reply.started": "2022-05-02T17:56:34.404995Z"
    }
   },
   "outputs": [],
   "source": [
    "#unseen.drop('id',axis=1,inplace=True)"
   ]
  },
  {
   "cell_type": "code",
   "execution_count": 664,
   "metadata": {
    "execution": {
     "iopub.execute_input": "2022-05-02T17:56:34.410742Z",
     "iopub.status.busy": "2022-05-02T17:56:34.410432Z",
     "iopub.status.idle": "2022-05-02T17:56:34.422647Z",
     "shell.execute_reply": "2022-05-02T17:56:34.421854Z",
     "shell.execute_reply.started": "2022-05-02T17:56:34.410691Z"
    }
   },
   "outputs": [
    {
     "name": "stdout",
     "output_type": "stream",
     "text": [
      "['id', 'aon', 'aug_vbc_3g', 'jul_vbc_3g', 'jun_vbc_3g', 'avg_arpu_av67', 'avg_onnet_mou_av67', 'avg_offnet_mou_av67', 'avg_roam_ic_mou_av67', 'avg_roam_og_mou_av67', 'avg_loc_og_t2t_mou_av67', 'avg_loc_og_t2m_mou_av67', 'avg_loc_og_t2f_mou_av67', 'avg_loc_og_t2c_mou_av67', 'avg_std_og_t2t_mou_av67', 'avg_std_og_t2m_mou_av67', 'avg_std_og_t2f_mou_av67', 'avg_isd_og_mou_av67', 'avg_spl_og_mou_av67', 'avg_og_others_av67', 'avg_loc_ic_t2t_mou_av67', 'avg_loc_ic_t2m_mou_av67', 'avg_loc_ic_t2f_mou_av67', 'avg_std_ic_t2t_mou_av67', 'avg_std_ic_t2m_mou_av67', 'avg_std_ic_t2f_mou_av67', 'avg_spl_ic_mou_av67', 'avg_isd_ic_mou_av67', 'avg_ic_others_av67', 'avg_total_rech_num_av67', 'avg_total_rech_amt_av67', 'avg_max_rech_amt_av67', 'avg_last_day_rch_amt_av67', 'avg_total_rech_data_av67', 'avg_max_rech_data_av67', 'avg_av_rech_amt_data_av67', 'avg_vol_2g_mb_av67', 'avg_vol_3g_mb_av67', 'avg_night_pck_user_av67', 'avg_monthly_2g_av67', 'avg_sachet_2g_av67', 'avg_monthly_3g_av67', 'avg_sachet_3g_av67', 'avg_fb_user_av67']\n"
     ]
    }
   ],
   "source": [
    "newvars=unseen.columns.tolist()\n",
    "print(newvars)"
   ]
  },
  {
   "cell_type": "code",
   "execution_count": 665,
   "metadata": {
    "execution": {
     "iopub.execute_input": "2022-05-02T17:56:34.4262Z",
     "iopub.status.busy": "2022-05-02T17:56:34.425704Z",
     "iopub.status.idle": "2022-05-02T17:56:34.433017Z",
     "shell.execute_reply": "2022-05-02T17:56:34.432349Z",
     "shell.execute_reply.started": "2022-05-02T17:56:34.426158Z"
    }
   },
   "outputs": [],
   "source": [
    "#submission_data = unseen.set_index('id')[newvars]\n",
    "#submission_data.shape"
   ]
  },
  {
   "cell_type": "code",
   "execution_count": 666,
   "metadata": {
    "execution": {
     "iopub.execute_input": "2022-05-02T18:03:24.076101Z",
     "iopub.status.busy": "2022-05-02T18:03:24.074898Z",
     "iopub.status.idle": "2022-05-02T18:03:24.110367Z",
     "shell.execute_reply": "2022-05-02T18:03:24.10939Z",
     "shell.execute_reply.started": "2022-05-02T18:03:24.076047Z"
    }
   },
   "outputs": [],
   "source": [
    "missing_data_percent = unseen.isnull().any()\n",
    "impute_cols = missing_data_percent[missing_data_percent.gt(0)].index\n",
    "impute_cols\n",
    "imp = SimpleImputer(strategy='constant', fill_value=0)\n",
    "unseen[impute_cols] = imp.fit_transform(unseen[impute_cols])"
   ]
  },
  {
   "cell_type": "code",
   "execution_count": 667,
   "metadata": {
    "execution": {
     "iopub.execute_input": "2022-05-02T18:03:46.623837Z",
     "iopub.status.busy": "2022-05-02T18:03:46.622987Z",
     "iopub.status.idle": "2022-05-02T18:03:46.634716Z",
     "shell.execute_reply": "2022-05-02T18:03:46.633668Z",
     "shell.execute_reply.started": "2022-05-02T18:03:46.623785Z"
    }
   },
   "outputs": [
    {
     "data": {
      "text/plain": [
       "Index([], dtype='object')"
      ]
     },
     "execution_count": 667,
     "metadata": {},
     "output_type": "execute_result"
    }
   ],
   "source": [
    "missing_data_percent = unseen.isnull().any()\n",
    "impute_cols = missing_data_percent[missing_data_percent.gt(0)].index\n",
    "impute_cols"
   ]
  },
  {
   "cell_type": "code",
   "execution_count": 668,
   "metadata": {
    "execution": {
     "iopub.execute_input": "2022-05-02T18:04:00.661742Z",
     "iopub.status.busy": "2022-05-02T18:04:00.661039Z",
     "iopub.status.idle": "2022-05-02T18:04:00.716746Z",
     "shell.execute_reply": "2022-05-02T18:04:00.71388Z",
     "shell.execute_reply.started": "2022-05-02T18:04:00.661689Z"
    }
   },
   "outputs": [
    {
     "data": {
      "text/html": [
       "<div>\n",
       "<style scoped>\n",
       "    .dataframe tbody tr th:only-of-type {\n",
       "        vertical-align: middle;\n",
       "    }\n",
       "\n",
       "    .dataframe tbody tr th {\n",
       "        vertical-align: top;\n",
       "    }\n",
       "\n",
       "    .dataframe thead th {\n",
       "        text-align: right;\n",
       "    }\n",
       "</style>\n",
       "<table border=\"1\" class=\"dataframe\">\n",
       "  <thead>\n",
       "    <tr style=\"text-align: right;\">\n",
       "      <th></th>\n",
       "      <th>id</th>\n",
       "      <th>churn_probability</th>\n",
       "    </tr>\n",
       "  </thead>\n",
       "  <tbody>\n",
       "    <tr>\n",
       "      <th>0</th>\n",
       "      <td>69999</td>\n",
       "      <td>1</td>\n",
       "    </tr>\n",
       "    <tr>\n",
       "      <th>1</th>\n",
       "      <td>70000</td>\n",
       "      <td>0</td>\n",
       "    </tr>\n",
       "    <tr>\n",
       "      <th>2</th>\n",
       "      <td>70001</td>\n",
       "      <td>0</td>\n",
       "    </tr>\n",
       "    <tr>\n",
       "      <th>3</th>\n",
       "      <td>70002</td>\n",
       "      <td>0</td>\n",
       "    </tr>\n",
       "    <tr>\n",
       "      <th>4</th>\n",
       "      <td>70003</td>\n",
       "      <td>1</td>\n",
       "    </tr>\n",
       "  </tbody>\n",
       "</table>\n",
       "</div>"
      ],
      "text/plain": [
       "      id  churn_probability\n",
       "0  69999                  1\n",
       "1  70000                  0\n",
       "2  70001                  0\n",
       "3  70002                  0\n",
       "4  70003                  1"
      ]
     },
     "execution_count": 668,
     "metadata": {},
     "output_type": "execute_result"
    }
   ],
   "source": [
    "unseen['churn_probability'] = pipeline.predict(unseen)\n",
    "output = unseen[['id','churn_probability']]\n",
    "output.head()"
   ]
  },
  {
   "cell_type": "code",
   "execution_count": 669,
   "metadata": {
    "execution": {
     "iopub.execute_input": "2022-05-02T18:04:06.008975Z",
     "iopub.status.busy": "2022-05-02T18:04:06.008679Z",
     "iopub.status.idle": "2022-05-02T18:04:06.06601Z",
     "shell.execute_reply": "2022-05-02T18:04:06.064951Z",
     "shell.execute_reply.started": "2022-05-02T18:04:06.008945Z"
    }
   },
   "outputs": [],
   "source": [
    "output.to_csv('submission.csv',index=False)"
   ]
  },
  {
   "cell_type": "code",
   "execution_count": null,
   "metadata": {},
   "outputs": [],
   "source": []
  },
  {
   "cell_type": "code",
   "execution_count": null,
   "metadata": {},
   "outputs": [],
   "source": []
  },
  {
   "cell_type": "code",
   "execution_count": null,
   "metadata": {},
   "outputs": [],
   "source": []
  },
  {
   "cell_type": "code",
   "execution_count": null,
   "metadata": {},
   "outputs": [],
   "source": []
  }
 ],
 "metadata": {
  "kernelspec": {
   "display_name": "Python 3 (ipykernel)",
   "language": "python",
   "name": "python3"
  },
  "language_info": {
   "codemirror_mode": {
    "name": "ipython",
    "version": 3
   },
   "file_extension": ".py",
   "mimetype": "text/x-python",
   "name": "python",
   "nbconvert_exporter": "python",
   "pygments_lexer": "ipython3",
   "version": "3.9.7"
  }
 },
 "nbformat": 4,
 "nbformat_minor": 4
}
